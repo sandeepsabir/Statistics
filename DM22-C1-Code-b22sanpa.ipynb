{
 "cells": [
  {
   "cell_type": "markdown",
   "id": "4a5b6e2f",
   "metadata": {},
   "source": [
    "# Task 1: Basic statistics"
   ]
  },
  {
   "cell_type": "markdown",
   "id": "543ba63e",
   "metadata": {},
   "source": [
    "For this task, I initially created dataframe with columns Outdoor_temp and Supply_temp with the DataFrame function of the pandas library. Then, I calculated means of both these columns by calling the mean function from the statistics library. Then, I calculated the statistical formula need to calcualte and add to seperate dataframes. Then, I merged all the calculated dataframes to form a table, with the concat function from the pandas library.\n",
    "\n",
    "Then, I calculated the Covariance with the formula,\n",
    "\n",
    "Covariance = sum((y - mean(y)) * (x - mean(x))) / (Number of rows - 1)\n",
    "\n",
    "To get the number of rows, I used the shape function of the dataset.\n",
    "\n",
    "Finaly, I printed the means of each variable, Outdoor_temp and Supply_temp. Also, the covariance of the Outdoor_temp and Supply_temp. Finally, the whole dataset with the result I got."
   ]
  },
  {
   "cell_type": "code",
   "execution_count": 441,
   "id": "ee48eb41",
   "metadata": {},
   "outputs": [
    {
     "name": "stdout",
     "output_type": "stream",
     "text": [
      "Mean of Outdoor_temp is 5.064285714285714 and mean of Supply_temp is 35.0 \n",
      "\n",
      "Covariance of Outdoor_temp and Supply_temp is -5.192307692307692 \n",
      "\n",
      "    Outdoor_temp  Supply_temp  (y - ymean)  (x - xmean)  (y - ymean)^2  \\\n",
      "1            7.8         32.1         -2.9     2.735714           8.41   \n",
      "2            7.3         32.6         -2.4     2.235714           5.76   \n",
      "3            2.7         37.4          2.4    -2.364286           5.76   \n",
      "4            2.0         38.3          3.3    -3.064286          10.89   \n",
      "5            2.9         37.3          2.3    -2.164286           5.29   \n",
      "6            3.7         36.5          1.5    -1.364286           2.25   \n",
      "7            4.1         36.1          1.1    -0.964286           1.21   \n",
      "8            4.3         35.8          0.8    -0.764286           0.64   \n",
      "9            4.4         35.7          0.7    -0.664286           0.49   \n",
      "10           4.3         35.7          0.7    -0.764286           0.49   \n",
      "11           5.7         34.4         -0.6     0.635714           0.36   \n",
      "12           4.6         35.5          0.5    -0.464286           0.25   \n",
      "13           7.5         32.4         -2.6     2.435714           6.76   \n",
      "14           9.6         30.2         -4.8     4.535714          23.04   \n",
      "\n",
      "    (x - xmean)^2  (y - ymean)(x - xmean)  \n",
      "1        7.484133               -7.933571  \n",
      "2        4.998418               -5.365714  \n",
      "3        5.589847               -5.674286  \n",
      "4        9.389847              -10.112143  \n",
      "5        4.684133               -4.977857  \n",
      "6        1.861276               -2.046429  \n",
      "7        0.929847               -1.060714  \n",
      "8        0.584133               -0.611429  \n",
      "9        0.441276               -0.465000  \n",
      "10       0.584133               -0.535000  \n",
      "11       0.404133               -0.381429  \n",
      "12       0.215561               -0.232143  \n",
      "13       5.932704               -6.332857  \n",
      "14      20.572704              -21.771429  \n"
     ]
    }
   ],
   "source": [
    "# Imported libraries\n",
    "import pandas as pd\n",
    "from statistics import mean\n",
    "\n",
    "# Created DataFrame\n",
    "df = pd.DataFrame({'Outdoor_temp':[7.8,7.3,2.7,2.0,2.9,3.7,4.1,4.3,4.4,4.3,5.7,4.6,7.5,9.6],\n",
    "                   'Supply_temp':[32.1,32.6,37.4,38.3,37.3,36.5,36.1,35.8,35.7,35.7,34.4,35.5,32.4,30.2]})\n",
    "\n",
    "# Made index of the dataframe starts with 1\n",
    "df.index = df.index + 1\n",
    "\n",
    "# Columns Outdoor_temp and Supply_temp are assigned with variables x and y respectively\n",
    "x = df.iloc[:,0]\n",
    "y = df.iloc[:,1]\n",
    "\n",
    "# Calculated means of columns x and y\n",
    "mean_x = mean(x)\n",
    "mean_y = mean(y)\n",
    "print(\"Mean of Outdoor_temp is\", mean_x, \"and mean of Supply_temp is\", mean_y, \"\\n\")\n",
    "\n",
    "# Create the data frames of each statistical formulas\n",
    "df1 = pd.DataFrame({'(y - ymean)': y - mean_y})\n",
    "df2 = pd.DataFrame({'(x - xmean)': x - mean_x})\n",
    "df3 = pd.DataFrame({'(y - ymean)^2': (y - mean_y) ** 2})\n",
    "df4 = pd.DataFrame({'(x - xmean)^2': (x - mean_x) ** 2})\n",
    "df5 = pd.DataFrame({'(y - ymean)(x - xmean)': (y - mean_y) * (x - mean_x)})\n",
    "\n",
    "# Merge all the data frames\n",
    "df_Stats = pd.concat([df,df1,df2,df3,df4,df5], axis=1, join='inner')\n",
    "\n",
    "# Calculate and print covariance of x and y\n",
    "print(\"Covariance of Outdoor_temp and Supply_temp is\", ((y - mean_y) * (x - mean_x)).sum()/(df_Stats.shape[0] - 1), \"\\n\")\n",
    "\n",
    "# Print all the statistical results\n",
    "print(df_Stats)"
   ]
  },
  {
   "cell_type": "markdown",
   "id": "05a90ea5",
   "metadata": {},
   "source": [
    "# Task 2: Linear Regression"
   ]
  },
  {
   "cell_type": "markdown",
   "id": "c61d88f5",
   "metadata": {},
   "source": [
    "# Data Exploration"
   ]
  },
  {
   "cell_type": "markdown",
   "id": "be9dba99",
   "metadata": {},
   "source": [
    "At first, I imported the advertising dataset and given the first column name 'No.', which was null."
   ]
  },
  {
   "cell_type": "code",
   "execution_count": 442,
   "id": "e1bdcd34",
   "metadata": {},
   "outputs": [],
   "source": [
    "# Imported libraries\n",
    "import numpy as np\n",
    "from sklearn.linear_model import LinearRegression\n",
    "import matplotlib.pyplot as plt\n",
    "from sklearn.metrics import r2_score, mean_squared_error, mean_absolute_error, median_absolute_error, explained_variance_score\n",
    "from math import sqrt\n",
    "import seaborn as sb"
   ]
  },
  {
   "cell_type": "code",
   "execution_count": 443,
   "id": "1ea2e805",
   "metadata": {},
   "outputs": [],
   "source": [
    "# Imported advertising dataset\n",
    "advertising_df = pd.read_csv(\"Advertising.csv\")"
   ]
  },
  {
   "cell_type": "code",
   "execution_count": 444,
   "id": "e01614a3",
   "metadata": {},
   "outputs": [],
   "source": [
    "# First column name was null. Renamed column name to 'No.'\n",
    "advertising_df.rename(columns={advertising_df.columns[0]: 'No.'}, inplace=True)"
   ]
  },
  {
   "cell_type": "code",
   "execution_count": 445,
   "id": "456b9f86",
   "metadata": {},
   "outputs": [
    {
     "name": "stdout",
     "output_type": "stream",
     "text": [
      "(200, 5)\n"
     ]
    }
   ],
   "source": [
    "# Find number of rows and columns of the dataset\n",
    "print(advertising_df.shape)"
   ]
  },
  {
   "cell_type": "markdown",
   "id": "67527431",
   "metadata": {},
   "source": [
    "There are 200 rows and 5 columns in the dataset. Now, we will get the first 5 rows using the head function."
   ]
  },
  {
   "cell_type": "code",
   "execution_count": 446,
   "id": "ee5638a5",
   "metadata": {},
   "outputs": [
    {
     "data": {
      "text/html": [
       "<div>\n",
       "<style scoped>\n",
       "    .dataframe tbody tr th:only-of-type {\n",
       "        vertical-align: middle;\n",
       "    }\n",
       "\n",
       "    .dataframe tbody tr th {\n",
       "        vertical-align: top;\n",
       "    }\n",
       "\n",
       "    .dataframe thead th {\n",
       "        text-align: right;\n",
       "    }\n",
       "</style>\n",
       "<table border=\"1\" class=\"dataframe\">\n",
       "  <thead>\n",
       "    <tr style=\"text-align: right;\">\n",
       "      <th></th>\n",
       "      <th>No.</th>\n",
       "      <th>TV</th>\n",
       "      <th>radio</th>\n",
       "      <th>newspaper</th>\n",
       "      <th>sales</th>\n",
       "    </tr>\n",
       "  </thead>\n",
       "  <tbody>\n",
       "    <tr>\n",
       "      <th>0</th>\n",
       "      <td>1</td>\n",
       "      <td>230.1</td>\n",
       "      <td>37.8</td>\n",
       "      <td>69.2</td>\n",
       "      <td>22.1</td>\n",
       "    </tr>\n",
       "    <tr>\n",
       "      <th>1</th>\n",
       "      <td>2</td>\n",
       "      <td>44.5</td>\n",
       "      <td>39.3</td>\n",
       "      <td>45.1</td>\n",
       "      <td>10.4</td>\n",
       "    </tr>\n",
       "    <tr>\n",
       "      <th>2</th>\n",
       "      <td>3</td>\n",
       "      <td>17.2</td>\n",
       "      <td>45.9</td>\n",
       "      <td>69.3</td>\n",
       "      <td>9.3</td>\n",
       "    </tr>\n",
       "    <tr>\n",
       "      <th>3</th>\n",
       "      <td>4</td>\n",
       "      <td>151.5</td>\n",
       "      <td>41.3</td>\n",
       "      <td>58.5</td>\n",
       "      <td>18.5</td>\n",
       "    </tr>\n",
       "    <tr>\n",
       "      <th>4</th>\n",
       "      <td>5</td>\n",
       "      <td>180.8</td>\n",
       "      <td>10.8</td>\n",
       "      <td>58.4</td>\n",
       "      <td>12.9</td>\n",
       "    </tr>\n",
       "  </tbody>\n",
       "</table>\n",
       "</div>"
      ],
      "text/plain": [
       "   No.     TV  radio  newspaper  sales\n",
       "0    1  230.1   37.8       69.2   22.1\n",
       "1    2   44.5   39.3       45.1   10.4\n",
       "2    3   17.2   45.9       69.3    9.3\n",
       "3    4  151.5   41.3       58.5   18.5\n",
       "4    5  180.8   10.8       58.4   12.9"
      ]
     },
     "execution_count": 446,
     "metadata": {},
     "output_type": "execute_result"
    }
   ],
   "source": [
    "# Get first rows of the dataset\n",
    "advertising_df.head()"
   ]
  },
  {
   "cell_type": "code",
   "execution_count": 447,
   "id": "066ec372",
   "metadata": {},
   "outputs": [
    {
     "name": "stdout",
     "output_type": "stream",
     "text": [
      "<class 'pandas.core.frame.DataFrame'>\n",
      "RangeIndex: 200 entries, 0 to 199\n",
      "Data columns (total 5 columns):\n",
      " #   Column     Non-Null Count  Dtype  \n",
      "---  ------     --------------  -----  \n",
      " 0   No.        200 non-null    int64  \n",
      " 1   TV         200 non-null    float64\n",
      " 2   radio      200 non-null    float64\n",
      " 3   newspaper  200 non-null    float64\n",
      " 4   sales      200 non-null    float64\n",
      "dtypes: float64(4), int64(1)\n",
      "memory usage: 7.9 KB\n"
     ]
    }
   ],
   "source": [
    "# Get column datatypes and check for null values\n",
    "advertising_df.info()"
   ]
  },
  {
   "cell_type": "markdown",
   "id": "c56792c8",
   "metadata": {},
   "source": [
    "After running the info function we got the data types of the columns and all 5 columns have Non-Null Count 200. That means, there is no missing values. We can confirm this by running 'advertising_df.isnull().sum()' function."
   ]
  },
  {
   "cell_type": "code",
   "execution_count": 448,
   "id": "95cef8dd",
   "metadata": {},
   "outputs": [
    {
     "data": {
      "text/plain": [
       "No.          0\n",
       "TV           0\n",
       "radio        0\n",
       "newspaper    0\n",
       "sales        0\n",
       "dtype: int64"
      ]
     },
     "execution_count": 448,
     "metadata": {},
     "output_type": "execute_result"
    }
   ],
   "source": [
    "# Check for null values\n",
    "advertising_df.isnull().sum()"
   ]
  },
  {
   "cell_type": "markdown",
   "id": "6c5c98f3",
   "metadata": {},
   "source": [
    "Here it is confirmed that, there is no missing values. Now, I am checking for duplicate values."
   ]
  },
  {
   "cell_type": "code",
   "execution_count": 449,
   "id": "8ede00a1",
   "metadata": {},
   "outputs": [
    {
     "data": {
      "text/html": [
       "<div>\n",
       "<style scoped>\n",
       "    .dataframe tbody tr th:only-of-type {\n",
       "        vertical-align: middle;\n",
       "    }\n",
       "\n",
       "    .dataframe tbody tr th {\n",
       "        vertical-align: top;\n",
       "    }\n",
       "\n",
       "    .dataframe thead th {\n",
       "        text-align: right;\n",
       "    }\n",
       "</style>\n",
       "<table border=\"1\" class=\"dataframe\">\n",
       "  <thead>\n",
       "    <tr style=\"text-align: right;\">\n",
       "      <th></th>\n",
       "      <th>No.</th>\n",
       "      <th>TV</th>\n",
       "      <th>radio</th>\n",
       "      <th>newspaper</th>\n",
       "      <th>sales</th>\n",
       "    </tr>\n",
       "  </thead>\n",
       "  <tbody>\n",
       "  </tbody>\n",
       "</table>\n",
       "</div>"
      ],
      "text/plain": [
       "Empty DataFrame\n",
       "Columns: [No., TV, radio, newspaper, sales]\n",
       "Index: []"
      ]
     },
     "execution_count": 449,
     "metadata": {},
     "output_type": "execute_result"
    }
   ],
   "source": [
    "# Check for duplicates\n",
    "advertising_df[advertising_df.duplicated(keep=False)]"
   ]
  },
  {
   "cell_type": "markdown",
   "id": "ab93a033",
   "metadata": {},
   "source": [
    "Here it is confirmed that, there is no duplicate values. Now, I called the describe function to get the statistical distribution of the dataset."
   ]
  },
  {
   "cell_type": "code",
   "execution_count": 450,
   "id": "dfe612fb",
   "metadata": {},
   "outputs": [
    {
     "data": {
      "text/html": [
       "<div>\n",
       "<style scoped>\n",
       "    .dataframe tbody tr th:only-of-type {\n",
       "        vertical-align: middle;\n",
       "    }\n",
       "\n",
       "    .dataframe tbody tr th {\n",
       "        vertical-align: top;\n",
       "    }\n",
       "\n",
       "    .dataframe thead th {\n",
       "        text-align: right;\n",
       "    }\n",
       "</style>\n",
       "<table border=\"1\" class=\"dataframe\">\n",
       "  <thead>\n",
       "    <tr style=\"text-align: right;\">\n",
       "      <th></th>\n",
       "      <th>No.</th>\n",
       "      <th>TV</th>\n",
       "      <th>radio</th>\n",
       "      <th>newspaper</th>\n",
       "      <th>sales</th>\n",
       "    </tr>\n",
       "  </thead>\n",
       "  <tbody>\n",
       "    <tr>\n",
       "      <th>count</th>\n",
       "      <td>200.000000</td>\n",
       "      <td>200.000000</td>\n",
       "      <td>200.000000</td>\n",
       "      <td>200.000000</td>\n",
       "      <td>200.000000</td>\n",
       "    </tr>\n",
       "    <tr>\n",
       "      <th>mean</th>\n",
       "      <td>100.500000</td>\n",
       "      <td>147.042500</td>\n",
       "      <td>23.264000</td>\n",
       "      <td>30.554000</td>\n",
       "      <td>14.022500</td>\n",
       "    </tr>\n",
       "    <tr>\n",
       "      <th>std</th>\n",
       "      <td>57.879185</td>\n",
       "      <td>85.854236</td>\n",
       "      <td>14.846809</td>\n",
       "      <td>21.778621</td>\n",
       "      <td>5.217457</td>\n",
       "    </tr>\n",
       "    <tr>\n",
       "      <th>min</th>\n",
       "      <td>1.000000</td>\n",
       "      <td>0.700000</td>\n",
       "      <td>0.000000</td>\n",
       "      <td>0.300000</td>\n",
       "      <td>1.600000</td>\n",
       "    </tr>\n",
       "    <tr>\n",
       "      <th>25%</th>\n",
       "      <td>50.750000</td>\n",
       "      <td>74.375000</td>\n",
       "      <td>9.975000</td>\n",
       "      <td>12.750000</td>\n",
       "      <td>10.375000</td>\n",
       "    </tr>\n",
       "    <tr>\n",
       "      <th>50%</th>\n",
       "      <td>100.500000</td>\n",
       "      <td>149.750000</td>\n",
       "      <td>22.900000</td>\n",
       "      <td>25.750000</td>\n",
       "      <td>12.900000</td>\n",
       "    </tr>\n",
       "    <tr>\n",
       "      <th>75%</th>\n",
       "      <td>150.250000</td>\n",
       "      <td>218.825000</td>\n",
       "      <td>36.525000</td>\n",
       "      <td>45.100000</td>\n",
       "      <td>17.400000</td>\n",
       "    </tr>\n",
       "    <tr>\n",
       "      <th>max</th>\n",
       "      <td>200.000000</td>\n",
       "      <td>296.400000</td>\n",
       "      <td>49.600000</td>\n",
       "      <td>114.000000</td>\n",
       "      <td>27.000000</td>\n",
       "    </tr>\n",
       "  </tbody>\n",
       "</table>\n",
       "</div>"
      ],
      "text/plain": [
       "              No.          TV       radio   newspaper       sales\n",
       "count  200.000000  200.000000  200.000000  200.000000  200.000000\n",
       "mean   100.500000  147.042500   23.264000   30.554000   14.022500\n",
       "std     57.879185   85.854236   14.846809   21.778621    5.217457\n",
       "min      1.000000    0.700000    0.000000    0.300000    1.600000\n",
       "25%     50.750000   74.375000    9.975000   12.750000   10.375000\n",
       "50%    100.500000  149.750000   22.900000   25.750000   12.900000\n",
       "75%    150.250000  218.825000   36.525000   45.100000   17.400000\n",
       "max    200.000000  296.400000   49.600000  114.000000   27.000000"
      ]
     },
     "execution_count": 450,
     "metadata": {},
     "output_type": "execute_result"
    }
   ],
   "source": [
    "# Get the statistical distributions of the dataset\n",
    "advertising_df.describe()"
   ]
  },
  {
   "cell_type": "markdown",
   "id": "4a1b57a0",
   "metadata": {},
   "source": [
    "I called here the corr function to get the correlation of the features. Then, plotted the correlation in the heatmap."
   ]
  },
  {
   "cell_type": "code",
   "execution_count": 451,
   "id": "1eb01ea3",
   "metadata": {},
   "outputs": [
    {
     "data": {
      "text/html": [
       "<div>\n",
       "<style scoped>\n",
       "    .dataframe tbody tr th:only-of-type {\n",
       "        vertical-align: middle;\n",
       "    }\n",
       "\n",
       "    .dataframe tbody tr th {\n",
       "        vertical-align: top;\n",
       "    }\n",
       "\n",
       "    .dataframe thead th {\n",
       "        text-align: right;\n",
       "    }\n",
       "</style>\n",
       "<table border=\"1\" class=\"dataframe\">\n",
       "  <thead>\n",
       "    <tr style=\"text-align: right;\">\n",
       "      <th></th>\n",
       "      <th>No.</th>\n",
       "      <th>TV</th>\n",
       "      <th>radio</th>\n",
       "      <th>newspaper</th>\n",
       "      <th>sales</th>\n",
       "    </tr>\n",
       "  </thead>\n",
       "  <tbody>\n",
       "    <tr>\n",
       "      <th>No.</th>\n",
       "      <td>1.000000</td>\n",
       "      <td>0.017715</td>\n",
       "      <td>-0.110680</td>\n",
       "      <td>-0.154944</td>\n",
       "      <td>-0.051616</td>\n",
       "    </tr>\n",
       "    <tr>\n",
       "      <th>TV</th>\n",
       "      <td>0.017715</td>\n",
       "      <td>1.000000</td>\n",
       "      <td>0.054809</td>\n",
       "      <td>0.056648</td>\n",
       "      <td>0.782224</td>\n",
       "    </tr>\n",
       "    <tr>\n",
       "      <th>radio</th>\n",
       "      <td>-0.110680</td>\n",
       "      <td>0.054809</td>\n",
       "      <td>1.000000</td>\n",
       "      <td>0.354104</td>\n",
       "      <td>0.576223</td>\n",
       "    </tr>\n",
       "    <tr>\n",
       "      <th>newspaper</th>\n",
       "      <td>-0.154944</td>\n",
       "      <td>0.056648</td>\n",
       "      <td>0.354104</td>\n",
       "      <td>1.000000</td>\n",
       "      <td>0.228299</td>\n",
       "    </tr>\n",
       "    <tr>\n",
       "      <th>sales</th>\n",
       "      <td>-0.051616</td>\n",
       "      <td>0.782224</td>\n",
       "      <td>0.576223</td>\n",
       "      <td>0.228299</td>\n",
       "      <td>1.000000</td>\n",
       "    </tr>\n",
       "  </tbody>\n",
       "</table>\n",
       "</div>"
      ],
      "text/plain": [
       "                No.        TV     radio  newspaper     sales\n",
       "No.        1.000000  0.017715 -0.110680  -0.154944 -0.051616\n",
       "TV         0.017715  1.000000  0.054809   0.056648  0.782224\n",
       "radio     -0.110680  0.054809  1.000000   0.354104  0.576223\n",
       "newspaper -0.154944  0.056648  0.354104   1.000000  0.228299\n",
       "sales     -0.051616  0.782224  0.576223   0.228299  1.000000"
      ]
     },
     "execution_count": 451,
     "metadata": {},
     "output_type": "execute_result"
    }
   ],
   "source": [
    "# Get the correlation\n",
    "corr = advertising_df.corr()\n",
    "corr"
   ]
  },
  {
   "cell_type": "code",
   "execution_count": 452,
   "id": "35df51c8",
   "metadata": {},
   "outputs": [
    {
     "data": {
      "image/png": "[encoded data removed]",
      "text/plain": [
       "<Figure size 360x360 with 2 Axes>"
      ]
     },
     "metadata": {
      "needs_background": "light"
     },
     "output_type": "display_data"
    }
   ],
   "source": [
    "# Plotting the correlation in heatmap\n",
    "plt.figure(figsize=(5, 5))\n",
    "\n",
    "sb.heatmap(corr, cmap=\"coolwarm\", annot=True)\n",
    "plt.show()"
   ]
  },
  {
   "cell_type": "markdown",
   "id": "1a211c67",
   "metadata": {},
   "source": [
    "After getting the heatmap of the correlation, we can see that, the feature 'TV' has strong positive correlation with the feature 'sales'. The feature 'radio' has significant positive correlation with the feature 'sales'. The feature 'newspaper' has very little correlation with the feature 'sales'."
   ]
  },
  {
   "cell_type": "markdown",
   "id": "832669b4",
   "metadata": {},
   "source": [
    "# Univariate Linear Regression"
   ]
  },
  {
   "cell_type": "markdown",
   "id": "ab3ccbdd",
   "metadata": {},
   "source": [
    "Here, I am doing Univariate Linear Regression for the independent variable 'TV' with the target variable 'sales'. Then, with the independent variable 'radio' with the target variable 'sales'. Finally, with the independent variable 'newspaper' with the target variable 'sales'"
   ]
  },
  {
   "cell_type": "markdown",
   "id": "a1ad3da6",
   "metadata": {},
   "source": [
    "# Calculate Univariate linear regression for TV advertisement with target variable sales"
   ]
  },
  {
   "cell_type": "code",
   "execution_count": 453,
   "id": "fb684008",
   "metadata": {},
   "outputs": [
    {
     "data": {
      "text/plain": [
       "Text(0, 0.5, 'Sales')"
      ]
     },
     "execution_count": 453,
     "metadata": {},
     "output_type": "execute_result"
    },
    {
     "data": {
      "image/png": "[encoded data removed]",
      "text/plain": [
       "<Figure size 432x288 with 1 Axes>"
      ]
     },
     "metadata": {
      "needs_background": "light"
     },
     "output_type": "display_data"
    }
   ],
   "source": [
    "# Created object of LinearRegression\n",
    "clf = LinearRegression()\n",
    "\n",
    "# Independent variable TV is assigned as x\n",
    "x = advertising_df['TV']\n",
    "\n",
    "# Dependent variable (Target variable) sales is assigned as y\n",
    "y = advertising_df['sales']\n",
    "\n",
    "# Converting variable x to 2D\n",
    "x = np.array(x).reshape(-1, 1)\n",
    "\n",
    "\n",
    "# Created linear regression with variables x and y\n",
    "clf.fit(x, y)\n",
    "\n",
    "# Predict the sales value with the linear regression model\n",
    "y_pred = clf.predict(x)\n",
    "\n",
    "# Plot the scatter plot for the linear regression model \n",
    "plt.scatter(x, y)\n",
    "plt.scatter(x, y_pred, color = 'red')\n",
    "plt.xlabel('TV Advertisement')\n",
    "plt.ylabel('Sales')"
   ]
  },
  {
   "cell_type": "markdown",
   "id": "16d973dc",
   "metadata": {},
   "source": [
    "After running and plotting the linear regression, I got the plot as shown above. Here, the blue colored data points are the actual data points and the red data points are the predicted ones."
   ]
  },
  {
   "cell_type": "markdown",
   "id": "d79e2982",
   "metadata": {},
   "source": [
    "# Evaluation of the model of Univariate linear regression for TV advertisement with target variable sales"
   ]
  },
  {
   "cell_type": "markdown",
   "id": "2a233938",
   "metadata": {},
   "source": [
    "I am going to evaluate the model, with R2 score (Coefficient of determination), Residual Sum of Squares (RSS), Mean Squared Error (MSE), Mean Absolute Error, Median Absolute Error, Root mean squared error (RMSE) and Explained variance score. At first I am defining the functions for the evaluation of the model, which I can use in the evaluation of all 3 Univariate linear regression models and the Multivariate regression model."
   ]
  },
  {
   "cell_type": "code",
   "execution_count": 454,
   "id": "f59c3dc5",
   "metadata": {},
   "outputs": [],
   "source": [
    "# Function definition to calculate Residual Sum of Squares\n",
    "def rss_score(y, y_pred):\n",
    "    return np.sum((y - y_pred)**2)\n",
    "\n",
    "# Function definition to calculate error by datapoint\n",
    "def calc_error(y, y_pred):\n",
    "    return y - y_pred\n",
    "\n",
    "# Function definition to calculate total error\n",
    "def total_error(y, y_pred):\n",
    "    return np.sum(abs(y - y_pred))\n",
    "\n",
    "# Function definition to calculate Root mean squared error (RMSE)\n",
    "def root_mean_squared_error(y, y_pred):\n",
    "    return sqrt((1 / len(y)) * np.sum((y - y_pred)**2))"
   ]
  },
  {
   "cell_type": "code",
   "execution_count": 455,
   "id": "8bf69e85",
   "metadata": {},
   "outputs": [
    {
     "name": "stdout",
     "output_type": "stream",
     "text": [
      "Error when the advertisement for TV is 286.0 is [-4.72807271]\n",
      "Total Error between regression line and data points is 509.9612077854972\n",
      "R2 score of the linear regression model is 0.611875050850071\n",
      "Residual Sum of Squares (RSS) of the linear regression model is 2102.5305831313517\n",
      "Mean Squared Error (MSE) of the linear regression model is 10.512652915656759\n",
      "Mean Absolute Error of the linear regression model is 2.549806038927486\n",
      "Median Absolute Error of the linear regression model is 2.0263647272887875\n",
      "Root mean squared error (RMSE) of the linear regression model is 3.2423221486546887\n",
      "Explained variance score of the linear regression model is 0.611875050850071\n"
     ]
    }
   ],
   "source": [
    "# Predict the value of sales, when the advertisement for TV is 286.0\n",
    "y_pred1 = clf.predict([[286.0]])\n",
    "\n",
    "# Get the actual value of sales, when the advertisement for TV is 286.0\n",
    "y1 = advertising_df['sales'].where(advertising_df['TV'] == 286.0)\n",
    "y1 = y1.dropna()\n",
    "\n",
    "# Calculate the error, when the advertisement for TV is 286.0\n",
    "print(\"Error when the advertisement for TV is 286.0 is\", calc_error(np.sum(y1.dropna())/y1.shape, y_pred1))\n",
    "\n",
    "# Calculate total Error between regression line and data points\n",
    "print(\"Total Error between regression line and data points is\", total_error(y, y_pred))\n",
    "\n",
    "# Calculate R2 (Coefficient of determination)\n",
    "print(\"R2 score of the linear regression model is\", r2_score(y, y_pred))\n",
    "\n",
    "# Calculate Residual Sum of Squares (RSS)\n",
    "print(\"Residual Sum of Squares (RSS) of the linear regression model is\", rss_score(y, y_pred))\n",
    "\n",
    "# Calculate Mean Squared Error (MSE)\n",
    "print(\"Mean Squared Error (MSE) of the linear regression model is\", mean_squared_error(y, y_pred))\n",
    "\n",
    "# Calculate Mean Absolute Error\n",
    "print(\"Mean Absolute Error of the linear regression model is\", mean_absolute_error(y, y_pred))\n",
    "\n",
    "# Calculate Median Absolute Error\n",
    "print(\"Median Absolute Error of the linear regression model is\", median_absolute_error(y, y_pred))\n",
    "\n",
    "# Calculate Root mean squared error (RMSE)\n",
    "print(\"Root mean squared error (RMSE) of the linear regression model is\", root_mean_squared_error(y, y_pred))\n",
    "\n",
    "# Calculate Explained variance score\n",
    "print(\"Explained variance score of the linear regression model is\", explained_variance_score(y, y_pred))"
   ]
  },
  {
   "cell_type": "markdown",
   "id": "7fb379c2",
   "metadata": {},
   "source": [
    "Here, I got the error when the advertisement for TV is 286.0 is -4.72807271. And the total error between regression line and data points is 509.9612077854972. R2 score of the model is 0.611875050850071. And all other errors can be see in the results, we got above."
   ]
  },
  {
   "cell_type": "markdown",
   "id": "b741a1af",
   "metadata": {},
   "source": [
    "# Calculate Univariate linear regression for Radio advertisement with target variable sales"
   ]
  },
  {
   "cell_type": "code",
   "execution_count": 456,
   "id": "d034cfe3",
   "metadata": {},
   "outputs": [
    {
     "data": {
      "text/plain": [
       "Text(0, 0.5, 'Sales')"
      ]
     },
     "execution_count": 456,
     "metadata": {},
     "output_type": "execute_result"
    },
    {
     "data": {
      "image/png": "[encoded data removed]",
      "text/plain": [
       "<Figure size 432x288 with 1 Axes>"
      ]
     },
     "metadata": {
      "needs_background": "light"
     },
     "output_type": "display_data"
    }
   ],
   "source": [
    "# Created object of LinearRegression\n",
    "clf = LinearRegression()\n",
    "\n",
    "# Independent variable radio is assigned as x\n",
    "x = advertising_df['radio']\n",
    "\n",
    "# Dependent variable (Target variable) sales is assigned as y\n",
    "y = advertising_df['sales']\n",
    "\n",
    "# Converting variable x to 2D\n",
    "x = np.array(x).reshape(-1, 1)\n",
    "\n",
    "# Created linear regression with variables x and y\n",
    "clf.fit(x, y)\n",
    "\n",
    "# Predict the sales value with the linear regression model\n",
    "y_pred = clf.predict(x)\n",
    "\n",
    "# Plot the scatter plot for the linear regression model \n",
    "plt.scatter(x, y)\n",
    "plt.scatter(x, y_pred, color = 'red')\n",
    "plt.xlabel('Radio Advertisement')\n",
    "plt.ylabel('Sales')"
   ]
  },
  {
   "cell_type": "markdown",
   "id": "48f60e89",
   "metadata": {},
   "source": [
    "# Evaluation of the model of Univariate linear regression for Radio advertisement with target variable sales"
   ]
  },
  {
   "cell_type": "code",
   "execution_count": 457,
   "id": "9e0e8608",
   "metadata": {},
   "outputs": [
    {
     "name": "stdout",
     "output_type": "stream",
     "text": [
      "Error when the advertisement for radio is 13.9 is [3.87367052]\n",
      "Total Error between regression line and data points is 664.0437595284133\n",
      "R2 score of the linear regression model is 0.33203245544529525\n",
      "Residual Sum of Squares (RSS) of the linear regression model is 3618.479549025088\n",
      "Mean Squared Error (MSE) of the linear regression model is 18.09239774512544\n",
      "Mean Absolute Error of the linear regression model is 3.3202187976420663\n",
      "Median Absolute Error of the linear regression model is 2.6141696723652945\n",
      "Root mean squared error (RMSE) of the linear regression model is 4.253515927456419\n",
      "Explained variance score of the linear regression model is 0.33203245544529547\n"
     ]
    }
   ],
   "source": [
    "# Predict the value of sales, when the advertisement for radio is 13.9\n",
    "y_pred1 = clf.predict([[13.9]])\n",
    "\n",
    "# Get the actual value of sales, when the advertisement for radio is 13.9\n",
    "y1 = advertising_df['sales'].where(advertising_df['radio'] == 13.9)\n",
    "y1 = y1.dropna()\n",
    "\n",
    "# Calculate the error, when the advertisement for radio is 13.9\n",
    "print(\"Error when the advertisement for radio is 13.9 is\", calc_error(np.sum(y1.dropna())/y1.shape, y_pred1))\n",
    "\n",
    "# Calculate total Error between regression line and data points\n",
    "print(\"Total Error between regression line and data points is\", total_error(y, y_pred))\n",
    "\n",
    "# Calculate R2 (Coefficient of determination)\n",
    "print(\"R2 score of the linear regression model is\", r2_score(y, y_pred))\n",
    "\n",
    "# Calculate Residual Sum of Squares (RSS)\n",
    "print(\"Residual Sum of Squares (RSS) of the linear regression model is\", rss_score(y, y_pred))\n",
    "\n",
    "# Calculate Mean Squared Error (MSE)\n",
    "print(\"Mean Squared Error (MSE) of the linear regression model is\", mean_squared_error(y, y_pred))\n",
    "\n",
    "# Calculate Mean Absolute Error\n",
    "print(\"Mean Absolute Error of the linear regression model is\", mean_absolute_error(y, y_pred))\n",
    "\n",
    "# Calculate Median Absolute Error\n",
    "print(\"Median Absolute Error of the linear regression model is\", median_absolute_error(y, y_pred))\n",
    "\n",
    "# Calculate Root mean squared error (RMSE)\n",
    "print(\"Root mean squared error (RMSE) of the linear regression model is\", root_mean_squared_error(y, y_pred))\n",
    "\n",
    "# Calculate Explained variance score\n",
    "print(\"Explained variance score of the linear regression model is\", explained_variance_score(y, y_pred))"
   ]
  },
  {
   "cell_type": "markdown",
   "id": "f6467898",
   "metadata": {},
   "source": [
    "Here, I got the error when the advertisement for radio is 13.9 is 3.87367052. And the total error between regression line and data points is 664.0437595284133. R2 score of the model is 0.33203245544529525. And all other errors can be see in the results, we got above."
   ]
  },
  {
   "cell_type": "markdown",
   "id": "452b352d",
   "metadata": {},
   "source": [
    "# Calculate Univariate linear regression for newspaper advertisement with target variable sales"
   ]
  },
  {
   "cell_type": "code",
   "execution_count": 458,
   "id": "ebe228ac",
   "metadata": {},
   "outputs": [
    {
     "data": {
      "text/plain": [
       "Text(0, 0.5, 'Sales')"
      ]
     },
     "execution_count": 458,
     "metadata": {},
     "output_type": "execute_result"
    },
    {
     "data": {
      "image/png": "[encoded data removed]",
      "text/plain": [
       "<Figure size 432x288 with 1 Axes>"
      ]
     },
     "metadata": {
      "needs_background": "light"
     },
     "output_type": "display_data"
    }
   ],
   "source": [
    "# Created object of LinearRegression\n",
    "clf = LinearRegression()\n",
    "\n",
    "# Independent variable newspaper is assigned as x\n",
    "x = advertising_df['newspaper']\n",
    "\n",
    "# Dependent variable (Target variable) sales is assigned as y\n",
    "y = advertising_df['sales']\n",
    "\n",
    "# Converting variable x to 2D\n",
    "x = np.array(x).reshape(-1, 1)\n",
    "\n",
    "# Created linear regression with variables x and y\n",
    "clf.fit(x, y)\n",
    "\n",
    "# Predict the sales value with the linear regression model\n",
    "y_pred = clf.predict(x)\n",
    "\n",
    "# Plot the scatter plot for the linear regression model \n",
    "plt.scatter(x, y)\n",
    "plt.scatter(x, y_pred, color = 'red')\n",
    "plt.xlabel('Newspaper Advertisement')\n",
    "plt.ylabel('Sales')"
   ]
  },
  {
   "cell_type": "markdown",
   "id": "9cdca640",
   "metadata": {},
   "source": [
    "Here, we can see lots of errors in the plot we got above. Now, I am going to evaluate the model"
   ]
  },
  {
   "cell_type": "markdown",
   "id": "cd301e6a",
   "metadata": {},
   "source": [
    "# Evaluation of the model of Univariate linear regression for Newspaper advertisement with target variable sales"
   ]
  },
  {
   "cell_type": "code",
   "execution_count": 459,
   "id": "1822c6d2",
   "metadata": {},
   "outputs": [
    {
     "name": "stdout",
     "output_type": "stream",
     "text": [
      "Total Error between regression line and data points is 829.3119487676976\n",
      "R2 score of the linear regression model is 0.05212044544430516\n",
      "Residual Sum of Squares (RSS) of the linear regression model is 5134.804544111939\n",
      "Mean Squared Error (MSE) of the linear regression model is 25.674022720559698\n",
      "Mean Absolute Error of the linear regression model is 4.146559743838488\n",
      "Median Absolute Error of the linear regression model is 3.440420731010449\n",
      "Root mean squared error (RMSE) of the linear regression model is 5.066953988399707\n",
      "Explained variance score of the linear regression model is 0.05212044544430516\n"
     ]
    }
   ],
   "source": [
    "# Calculate total Error between regression line and data points\n",
    "print(\"Total Error between regression line and data points is\", total_error(y, y_pred))\n",
    "\n",
    "# Calculate R2 (Coefficient of determination)\n",
    "print(\"R2 score of the linear regression model is\", r2_score(y, y_pred))\n",
    "\n",
    "# Calculate Residual Sum of Squares (RSS)\n",
    "print(\"Residual Sum of Squares (RSS) of the linear regression model is\", rss_score(y, y_pred))\n",
    "\n",
    "# Calculate Mean Squared Error (MSE)\n",
    "print(\"Mean Squared Error (MSE) of the linear regression model is\", mean_squared_error(y, y_pred))\n",
    "\n",
    "# Calculate Mean Absolute Error\n",
    "print(\"Mean Absolute Error of the linear regression model is\", mean_absolute_error(y, y_pred))\n",
    "\n",
    "# Calculate Median Absolute Error\n",
    "print(\"Median Absolute Error of the linear regression model is\", median_absolute_error(y, y_pred))\n",
    "\n",
    "# Calculate Root mean squared error (RMSE)\n",
    "print(\"Root mean squared error (RMSE) of the linear regression model is\", root_mean_squared_error(y, y_pred))\n",
    "\n",
    "# Calculate Explained variance score\n",
    "print(\"Explained variance score of the linear regression model is\", explained_variance_score(y, y_pred))"
   ]
  },
  {
   "cell_type": "markdown",
   "id": "ec728f3e",
   "metadata": {},
   "source": [
    "Here we can see, the total error between regression line and data points is 829.3119487676976. R2 score of the model is 0.05212044544430516. And all other errors can be see in the results, we got above."
   ]
  },
  {
   "cell_type": "markdown",
   "id": "47996a6f",
   "metadata": {},
   "source": [
    "# Multivariate Regression Model"
   ]
  },
  {
   "cell_type": "markdown",
   "id": "4e8f1ede",
   "metadata": {},
   "source": [
    "Here, I am doing Multivariate Regression Model with independent variables TV, radio and newspaper. The dependent (target) variable is sales. For getting the independent variables, I am using the drop function of the dataset and dropped variables 'No.' and 'sales' and assigned to variable x. The target variable is 'sales', which is assigned to variable y. Then, I split the dataset into train and test data sets with 20% test data and 80% train samples, using the train_test_split function from the sklearn library. Then, fit the model with train dataset and predicted the model with both the train and test datasets. Then, I plotted the scatter plot for 'Actual Sales vs Predicted Sales'. "
   ]
  },
  {
   "cell_type": "code",
   "execution_count": 460,
   "id": "6ff02372",
   "metadata": {},
   "outputs": [
    {
     "name": "stdout",
     "output_type": "stream",
     "text": [
      "The intercept is 2.99489303049533\n",
      "The coefficients are [ 0.04458402  0.19649703 -0.00278146]\n"
     ]
    },
    {
     "data": {
      "text/plain": [
       "Text(0.5, 1.0, 'Actual vs Predicted Sales (Train)')"
      ]
     },
     "execution_count": 460,
     "metadata": {},
     "output_type": "execute_result"
    },
    {
     "data": {
      "image/png": "[encoded data removed]",
      "text/plain": [
       "<Figure size 432x288 with 1 Axes>"
      ]
     },
     "metadata": {
      "needs_background": "light"
     },
     "output_type": "display_data"
    }
   ],
   "source": [
    "# Import libraried\n",
    "from sklearn.model_selection import train_test_split\n",
    "\n",
    "# Created object of LinearRegression\n",
    "clf = LinearRegression()\n",
    "\n",
    "# Dropped columns No. and sales from the dataframe and assigned as x\n",
    "x = advertising_df.drop(['No.','sales'], axis=1)\n",
    "\n",
    "# Dependent variable (Target variable) sales is assigned as y\n",
    "y = advertising_df['sales']\n",
    "\n",
    "# Creating test and training samples from the dataset with 20% test samples and 80% train samples\n",
    "x_train, x_test, y_train, y_test = train_test_split(x, y, test_size=0.2, random_state=0)\n",
    "\n",
    "# Linear regression model is trained with training data x_train and y_train\n",
    "clf.fit(x_train, y_train)\n",
    "\n",
    "#Print the intercept and the coefficients\n",
    "print(\"The intercept is\", clf.intercept_)\n",
    "print(\"The coefficients are\", clf.coef_)\n",
    "\n",
    "# Predict the sales value with the linear regression model by passing the training data\n",
    "y_pred_train = clf.predict(x_train)\n",
    "\n",
    "# Plot the scatter plot for the Actual Sales vs Predicted Sales\n",
    "plt.scatter(y_train, y_pred_train)\n",
    "plt.xlabel('Actual Sales')\n",
    "plt.ylabel('Predicted Sales')\n",
    "plt.title(\"Actual vs Predicted Sales (Train)\")"
   ]
  },
  {
   "cell_type": "markdown",
   "id": "dba55151",
   "metadata": {},
   "source": [
    "After running the Multivariate Regression and predicting with training data, I got the intercept and the coefficients for TV, radio and newspaper. Above, we can see the scatter plot of Actual Sales vs Predicted Sales with the model predicted with the training data. We can see Actual Sales and Predcited Sales is almost same, which will cause overfitting. So, I am doing the model prediction with the testing dataset."
   ]
  },
  {
   "cell_type": "markdown",
   "id": "04752df7",
   "metadata": {},
   "source": [
    "# Evaluation of the model of  Multivariate Regression with the training data"
   ]
  },
  {
   "cell_type": "code",
   "execution_count": 461,
   "id": "8ffa30f1",
   "metadata": {},
   "outputs": [
    {
     "name": "stdout",
     "output_type": "stream",
     "text": [
      "Total Error between regression line and data points is 194.10994596367084\n",
      "R2 score of the multivariate regression model is 0.9067114990146383\n",
      "Residual Sum of Squares (RSS) of the multivariate regression model is 385.090360931025\n",
      "Mean Squared Error (MSE) of the multivariate regression model is 2.406814755818906\n",
      "Mean Absolute Error of the multivariate regression model is 1.2131871622729427\n",
      "Median Absolute Error of the multivariate regression model is 1.0165018045396073\n",
      "Root mean squared error (RMSE) of the multivariate regression model is 1.5513912323520802\n",
      "Explained variance score of the multivariate regression model is 0.9067114990146383\n"
     ]
    }
   ],
   "source": [
    "# Calculate total Error between regression line and data points\n",
    "print(\"Total Error between regression line and data points is\", total_error(y_train, y_pred_train))\n",
    "\n",
    "# Calculate R2 (Coefficient of determination)\n",
    "print(\"R2 score of the multivariate regression model is\", r2_score(y_train, y_pred_train))\n",
    "\n",
    "# Calculate Residual Sum of Squares (RSS)\n",
    "print(\"Residual Sum of Squares (RSS) of the multivariate regression model is\", rss_score(y_train, y_pred_train))\n",
    "\n",
    "# Calculate Mean Squared Error (MSE)\n",
    "print(\"Mean Squared Error (MSE) of the multivariate regression model is\", mean_squared_error(y_train, y_pred_train))\n",
    "\n",
    "# Calculate Mean Absolute Error\n",
    "print(\"Mean Absolute Error of the multivariate regression model is\", mean_absolute_error(y_train, y_pred_train))\n",
    "\n",
    "# Calculate Median Absolute Error\n",
    "print(\"Median Absolute Error of the multivariate regression model is\", median_absolute_error(y_train, y_pred_train))\n",
    "\n",
    "# Calculate Root mean squared error (RMSE)\n",
    "print(\"Root mean squared error (RMSE) of the multivariate regression model is\", root_mean_squared_error(y_train, y_pred_train))\n",
    "\n",
    "# Calculate Explained variance score\n",
    "print(\"Explained variance score of the multivariate regression model is\", explained_variance_score(y_train, y_pred_train))"
   ]
  },
  {
   "cell_type": "markdown",
   "id": "149a592e",
   "metadata": {},
   "source": [
    "Here we can see, the total error between regression line and data points is 194.10994596367084. R2 score of the model is 0.9067114990146383. And all other errors can be see in the results, we got above."
   ]
  },
  {
   "cell_type": "markdown",
   "id": "daf7f4c0",
   "metadata": {},
   "source": [
    "# Test the model with the test data"
   ]
  },
  {
   "cell_type": "markdown",
   "id": "a96c0f5a",
   "metadata": {},
   "source": [
    "Now, I am testing the model with the test data."
   ]
  },
  {
   "cell_type": "code",
   "execution_count": 462,
   "id": "29072f27",
   "metadata": {},
   "outputs": [
    {
     "data": {
      "text/plain": [
       "Text(0.5, 1.0, 'Actual vs Predicted Sales (Test)')"
      ]
     },
     "execution_count": 462,
     "metadata": {},
     "output_type": "execute_result"
    },
    {
     "data": {
      "image/png": "[encoded data removed]",
      "text/plain": [
       "<Figure size 432x288 with 1 Axes>"
      ]
     },
     "metadata": {
      "needs_background": "light"
     },
     "output_type": "display_data"
    }
   ],
   "source": [
    "# Predict the sales value with the linear regression model by passing the testing data\n",
    "y_pred_test = clf.predict(x_test)\n",
    "\n",
    "# Plot the scatter plot for the Actual Sales vs Predicted Sales\n",
    "plt.scatter(y_test, y_pred_test)\n",
    "plt.xlabel('Actual Sales')\n",
    "plt.ylabel('Predicted Sales')\n",
    "plt.title(\"Actual vs Predicted Sales (Test)\")"
   ]
  },
  {
   "cell_type": "markdown",
   "id": "3701d150",
   "metadata": {},
   "source": [
    "Above, we can see the scatter plot of Actual Sales vs Predicted Sales with the model predicted with the testing data"
   ]
  },
  {
   "cell_type": "markdown",
   "id": "6da357ff",
   "metadata": {},
   "source": [
    "# Evaluation of the model of  Multivariate Regression with the testing data"
   ]
  },
  {
   "cell_type": "code",
   "execution_count": 463,
   "id": "69cb5fe8",
   "metadata": {},
   "outputs": [
    {
     "name": "stdout",
     "output_type": "stream",
     "text": [
      "Total Error between regression line and data points is 54.4712540083611\n",
      "R2 score of the multivariate regression model is 0.8601145185017868\n",
      "Residual Sum of Squares (RSS) of the multivariate regression model is 176.0847316579874\n",
      "Mean Squared Error (MSE) of the multivariate regression model is 4.402118291449685\n",
      "Mean Absolute Error of the multivariate regression model is 1.3617813502090275\n",
      "Median Absolute Error of the multivariate regression model is 1.0582843863446056\n",
      "Root mean squared error (RMSE) of the multivariate regression model is 2.0981225634956804\n",
      "Explained variance score of the multivariate regression model is 0.8602806474273638\n"
     ]
    }
   ],
   "source": [
    "# Calculate total Error between regression line and data points\n",
    "print(\"Total Error between regression line and data points is\", total_error(y_test, y_pred_test))\n",
    "\n",
    "# Calculate R2 (Coefficient of determination)\n",
    "print(\"R2 score of the multivariate regression model is\", r2_score(y_test, y_pred_test))\n",
    "\n",
    "# Calculate Residual Sum of Squares (RSS)\n",
    "print(\"Residual Sum of Squares (RSS) of the multivariate regression model is\", rss_score(y_test, y_pred_test))\n",
    "\n",
    "# Calculate Mean Squared Error (MSE)\n",
    "print(\"Mean Squared Error (MSE) of the multivariate regression model is\", mean_squared_error(y_test, y_pred_test))\n",
    "\n",
    "# Calculate Mean Absolute Error\n",
    "print(\"Mean Absolute Error of the multivariate regression model is\", mean_absolute_error(y_test, y_pred_test))\n",
    "\n",
    "# Calculate Median Absolute Error\n",
    "print(\"Median Absolute Error of the multivariate regression model is\", median_absolute_error(y_test, y_pred_test))\n",
    "\n",
    "# Calculate Root mean squared error (RMSE)\n",
    "print(\"Root mean squared error (RMSE) of the multivariate regression model is\", root_mean_squared_error(y_test, y_pred_test))\n",
    "\n",
    "# Calculate Explained variance score\n",
    "print(\"Explained variance score of the multivariate regression model is\", explained_variance_score(y_test, y_pred_test))"
   ]
  },
  {
   "cell_type": "markdown",
   "id": "951f0f21",
   "metadata": {},
   "source": [
    "Here we can see, the total error between regression line and data points is 54.4712540083611. R2 score of the model is 0.8601145185017868. And all other errors can be see in the results, we got above."
   ]
  },
  {
   "cell_type": "markdown",
   "id": "94952d94",
   "metadata": {},
   "source": [
    "# Task 3: Clustering"
   ]
  },
  {
   "cell_type": "markdown",
   "id": "d5d8811d",
   "metadata": {},
   "source": [
    "Here, I am creating the Clustering models with K-Means, DBSCAN, Hierarchical Clustering and BIRCH and evaluating these models with different parameters."
   ]
  },
  {
   "cell_type": "markdown",
   "id": "809e25e5",
   "metadata": {},
   "source": [
    "# Data Exploration"
   ]
  },
  {
   "cell_type": "markdown",
   "id": "e8bed95b",
   "metadata": {},
   "source": [
    "Initially, I imported Boston Housing dataset with '\\s+' as seperator and header value is None. Then, I added the respective column names to the dataset. After that, I done the exploration of the dataset."
   ]
  },
  {
   "cell_type": "code",
   "execution_count": 464,
   "id": "975c39ad",
   "metadata": {},
   "outputs": [
    {
     "name": "stdout",
     "output_type": "stream",
     "text": [
      "(506, 14)\n"
     ]
    }
   ],
   "source": [
    "# Imported libraries\n",
    "import seaborn as sns\n",
    "\n",
    "# Imported housing dataset\n",
    "housing_df = pd.read_csv('housing.csv', sep='\\s+', header=None)\n",
    "\n",
    "# Added column headers\n",
    "housing_df.columns = [\"CRIM\",\"ZN\",\"INDUS\",\"CHAS\",\"NOX\",\"RM\",\"AGE\",\"DIS\",\"RAD\",\"TAX\",\"PTRATIO\",\"B\",\"LSTAT\",\"MEDV\"]\n",
    "\n",
    "# Find number of rows and columns of the dataset\n",
    "print(housing_df.shape)"
   ]
  },
  {
   "cell_type": "markdown",
   "id": "ed8d2088",
   "metadata": {},
   "source": [
    "After running the shape function of the dataset, we can see that the dataset has 506 rows and 14 columns. Then, I checked the first 5 rows of the dataset by running the head function of the dataset."
   ]
  },
  {
   "cell_type": "code",
   "execution_count": 465,
   "id": "8e2d702e",
   "metadata": {},
   "outputs": [
    {
     "data": {
      "text/html": [
       "<div>\n",
       "<style scoped>\n",
       "    .dataframe tbody tr th:only-of-type {\n",
       "        vertical-align: middle;\n",
       "    }\n",
       "\n",
       "    .dataframe tbody tr th {\n",
       "        vertical-align: top;\n",
       "    }\n",
       "\n",
       "    .dataframe thead th {\n",
       "        text-align: right;\n",
       "    }\n",
       "</style>\n",
       "<table border=\"1\" class=\"dataframe\">\n",
       "  <thead>\n",
       "    <tr style=\"text-align: right;\">\n",
       "      <th></th>\n",
       "      <th>CRIM</th>\n",
       "      <th>ZN</th>\n",
       "      <th>INDUS</th>\n",
       "      <th>CHAS</th>\n",
       "      <th>NOX</th>\n",
       "      <th>RM</th>\n",
       "      <th>AGE</th>\n",
       "      <th>DIS</th>\n",
       "      <th>RAD</th>\n",
       "      <th>TAX</th>\n",
       "      <th>PTRATIO</th>\n",
       "      <th>B</th>\n",
       "      <th>LSTAT</th>\n",
       "      <th>MEDV</th>\n",
       "    </tr>\n",
       "  </thead>\n",
       "  <tbody>\n",
       "    <tr>\n",
       "      <th>0</th>\n",
       "      <td>0.00632</td>\n",
       "      <td>18.0</td>\n",
       "      <td>2.31</td>\n",
       "      <td>0</td>\n",
       "      <td>0.538</td>\n",
       "      <td>6.575</td>\n",
       "      <td>65.2</td>\n",
       "      <td>4.0900</td>\n",
       "      <td>1</td>\n",
       "      <td>296.0</td>\n",
       "      <td>15.3</td>\n",
       "      <td>396.90</td>\n",
       "      <td>4.98</td>\n",
       "      <td>24.0</td>\n",
       "    </tr>\n",
       "    <tr>\n",
       "      <th>1</th>\n",
       "      <td>0.02731</td>\n",
       "      <td>0.0</td>\n",
       "      <td>7.07</td>\n",
       "      <td>0</td>\n",
       "      <td>0.469</td>\n",
       "      <td>6.421</td>\n",
       "      <td>78.9</td>\n",
       "      <td>4.9671</td>\n",
       "      <td>2</td>\n",
       "      <td>242.0</td>\n",
       "      <td>17.8</td>\n",
       "      <td>396.90</td>\n",
       "      <td>9.14</td>\n",
       "      <td>21.6</td>\n",
       "    </tr>\n",
       "    <tr>\n",
       "      <th>2</th>\n",
       "      <td>0.02729</td>\n",
       "      <td>0.0</td>\n",
       "      <td>7.07</td>\n",
       "      <td>0</td>\n",
       "      <td>0.469</td>\n",
       "      <td>7.185</td>\n",
       "      <td>61.1</td>\n",
       "      <td>4.9671</td>\n",
       "      <td>2</td>\n",
       "      <td>242.0</td>\n",
       "      <td>17.8</td>\n",
       "      <td>392.83</td>\n",
       "      <td>4.03</td>\n",
       "      <td>34.7</td>\n",
       "    </tr>\n",
       "    <tr>\n",
       "      <th>3</th>\n",
       "      <td>0.03237</td>\n",
       "      <td>0.0</td>\n",
       "      <td>2.18</td>\n",
       "      <td>0</td>\n",
       "      <td>0.458</td>\n",
       "      <td>6.998</td>\n",
       "      <td>45.8</td>\n",
       "      <td>6.0622</td>\n",
       "      <td>3</td>\n",
       "      <td>222.0</td>\n",
       "      <td>18.7</td>\n",
       "      <td>394.63</td>\n",
       "      <td>2.94</td>\n",
       "      <td>33.4</td>\n",
       "    </tr>\n",
       "    <tr>\n",
       "      <th>4</th>\n",
       "      <td>0.06905</td>\n",
       "      <td>0.0</td>\n",
       "      <td>2.18</td>\n",
       "      <td>0</td>\n",
       "      <td>0.458</td>\n",
       "      <td>7.147</td>\n",
       "      <td>54.2</td>\n",
       "      <td>6.0622</td>\n",
       "      <td>3</td>\n",
       "      <td>222.0</td>\n",
       "      <td>18.7</td>\n",
       "      <td>396.90</td>\n",
       "      <td>5.33</td>\n",
       "      <td>36.2</td>\n",
       "    </tr>\n",
       "  </tbody>\n",
       "</table>\n",
       "</div>"
      ],
      "text/plain": [
       "      CRIM    ZN  INDUS  CHAS    NOX     RM   AGE     DIS  RAD    TAX  \\\n",
       "0  0.00632  18.0   2.31     0  0.538  6.575  65.2  4.0900    1  296.0   \n",
       "1  0.02731   0.0   7.07     0  0.469  6.421  78.9  4.9671    2  242.0   \n",
       "2  0.02729   0.0   7.07     0  0.469  7.185  61.1  4.9671    2  242.0   \n",
       "3  0.03237   0.0   2.18     0  0.458  6.998  45.8  6.0622    3  222.0   \n",
       "4  0.06905   0.0   2.18     0  0.458  7.147  54.2  6.0622    3  222.0   \n",
       "\n",
       "   PTRATIO       B  LSTAT  MEDV  \n",
       "0     15.3  396.90   4.98  24.0  \n",
       "1     17.8  396.90   9.14  21.6  \n",
       "2     17.8  392.83   4.03  34.7  \n",
       "3     18.7  394.63   2.94  33.4  \n",
       "4     18.7  396.90   5.33  36.2  "
      ]
     },
     "execution_count": 465,
     "metadata": {},
     "output_type": "execute_result"
    }
   ],
   "source": [
    "# Get first rows of the dataset\n",
    "housing_df.head()"
   ]
  },
  {
   "cell_type": "code",
   "execution_count": 466,
   "id": "6e0c308e",
   "metadata": {},
   "outputs": [
    {
     "name": "stdout",
     "output_type": "stream",
     "text": [
      "<class 'pandas.core.frame.DataFrame'>\n",
      "RangeIndex: 506 entries, 0 to 505\n",
      "Data columns (total 14 columns):\n",
      " #   Column   Non-Null Count  Dtype  \n",
      "---  ------   --------------  -----  \n",
      " 0   CRIM     506 non-null    float64\n",
      " 1   ZN       506 non-null    float64\n",
      " 2   INDUS    506 non-null    float64\n",
      " 3   CHAS     506 non-null    int64  \n",
      " 4   NOX      506 non-null    float64\n",
      " 5   RM       506 non-null    float64\n",
      " 6   AGE      506 non-null    float64\n",
      " 7   DIS      506 non-null    float64\n",
      " 8   RAD      506 non-null    int64  \n",
      " 9   TAX      506 non-null    float64\n",
      " 10  PTRATIO  506 non-null    float64\n",
      " 11  B        506 non-null    float64\n",
      " 12  LSTAT    506 non-null    float64\n",
      " 13  MEDV     506 non-null    float64\n",
      "dtypes: float64(12), int64(2)\n",
      "memory usage: 55.5 KB\n"
     ]
    }
   ],
   "source": [
    "# Get column datatypes and check for null values\n",
    "housing_df.info()"
   ]
  },
  {
   "cell_type": "markdown",
   "id": "57f4d530",
   "metadata": {},
   "source": [
    "After running the info function we got the data types of the columns and all 14 columns have Non-Null Count 506. That means, there is no missing values. We can confirm this by running 'housing_df.isnull().sum()' function."
   ]
  },
  {
   "cell_type": "code",
   "execution_count": 467,
   "id": "e2920068",
   "metadata": {},
   "outputs": [
    {
     "data": {
      "text/plain": [
       "CRIM       0\n",
       "ZN         0\n",
       "INDUS      0\n",
       "CHAS       0\n",
       "NOX        0\n",
       "RM         0\n",
       "AGE        0\n",
       "DIS        0\n",
       "RAD        0\n",
       "TAX        0\n",
       "PTRATIO    0\n",
       "B          0\n",
       "LSTAT      0\n",
       "MEDV       0\n",
       "dtype: int64"
      ]
     },
     "execution_count": 467,
     "metadata": {},
     "output_type": "execute_result"
    }
   ],
   "source": [
    "# Check for null values\n",
    "housing_df.isnull().sum()"
   ]
  },
  {
   "cell_type": "markdown",
   "id": "f6bfe16a",
   "metadata": {},
   "source": [
    "Here it is confirmed that, there is no missing values. Now, I am checking for duplicate values."
   ]
  },
  {
   "cell_type": "code",
   "execution_count": 468,
   "id": "9730e43f",
   "metadata": {},
   "outputs": [
    {
     "data": {
      "text/html": [
       "<div>\n",
       "<style scoped>\n",
       "    .dataframe tbody tr th:only-of-type {\n",
       "        vertical-align: middle;\n",
       "    }\n",
       "\n",
       "    .dataframe tbody tr th {\n",
       "        vertical-align: top;\n",
       "    }\n",
       "\n",
       "    .dataframe thead th {\n",
       "        text-align: right;\n",
       "    }\n",
       "</style>\n",
       "<table border=\"1\" class=\"dataframe\">\n",
       "  <thead>\n",
       "    <tr style=\"text-align: right;\">\n",
       "      <th></th>\n",
       "      <th>CRIM</th>\n",
       "      <th>ZN</th>\n",
       "      <th>INDUS</th>\n",
       "      <th>CHAS</th>\n",
       "      <th>NOX</th>\n",
       "      <th>RM</th>\n",
       "      <th>AGE</th>\n",
       "      <th>DIS</th>\n",
       "      <th>RAD</th>\n",
       "      <th>TAX</th>\n",
       "      <th>PTRATIO</th>\n",
       "      <th>B</th>\n",
       "      <th>LSTAT</th>\n",
       "      <th>MEDV</th>\n",
       "    </tr>\n",
       "  </thead>\n",
       "  <tbody>\n",
       "  </tbody>\n",
       "</table>\n",
       "</div>"
      ],
      "text/plain": [
       "Empty DataFrame\n",
       "Columns: [CRIM, ZN, INDUS, CHAS, NOX, RM, AGE, DIS, RAD, TAX, PTRATIO, B, LSTAT, MEDV]\n",
       "Index: []"
      ]
     },
     "execution_count": 468,
     "metadata": {},
     "output_type": "execute_result"
    }
   ],
   "source": [
    "# Check for duplicates\n",
    "housing_df[housing_df.duplicated(keep=False)]"
   ]
  },
  {
   "cell_type": "markdown",
   "id": "e803f3c4",
   "metadata": {},
   "source": [
    "Here it is confirmed that, there is no duplicate values. Now, I called the describe function to get the statistical distribution of the dataset."
   ]
  },
  {
   "cell_type": "code",
   "execution_count": 469,
   "id": "8ad0b88e",
   "metadata": {},
   "outputs": [
    {
     "data": {
      "text/html": [
       "<div>\n",
       "<style scoped>\n",
       "    .dataframe tbody tr th:only-of-type {\n",
       "        vertical-align: middle;\n",
       "    }\n",
       "\n",
       "    .dataframe tbody tr th {\n",
       "        vertical-align: top;\n",
       "    }\n",
       "\n",
       "    .dataframe thead th {\n",
       "        text-align: right;\n",
       "    }\n",
       "</style>\n",
       "<table border=\"1\" class=\"dataframe\">\n",
       "  <thead>\n",
       "    <tr style=\"text-align: right;\">\n",
       "      <th></th>\n",
       "      <th>CRIM</th>\n",
       "      <th>ZN</th>\n",
       "      <th>INDUS</th>\n",
       "      <th>CHAS</th>\n",
       "      <th>NOX</th>\n",
       "      <th>RM</th>\n",
       "      <th>AGE</th>\n",
       "      <th>DIS</th>\n",
       "      <th>RAD</th>\n",
       "      <th>TAX</th>\n",
       "      <th>PTRATIO</th>\n",
       "      <th>B</th>\n",
       "      <th>LSTAT</th>\n",
       "      <th>MEDV</th>\n",
       "    </tr>\n",
       "  </thead>\n",
       "  <tbody>\n",
       "    <tr>\n",
       "      <th>count</th>\n",
       "      <td>506.000000</td>\n",
       "      <td>506.000000</td>\n",
       "      <td>506.000000</td>\n",
       "      <td>506.000000</td>\n",
       "      <td>506.000000</td>\n",
       "      <td>506.000000</td>\n",
       "      <td>506.000000</td>\n",
       "      <td>506.000000</td>\n",
       "      <td>506.000000</td>\n",
       "      <td>506.000000</td>\n",
       "      <td>506.000000</td>\n",
       "      <td>506.000000</td>\n",
       "      <td>506.000000</td>\n",
       "      <td>506.000000</td>\n",
       "    </tr>\n",
       "    <tr>\n",
       "      <th>mean</th>\n",
       "      <td>3.613524</td>\n",
       "      <td>11.363636</td>\n",
       "      <td>11.136779</td>\n",
       "      <td>0.069170</td>\n",
       "      <td>0.554695</td>\n",
       "      <td>6.284634</td>\n",
       "      <td>68.574901</td>\n",
       "      <td>3.795043</td>\n",
       "      <td>9.549407</td>\n",
       "      <td>408.237154</td>\n",
       "      <td>18.455534</td>\n",
       "      <td>356.674032</td>\n",
       "      <td>12.653063</td>\n",
       "      <td>22.532806</td>\n",
       "    </tr>\n",
       "    <tr>\n",
       "      <th>std</th>\n",
       "      <td>8.601545</td>\n",
       "      <td>23.322453</td>\n",
       "      <td>6.860353</td>\n",
       "      <td>0.253994</td>\n",
       "      <td>0.115878</td>\n",
       "      <td>0.702617</td>\n",
       "      <td>28.148861</td>\n",
       "      <td>2.105710</td>\n",
       "      <td>8.707259</td>\n",
       "      <td>168.537116</td>\n",
       "      <td>2.164946</td>\n",
       "      <td>91.294864</td>\n",
       "      <td>7.141062</td>\n",
       "      <td>9.197104</td>\n",
       "    </tr>\n",
       "    <tr>\n",
       "      <th>min</th>\n",
       "      <td>0.006320</td>\n",
       "      <td>0.000000</td>\n",
       "      <td>0.460000</td>\n",
       "      <td>0.000000</td>\n",
       "      <td>0.385000</td>\n",
       "      <td>3.561000</td>\n",
       "      <td>2.900000</td>\n",
       "      <td>1.129600</td>\n",
       "      <td>1.000000</td>\n",
       "      <td>187.000000</td>\n",
       "      <td>12.600000</td>\n",
       "      <td>0.320000</td>\n",
       "      <td>1.730000</td>\n",
       "      <td>5.000000</td>\n",
       "    </tr>\n",
       "    <tr>\n",
       "      <th>25%</th>\n",
       "      <td>0.082045</td>\n",
       "      <td>0.000000</td>\n",
       "      <td>5.190000</td>\n",
       "      <td>0.000000</td>\n",
       "      <td>0.449000</td>\n",
       "      <td>5.885500</td>\n",
       "      <td>45.025000</td>\n",
       "      <td>2.100175</td>\n",
       "      <td>4.000000</td>\n",
       "      <td>279.000000</td>\n",
       "      <td>17.400000</td>\n",
       "      <td>375.377500</td>\n",
       "      <td>6.950000</td>\n",
       "      <td>17.025000</td>\n",
       "    </tr>\n",
       "    <tr>\n",
       "      <th>50%</th>\n",
       "      <td>0.256510</td>\n",
       "      <td>0.000000</td>\n",
       "      <td>9.690000</td>\n",
       "      <td>0.000000</td>\n",
       "      <td>0.538000</td>\n",
       "      <td>6.208500</td>\n",
       "      <td>77.500000</td>\n",
       "      <td>3.207450</td>\n",
       "      <td>5.000000</td>\n",
       "      <td>330.000000</td>\n",
       "      <td>19.050000</td>\n",
       "      <td>391.440000</td>\n",
       "      <td>11.360000</td>\n",
       "      <td>21.200000</td>\n",
       "    </tr>\n",
       "    <tr>\n",
       "      <th>75%</th>\n",
       "      <td>3.677083</td>\n",
       "      <td>12.500000</td>\n",
       "      <td>18.100000</td>\n",
       "      <td>0.000000</td>\n",
       "      <td>0.624000</td>\n",
       "      <td>6.623500</td>\n",
       "      <td>94.075000</td>\n",
       "      <td>5.188425</td>\n",
       "      <td>24.000000</td>\n",
       "      <td>666.000000</td>\n",
       "      <td>20.200000</td>\n",
       "      <td>396.225000</td>\n",
       "      <td>16.955000</td>\n",
       "      <td>25.000000</td>\n",
       "    </tr>\n",
       "    <tr>\n",
       "      <th>max</th>\n",
       "      <td>88.976200</td>\n",
       "      <td>100.000000</td>\n",
       "      <td>27.740000</td>\n",
       "      <td>1.000000</td>\n",
       "      <td>0.871000</td>\n",
       "      <td>8.780000</td>\n",
       "      <td>100.000000</td>\n",
       "      <td>12.126500</td>\n",
       "      <td>24.000000</td>\n",
       "      <td>711.000000</td>\n",
       "      <td>22.000000</td>\n",
       "      <td>396.900000</td>\n",
       "      <td>37.970000</td>\n",
       "      <td>50.000000</td>\n",
       "    </tr>\n",
       "  </tbody>\n",
       "</table>\n",
       "</div>"
      ],
      "text/plain": [
       "             CRIM          ZN       INDUS        CHAS         NOX          RM  \\\n",
       "count  506.000000  506.000000  506.000000  506.000000  506.000000  506.000000   \n",
       "mean     3.613524   11.363636   11.136779    0.069170    0.554695    6.284634   \n",
       "std      8.601545   23.322453    6.860353    0.253994    0.115878    0.702617   \n",
       "min      0.006320    0.000000    0.460000    0.000000    0.385000    3.561000   \n",
       "25%      0.082045    0.000000    5.190000    0.000000    0.449000    5.885500   \n",
       "50%      0.256510    0.000000    9.690000    0.000000    0.538000    6.208500   \n",
       "75%      3.677083   12.500000   18.100000    0.000000    0.624000    6.623500   \n",
       "max     88.976200  100.000000   27.740000    1.000000    0.871000    8.780000   \n",
       "\n",
       "              AGE         DIS         RAD         TAX     PTRATIO           B  \\\n",
       "count  506.000000  506.000000  506.000000  506.000000  506.000000  506.000000   \n",
       "mean    68.574901    3.795043    9.549407  408.237154   18.455534  356.674032   \n",
       "std     28.148861    2.105710    8.707259  168.537116    2.164946   91.294864   \n",
       "min      2.900000    1.129600    1.000000  187.000000   12.600000    0.320000   \n",
       "25%     45.025000    2.100175    4.000000  279.000000   17.400000  375.377500   \n",
       "50%     77.500000    3.207450    5.000000  330.000000   19.050000  391.440000   \n",
       "75%     94.075000    5.188425   24.000000  666.000000   20.200000  396.225000   \n",
       "max    100.000000   12.126500   24.000000  711.000000   22.000000  396.900000   \n",
       "\n",
       "            LSTAT        MEDV  \n",
       "count  506.000000  506.000000  \n",
       "mean    12.653063   22.532806  \n",
       "std      7.141062    9.197104  \n",
       "min      1.730000    5.000000  \n",
       "25%      6.950000   17.025000  \n",
       "50%     11.360000   21.200000  \n",
       "75%     16.955000   25.000000  \n",
       "max     37.970000   50.000000  "
      ]
     },
     "execution_count": 469,
     "metadata": {},
     "output_type": "execute_result"
    }
   ],
   "source": [
    "# Get the statistical distributions of the dataset\n",
    "housing_df.describe()"
   ]
  },
  {
   "cell_type": "markdown",
   "id": "88a4872a",
   "metadata": {},
   "source": [
    "After running the describe function we got the minimum value, maximum value, mean, median, standard deviation, 1st quantile and 3rd quantile of each and every columns of the dataset. If we compare all these statistical formulas for each columns we can see there are outliers in some of the columns. For example, maximum value 88.976200 for the column CRIM is an outlier. Now, I am going to plot boxplot to check the outliers for all the columns."
   ]
  },
  {
   "cell_type": "code",
   "execution_count": 470,
   "id": "5e0ea904",
   "metadata": {},
   "outputs": [
    {
     "data": {
      "image/png": "[encoded data removed]",
      "text/plain": [
       "<Figure size 1080x360 with 14 Axes>"
      ]
     },
     "metadata": {
      "needs_background": "light"
     },
     "output_type": "display_data"
    }
   ],
   "source": [
    "# Outlier detection with the boxplot\n",
    "fig, ax = plt.subplots(ncols=7, nrows=2, figsize=(15, 5))\n",
    "ax = ax.flatten()\n",
    "index = 0\n",
    "\n",
    "for i in housing_df.columns:\n",
    "  sns.boxplot(y=i, data=housing_df, ax=ax[index])\n",
    "  index +=1\n",
    "plt.tight_layout(pad=0.4)\n",
    "plt.show()"
   ]
  },
  {
   "cell_type": "markdown",
   "id": "2acaa2f1",
   "metadata": {},
   "source": [
    "From the above boxplot, we can see data points below the 1st quantile and the data points above the 3rd quantile are outliers. Now, I am going to check the amount of outliers by feature."
   ]
  },
  {
   "cell_type": "code",
   "execution_count": 471,
   "id": "0079d798",
   "metadata": {},
   "outputs": [
    {
     "name": "stdout",
     "output_type": "stream",
     "text": [
      "Outliers in CRIM is 13.04% with count 66\n",
      "Outliers in ZN is 13.44% with count 68\n",
      "Outliers in INDUS is 0.00% with count 0\n",
      "Outliers in CHAS is 6.92% with count 35\n",
      "Outliers in NOX is 0.00% with count 0\n",
      "Outliers in RM is 5.93% with count 30\n",
      "Outliers in AGE is 0.00% with count 0\n",
      "Outliers in DIS is 0.99% with count 5\n",
      "Outliers in RAD is 0.00% with count 0\n",
      "Outliers in TAX is 0.00% with count 0\n",
      "Outliers in PTRATIO is 2.96% with count 15\n",
      "Outliers in B is 15.22% with count 77\n",
      "Outliers in LSTAT is 1.38% with count 7\n",
      "Outliers in MEDV is 7.91% with count 40\n"
     ]
    }
   ],
   "source": [
    "# Checking outliers by features\n",
    "for i in housing_df.columns:\n",
    "  housing_df.sort_values(by=i, ascending=True, na_position='last')\n",
    "  q1, q3 = np.nanpercentile(housing_df[i], [25,75])\n",
    "  iqr = q3-q1\n",
    "  lower_bound = q1-(1.5*iqr)\n",
    "  upper_bound = q3+(1.5*iqr)\n",
    "  outlier_data = housing_df[i][(housing_df[i] < lower_bound) | (housing_df[i] > upper_bound)] #creating a series of outlier data\n",
    "  perc = (outlier_data.count()/housing_df[i].count())*100\n",
    "  print('Outliers in %s is %.2f%% with count %.f' %(i, perc, outlier_data.count()))"
   ]
  },
  {
   "cell_type": "markdown",
   "id": "46440db8",
   "metadata": {},
   "source": [
    "Here, we can see the feature 'B' has most outliers with 15.2% followed by the feature 'ZN' with 13.44%. Features 'INDUS', 'NOX', 'AGE', 'RAD' and 'TAX' don't have outliers at all. Now, I am calling the corr function to get the correlation of the features. Then, plotted the correlation in the heatmap."
   ]
  },
  {
   "cell_type": "code",
   "execution_count": 472,
   "id": "59458461",
   "metadata": {},
   "outputs": [
    {
     "data": {
      "text/html": [
       "<div>\n",
       "<style scoped>\n",
       "    .dataframe tbody tr th:only-of-type {\n",
       "        vertical-align: middle;\n",
       "    }\n",
       "\n",
       "    .dataframe tbody tr th {\n",
       "        vertical-align: top;\n",
       "    }\n",
       "\n",
       "    .dataframe thead th {\n",
       "        text-align: right;\n",
       "    }\n",
       "</style>\n",
       "<table border=\"1\" class=\"dataframe\">\n",
       "  <thead>\n",
       "    <tr style=\"text-align: right;\">\n",
       "      <th></th>\n",
       "      <th>CRIM</th>\n",
       "      <th>ZN</th>\n",
       "      <th>INDUS</th>\n",
       "      <th>CHAS</th>\n",
       "      <th>NOX</th>\n",
       "      <th>RM</th>\n",
       "      <th>AGE</th>\n",
       "      <th>DIS</th>\n",
       "      <th>RAD</th>\n",
       "      <th>TAX</th>\n",
       "      <th>PTRATIO</th>\n",
       "      <th>B</th>\n",
       "      <th>LSTAT</th>\n",
       "      <th>MEDV</th>\n",
       "    </tr>\n",
       "  </thead>\n",
       "  <tbody>\n",
       "    <tr>\n",
       "      <th>CRIM</th>\n",
       "      <td>1.000000</td>\n",
       "      <td>-0.200469</td>\n",
       "      <td>0.406583</td>\n",
       "      <td>-0.055892</td>\n",
       "      <td>0.420972</td>\n",
       "      <td>-0.219247</td>\n",
       "      <td>0.352734</td>\n",
       "      <td>-0.379670</td>\n",
       "      <td>0.625505</td>\n",
       "      <td>0.582764</td>\n",
       "      <td>0.289946</td>\n",
       "      <td>-0.385064</td>\n",
       "      <td>0.455621</td>\n",
       "      <td>-0.388305</td>\n",
       "    </tr>\n",
       "    <tr>\n",
       "      <th>ZN</th>\n",
       "      <td>-0.200469</td>\n",
       "      <td>1.000000</td>\n",
       "      <td>-0.533828</td>\n",
       "      <td>-0.042697</td>\n",
       "      <td>-0.516604</td>\n",
       "      <td>0.311991</td>\n",
       "      <td>-0.569537</td>\n",
       "      <td>0.664408</td>\n",
       "      <td>-0.311948</td>\n",
       "      <td>-0.314563</td>\n",
       "      <td>-0.391679</td>\n",
       "      <td>0.175520</td>\n",
       "      <td>-0.412995</td>\n",
       "      <td>0.360445</td>\n",
       "    </tr>\n",
       "    <tr>\n",
       "      <th>INDUS</th>\n",
       "      <td>0.406583</td>\n",
       "      <td>-0.533828</td>\n",
       "      <td>1.000000</td>\n",
       "      <td>0.062938</td>\n",
       "      <td>0.763651</td>\n",
       "      <td>-0.391676</td>\n",
       "      <td>0.644779</td>\n",
       "      <td>-0.708027</td>\n",
       "      <td>0.595129</td>\n",
       "      <td>0.720760</td>\n",
       "      <td>0.383248</td>\n",
       "      <td>-0.356977</td>\n",
       "      <td>0.603800</td>\n",
       "      <td>-0.483725</td>\n",
       "    </tr>\n",
       "    <tr>\n",
       "      <th>CHAS</th>\n",
       "      <td>-0.055892</td>\n",
       "      <td>-0.042697</td>\n",
       "      <td>0.062938</td>\n",
       "      <td>1.000000</td>\n",
       "      <td>0.091203</td>\n",
       "      <td>0.091251</td>\n",
       "      <td>0.086518</td>\n",
       "      <td>-0.099176</td>\n",
       "      <td>-0.007368</td>\n",
       "      <td>-0.035587</td>\n",
       "      <td>-0.121515</td>\n",
       "      <td>0.048788</td>\n",
       "      <td>-0.053929</td>\n",
       "      <td>0.175260</td>\n",
       "    </tr>\n",
       "    <tr>\n",
       "      <th>NOX</th>\n",
       "      <td>0.420972</td>\n",
       "      <td>-0.516604</td>\n",
       "      <td>0.763651</td>\n",
       "      <td>0.091203</td>\n",
       "      <td>1.000000</td>\n",
       "      <td>-0.302188</td>\n",
       "      <td>0.731470</td>\n",
       "      <td>-0.769230</td>\n",
       "      <td>0.611441</td>\n",
       "      <td>0.668023</td>\n",
       "      <td>0.188933</td>\n",
       "      <td>-0.380051</td>\n",
       "      <td>0.590879</td>\n",
       "      <td>-0.427321</td>\n",
       "    </tr>\n",
       "    <tr>\n",
       "      <th>RM</th>\n",
       "      <td>-0.219247</td>\n",
       "      <td>0.311991</td>\n",
       "      <td>-0.391676</td>\n",
       "      <td>0.091251</td>\n",
       "      <td>-0.302188</td>\n",
       "      <td>1.000000</td>\n",
       "      <td>-0.240265</td>\n",
       "      <td>0.205246</td>\n",
       "      <td>-0.209847</td>\n",
       "      <td>-0.292048</td>\n",
       "      <td>-0.355501</td>\n",
       "      <td>0.128069</td>\n",
       "      <td>-0.613808</td>\n",
       "      <td>0.695360</td>\n",
       "    </tr>\n",
       "    <tr>\n",
       "      <th>AGE</th>\n",
       "      <td>0.352734</td>\n",
       "      <td>-0.569537</td>\n",
       "      <td>0.644779</td>\n",
       "      <td>0.086518</td>\n",
       "      <td>0.731470</td>\n",
       "      <td>-0.240265</td>\n",
       "      <td>1.000000</td>\n",
       "      <td>-0.747881</td>\n",
       "      <td>0.456022</td>\n",
       "      <td>0.506456</td>\n",
       "      <td>0.261515</td>\n",
       "      <td>-0.273534</td>\n",
       "      <td>0.602339</td>\n",
       "      <td>-0.376955</td>\n",
       "    </tr>\n",
       "    <tr>\n",
       "      <th>DIS</th>\n",
       "      <td>-0.379670</td>\n",
       "      <td>0.664408</td>\n",
       "      <td>-0.708027</td>\n",
       "      <td>-0.099176</td>\n",
       "      <td>-0.769230</td>\n",
       "      <td>0.205246</td>\n",
       "      <td>-0.747881</td>\n",
       "      <td>1.000000</td>\n",
       "      <td>-0.494588</td>\n",
       "      <td>-0.534432</td>\n",
       "      <td>-0.232471</td>\n",
       "      <td>0.291512</td>\n",
       "      <td>-0.496996</td>\n",
       "      <td>0.249929</td>\n",
       "    </tr>\n",
       "    <tr>\n",
       "      <th>RAD</th>\n",
       "      <td>0.625505</td>\n",
       "      <td>-0.311948</td>\n",
       "      <td>0.595129</td>\n",
       "      <td>-0.007368</td>\n",
       "      <td>0.611441</td>\n",
       "      <td>-0.209847</td>\n",
       "      <td>0.456022</td>\n",
       "      <td>-0.494588</td>\n",
       "      <td>1.000000</td>\n",
       "      <td>0.910228</td>\n",
       "      <td>0.464741</td>\n",
       "      <td>-0.444413</td>\n",
       "      <td>0.488676</td>\n",
       "      <td>-0.381626</td>\n",
       "    </tr>\n",
       "    <tr>\n",
       "      <th>TAX</th>\n",
       "      <td>0.582764</td>\n",
       "      <td>-0.314563</td>\n",
       "      <td>0.720760</td>\n",
       "      <td>-0.035587</td>\n",
       "      <td>0.668023</td>\n",
       "      <td>-0.292048</td>\n",
       "      <td>0.506456</td>\n",
       "      <td>-0.534432</td>\n",
       "      <td>0.910228</td>\n",
       "      <td>1.000000</td>\n",
       "      <td>0.460853</td>\n",
       "      <td>-0.441808</td>\n",
       "      <td>0.543993</td>\n",
       "      <td>-0.468536</td>\n",
       "    </tr>\n",
       "    <tr>\n",
       "      <th>PTRATIO</th>\n",
       "      <td>0.289946</td>\n",
       "      <td>-0.391679</td>\n",
       "      <td>0.383248</td>\n",
       "      <td>-0.121515</td>\n",
       "      <td>0.188933</td>\n",
       "      <td>-0.355501</td>\n",
       "      <td>0.261515</td>\n",
       "      <td>-0.232471</td>\n",
       "      <td>0.464741</td>\n",
       "      <td>0.460853</td>\n",
       "      <td>1.000000</td>\n",
       "      <td>-0.177383</td>\n",
       "      <td>0.374044</td>\n",
       "      <td>-0.507787</td>\n",
       "    </tr>\n",
       "    <tr>\n",
       "      <th>B</th>\n",
       "      <td>-0.385064</td>\n",
       "      <td>0.175520</td>\n",
       "      <td>-0.356977</td>\n",
       "      <td>0.048788</td>\n",
       "      <td>-0.380051</td>\n",
       "      <td>0.128069</td>\n",
       "      <td>-0.273534</td>\n",
       "      <td>0.291512</td>\n",
       "      <td>-0.444413</td>\n",
       "      <td>-0.441808</td>\n",
       "      <td>-0.177383</td>\n",
       "      <td>1.000000</td>\n",
       "      <td>-0.366087</td>\n",
       "      <td>0.333461</td>\n",
       "    </tr>\n",
       "    <tr>\n",
       "      <th>LSTAT</th>\n",
       "      <td>0.455621</td>\n",
       "      <td>-0.412995</td>\n",
       "      <td>0.603800</td>\n",
       "      <td>-0.053929</td>\n",
       "      <td>0.590879</td>\n",
       "      <td>-0.613808</td>\n",
       "      <td>0.602339</td>\n",
       "      <td>-0.496996</td>\n",
       "      <td>0.488676</td>\n",
       "      <td>0.543993</td>\n",
       "      <td>0.374044</td>\n",
       "      <td>-0.366087</td>\n",
       "      <td>1.000000</td>\n",
       "      <td>-0.737663</td>\n",
       "    </tr>\n",
       "    <tr>\n",
       "      <th>MEDV</th>\n",
       "      <td>-0.388305</td>\n",
       "      <td>0.360445</td>\n",
       "      <td>-0.483725</td>\n",
       "      <td>0.175260</td>\n",
       "      <td>-0.427321</td>\n",
       "      <td>0.695360</td>\n",
       "      <td>-0.376955</td>\n",
       "      <td>0.249929</td>\n",
       "      <td>-0.381626</td>\n",
       "      <td>-0.468536</td>\n",
       "      <td>-0.507787</td>\n",
       "      <td>0.333461</td>\n",
       "      <td>-0.737663</td>\n",
       "      <td>1.000000</td>\n",
       "    </tr>\n",
       "  </tbody>\n",
       "</table>\n",
       "</div>"
      ],
      "text/plain": [
       "             CRIM        ZN     INDUS      CHAS       NOX        RM       AGE  \\\n",
       "CRIM     1.000000 -0.200469  0.406583 -0.055892  0.420972 -0.219247  0.352734   \n",
       "ZN      -0.200469  1.000000 -0.533828 -0.042697 -0.516604  0.311991 -0.569537   \n",
       "INDUS    0.406583 -0.533828  1.000000  0.062938  0.763651 -0.391676  0.644779   \n",
       "CHAS    -0.055892 -0.042697  0.062938  1.000000  0.091203  0.091251  0.086518   \n",
       "NOX      0.420972 -0.516604  0.763651  0.091203  1.000000 -0.302188  0.731470   \n",
       "RM      -0.219247  0.311991 -0.391676  0.091251 -0.302188  1.000000 -0.240265   \n",
       "AGE      0.352734 -0.569537  0.644779  0.086518  0.731470 -0.240265  1.000000   \n",
       "DIS     -0.379670  0.664408 -0.708027 -0.099176 -0.769230  0.205246 -0.747881   \n",
       "RAD      0.625505 -0.311948  0.595129 -0.007368  0.611441 -0.209847  0.456022   \n",
       "TAX      0.582764 -0.314563  0.720760 -0.035587  0.668023 -0.292048  0.506456   \n",
       "PTRATIO  0.289946 -0.391679  0.383248 -0.121515  0.188933 -0.355501  0.261515   \n",
       "B       -0.385064  0.175520 -0.356977  0.048788 -0.380051  0.128069 -0.273534   \n",
       "LSTAT    0.455621 -0.412995  0.603800 -0.053929  0.590879 -0.613808  0.602339   \n",
       "MEDV    -0.388305  0.360445 -0.483725  0.175260 -0.427321  0.695360 -0.376955   \n",
       "\n",
       "              DIS       RAD       TAX   PTRATIO         B     LSTAT      MEDV  \n",
       "CRIM    -0.379670  0.625505  0.582764  0.289946 -0.385064  0.455621 -0.388305  \n",
       "ZN       0.664408 -0.311948 -0.314563 -0.391679  0.175520 -0.412995  0.360445  \n",
       "INDUS   -0.708027  0.595129  0.720760  0.383248 -0.356977  0.603800 -0.483725  \n",
       "CHAS    -0.099176 -0.007368 -0.035587 -0.121515  0.048788 -0.053929  0.175260  \n",
       "NOX     -0.769230  0.611441  0.668023  0.188933 -0.380051  0.590879 -0.427321  \n",
       "RM       0.205246 -0.209847 -0.292048 -0.355501  0.128069 -0.613808  0.695360  \n",
       "AGE     -0.747881  0.456022  0.506456  0.261515 -0.273534  0.602339 -0.376955  \n",
       "DIS      1.000000 -0.494588 -0.534432 -0.232471  0.291512 -0.496996  0.249929  \n",
       "RAD     -0.494588  1.000000  0.910228  0.464741 -0.444413  0.488676 -0.381626  \n",
       "TAX     -0.534432  0.910228  1.000000  0.460853 -0.441808  0.543993 -0.468536  \n",
       "PTRATIO -0.232471  0.464741  0.460853  1.000000 -0.177383  0.374044 -0.507787  \n",
       "B        0.291512 -0.444413 -0.441808 -0.177383  1.000000 -0.366087  0.333461  \n",
       "LSTAT   -0.496996  0.488676  0.543993  0.374044 -0.366087  1.000000 -0.737663  \n",
       "MEDV     0.249929 -0.381626 -0.468536 -0.507787  0.333461 -0.737663  1.000000  "
      ]
     },
     "execution_count": 472,
     "metadata": {},
     "output_type": "execute_result"
    }
   ],
   "source": [
    "# Get the correlation\n",
    "corr = housing_df.corr()\n",
    "corr"
   ]
  },
  {
   "cell_type": "code",
   "execution_count": 473,
   "id": "bbad9283",
   "metadata": {},
   "outputs": [
    {
     "data": {
      "image/png": "[encoded data removed]",
      "text/plain": [
       "<Figure size 1440x720 with 2 Axes>"
      ]
     },
     "metadata": {
      "needs_background": "light"
     },
     "output_type": "display_data"
    }
   ],
   "source": [
    "# Plotting the correlation in heatmap\n",
    "plt.figure(figsize=(20, 10))\n",
    "\n",
    "sb.heatmap(corr, cmap=\"coolwarm\", annot=True)\n",
    "plt.show()"
   ]
  },
  {
   "cell_type": "markdown",
   "id": "aa607b37",
   "metadata": {},
   "source": [
    "After getting the heatmap of the correlation, we can see that, the feature 'TAX' has strong positive correlation with the feature 'RAD'. The feature 'DIS' has significant negative correlation with the features 'NOX', 'AGE' and 'INDUS'. Also, the feature 'LSTAT' has significant negative correlation with the feature 'MEDV'. We can see the correlation of every features each other in the heat map."
   ]
  },
  {
   "cell_type": "markdown",
   "id": "c09c544f",
   "metadata": {},
   "source": [
    "# K-means Clustering"
   ]
  },
  {
   "cell_type": "markdown",
   "id": "5c76c9d7",
   "metadata": {},
   "source": [
    "I am doing clustering for all models with the features 'LSTAT' and 'MEDV'. Initially, I extracted these 2 features into dataset data_X. And this data_X is used in all the four clustering models. Before starting the K-means clustering to get the best k value, I am using the Elbow plot."
   ]
  },
  {
   "cell_type": "markdown",
   "id": "d8003e10",
   "metadata": {},
   "source": [
    "# Elbow plot to find the k value for the number of clusters"
   ]
  },
  {
   "cell_type": "code",
   "execution_count": 474,
   "id": "a5820495",
   "metadata": {},
   "outputs": [
    {
     "name": "stderr",
     "output_type": "stream",
     "text": [
      "C:\\Users\\Sandeep\\anaconda3\\lib\\site-packages\\sklearn\\cluster\\_kmeans.py:1036: UserWarning: KMeans is known to have a memory leak on Windows with MKL, when there are less chunks than available threads. You can avoid it by setting the environment variable OMP_NUM_THREADS=2.\n",
      "  warnings.warn(\n"
     ]
    },
    {
     "data": {
      "text/plain": [
       "[68468.64896699604,\n",
       " 33002.335469253936,\n",
       " 16696.213342254665,\n",
       " 11695.827374824674,\n",
       " 8101.153579250988,\n",
       " 6462.371610189381,\n",
       " 5688.138632940464,\n",
       " 5065.5857644457765,\n",
       " 4527.401846359797,\n",
       " 4070.8632527482987]"
      ]
     },
     "execution_count": 474,
     "metadata": {},
     "output_type": "execute_result"
    }
   ],
   "source": [
    "# Import libraries\n",
    "from sklearn.cluster import KMeans\n",
    "from sklearn.preprocessing import MinMaxScaler\n",
    "from sklearn.metrics import silhouette_score\n",
    "from sklearn.metrics.cluster import adjusted_rand_score\n",
    "\n",
    "# Get the values of the feature LSTAT and MEDV for all the clustering models\n",
    "data_X = housing_df.iloc[:,[12, 13]].values\n",
    "\n",
    "# Compute the SSE (Sum of Squared Errors)\n",
    "sse = []\n",
    "k_range = range(1,11)\n",
    "for k in k_range:\n",
    "    km = KMeans(n_clusters=k)\n",
    "    km.fit(data_X)\n",
    "    sse.append(km.inertia_)\n",
    "sse"
   ]
  },
  {
   "cell_type": "code",
   "execution_count": 475,
   "id": "09d6fb77",
   "metadata": {},
   "outputs": [
    {
     "data": {
      "text/plain": [
       "[<matplotlib.lines.Line2D at 0x18d46809370>]"
      ]
     },
     "execution_count": 475,
     "metadata": {},
     "output_type": "execute_result"
    },
    {
     "data": {
      "image/png": "[encoded data removed]",
      "text/plain": [
       "<Figure size 432x288 with 1 Axes>"
      ]
     },
     "metadata": {
      "needs_background": "light"
     },
     "output_type": "display_data"
    }
   ],
   "source": [
    "# Plot the result of SSE\n",
    "plt.xlabel('K')\n",
    "plt.ylabel('Sum of squared error')\n",
    "plt.plot(k_range,sse)"
   ]
  },
  {
   "cell_type": "markdown",
   "id": "ae09d228",
   "metadata": {},
   "source": [
    "From the Elbow plot, we got above we can see that best value of k for K-Means clustering is 3. Now, I am plotting our features 'LSTAT' and 'MEDV' before clustering."
   ]
  },
  {
   "cell_type": "code",
   "execution_count": 476,
   "id": "c90d8263",
   "metadata": {},
   "outputs": [
    {
     "data": {
      "text/plain": [
       "Text(0, 0.5, 'MEDV')"
      ]
     },
     "execution_count": 476,
     "metadata": {},
     "output_type": "execute_result"
    },
    {
     "data": {
      "image/png": "[encoded data removed]",
      "text/plain": [
       "<Figure size 432x288 with 1 Axes>"
      ]
     },
     "metadata": {
      "needs_background": "light"
     },
     "output_type": "display_data"
    }
   ],
   "source": [
    "# Plot the scatter plot\n",
    "plt.scatter(housing_df['LSTAT'], housing_df['MEDV'])\n",
    "plt.xlabel('LSTAT')\n",
    "plt.ylabel('MEDV')"
   ]
  },
  {
   "cell_type": "markdown",
   "id": "c719cbf9",
   "metadata": {},
   "source": [
    "Now, I run the K-means clustering with No of clusters 3 and predicted the cluster. Then, created the feature cluster in the dataset, to update the cluster we got."
   ]
  },
  {
   "cell_type": "code",
   "execution_count": 477,
   "id": "4d59a4f7",
   "metadata": {},
   "outputs": [
    {
     "data": {
      "text/plain": [
       "array([0, 0, 2, 2, 2, 0, 0, 0, 1, 1, 1, 0, 0, 0, 0, 0, 0, 0, 0, 0, 1, 0,\n",
       "       1, 1, 1, 1, 0, 1, 0, 0, 1, 0, 1, 1, 1, 0, 0, 0, 0, 2, 2, 0, 0, 0,\n",
       "       0, 0, 0, 1, 1, 0, 0, 0, 0, 0, 0, 2, 0, 2, 0, 0, 0, 0, 0, 0, 2, 0,\n",
       "       0, 0, 0, 0, 0, 0, 0, 0, 0, 0, 0, 0, 0, 0, 0, 0, 0, 0, 0, 0, 0, 0,\n",
       "       0, 0, 0, 0, 0, 0, 0, 0, 0, 2, 2, 2, 0, 0, 0, 0, 0, 0, 1, 0, 0, 0,\n",
       "       0, 0, 0, 1, 0, 0, 0, 0, 0, 0, 0, 0, 0, 1, 1, 0, 1, 1, 0, 1, 0, 0,\n",
       "       0, 0, 1, 1, 1, 0, 1, 1, 1, 1, 1, 1, 1, 1, 1, 1, 1, 1, 0, 0, 0, 0,\n",
       "       0, 1, 1, 2, 0, 0, 0, 2, 2, 2, 0, 0, 2, 0, 0, 0, 0, 0, 0, 0, 0, 0,\n",
       "       0, 0, 0, 2, 2, 2, 2, 2, 0, 0, 2, 2, 2, 2, 2, 2, 2, 2, 0, 2, 2, 0,\n",
       "       2, 2, 2, 0, 2, 2, 2, 0, 0, 0, 0, 1, 0, 1, 0, 0, 1, 0, 0, 0, 0, 0,\n",
       "       0, 1, 0, 0, 2, 2, 2, 2, 2, 2, 0, 2, 2, 2, 0, 0, 0, 2, 0, 0, 0, 0,\n",
       "       0, 0, 0, 1, 0, 0, 0, 0, 0, 0, 2, 2, 0, 0, 2, 2, 2, 0, 2, 2, 2, 0,\n",
       "       2, 0, 0, 2, 2, 0, 0, 0, 0, 2, 2, 2, 2, 2, 0, 2, 2, 2, 2, 2, 2, 0,\n",
       "       0, 0, 0, 0, 0, 2, 0, 0, 0, 0, 0, 0, 0, 0, 0, 0, 0, 2, 2, 0, 2, 0,\n",
       "       0, 0, 0, 0, 0, 0, 0, 0, 1, 0, 0, 0, 0, 0, 0, 0, 0, 0, 0, 0, 0, 0,\n",
       "       0, 0, 0, 0, 0, 0, 0, 0, 0, 0, 0, 2, 0, 0, 2, 0, 0, 0, 0, 0, 0, 0,\n",
       "       0, 2, 0, 0, 1, 0, 0, 0, 0, 0, 0, 0, 0, 0, 0, 0, 2, 2, 2, 2, 2, 1,\n",
       "       1, 0, 1, 1, 1, 1, 1, 1, 1, 1, 1, 1, 1, 1, 1, 1, 1, 0, 1, 1, 1, 1,\n",
       "       1, 1, 1, 1, 1, 1, 1, 1, 1, 1, 1, 0, 1, 0, 0, 1, 1, 1, 1, 1, 1, 1,\n",
       "       1, 1, 0, 1, 0, 1, 1, 1, 1, 1, 1, 1, 1, 1, 0, 1, 1, 1, 1, 1, 1, 1,\n",
       "       1, 1, 1, 1, 1, 1, 1, 1, 1, 1, 1, 1, 1, 1, 1, 1, 1, 1, 1, 0, 1, 0,\n",
       "       0, 0, 0, 0, 1, 1, 1, 0, 0, 0, 0, 0, 1, 1, 1, 1, 1, 0, 0, 0, 0, 0,\n",
       "       0, 0, 0, 0, 1, 1, 1, 1, 0, 0, 0, 0, 1, 0, 0, 0, 0, 0, 0, 0, 0, 0])"
      ]
     },
     "execution_count": 477,
     "metadata": {},
     "output_type": "execute_result"
    }
   ],
   "source": [
    "# Run K-means algorithm with k=3 which we got from elbow plot\n",
    "km = KMeans(n_clusters=3)\n",
    "y_predicted = km.fit_predict(data_X)\n",
    "y_predicted"
   ]
  },
  {
   "cell_type": "code",
   "execution_count": 478,
   "id": "4937d12e",
   "metadata": {},
   "outputs": [
    {
     "data": {
      "text/html": [
       "<div>\n",
       "<style scoped>\n",
       "    .dataframe tbody tr th:only-of-type {\n",
       "        vertical-align: middle;\n",
       "    }\n",
       "\n",
       "    .dataframe tbody tr th {\n",
       "        vertical-align: top;\n",
       "    }\n",
       "\n",
       "    .dataframe thead th {\n",
       "        text-align: right;\n",
       "    }\n",
       "</style>\n",
       "<table border=\"1\" class=\"dataframe\">\n",
       "  <thead>\n",
       "    <tr style=\"text-align: right;\">\n",
       "      <th></th>\n",
       "      <th>CRIM</th>\n",
       "      <th>ZN</th>\n",
       "      <th>INDUS</th>\n",
       "      <th>CHAS</th>\n",
       "      <th>NOX</th>\n",
       "      <th>RM</th>\n",
       "      <th>AGE</th>\n",
       "      <th>DIS</th>\n",
       "      <th>RAD</th>\n",
       "      <th>TAX</th>\n",
       "      <th>PTRATIO</th>\n",
       "      <th>B</th>\n",
       "      <th>LSTAT</th>\n",
       "      <th>MEDV</th>\n",
       "      <th>cluster</th>\n",
       "    </tr>\n",
       "  </thead>\n",
       "  <tbody>\n",
       "    <tr>\n",
       "      <th>0</th>\n",
       "      <td>0.00632</td>\n",
       "      <td>18.0</td>\n",
       "      <td>2.31</td>\n",
       "      <td>0</td>\n",
       "      <td>0.538</td>\n",
       "      <td>6.575</td>\n",
       "      <td>65.2</td>\n",
       "      <td>4.0900</td>\n",
       "      <td>1</td>\n",
       "      <td>296.0</td>\n",
       "      <td>15.3</td>\n",
       "      <td>396.90</td>\n",
       "      <td>4.98</td>\n",
       "      <td>24.0</td>\n",
       "      <td>0</td>\n",
       "    </tr>\n",
       "    <tr>\n",
       "      <th>1</th>\n",
       "      <td>0.02731</td>\n",
       "      <td>0.0</td>\n",
       "      <td>7.07</td>\n",
       "      <td>0</td>\n",
       "      <td>0.469</td>\n",
       "      <td>6.421</td>\n",
       "      <td>78.9</td>\n",
       "      <td>4.9671</td>\n",
       "      <td>2</td>\n",
       "      <td>242.0</td>\n",
       "      <td>17.8</td>\n",
       "      <td>396.90</td>\n",
       "      <td>9.14</td>\n",
       "      <td>21.6</td>\n",
       "      <td>0</td>\n",
       "    </tr>\n",
       "    <tr>\n",
       "      <th>2</th>\n",
       "      <td>0.02729</td>\n",
       "      <td>0.0</td>\n",
       "      <td>7.07</td>\n",
       "      <td>0</td>\n",
       "      <td>0.469</td>\n",
       "      <td>7.185</td>\n",
       "      <td>61.1</td>\n",
       "      <td>4.9671</td>\n",
       "      <td>2</td>\n",
       "      <td>242.0</td>\n",
       "      <td>17.8</td>\n",
       "      <td>392.83</td>\n",
       "      <td>4.03</td>\n",
       "      <td>34.7</td>\n",
       "      <td>2</td>\n",
       "    </tr>\n",
       "    <tr>\n",
       "      <th>3</th>\n",
       "      <td>0.03237</td>\n",
       "      <td>0.0</td>\n",
       "      <td>2.18</td>\n",
       "      <td>0</td>\n",
       "      <td>0.458</td>\n",
       "      <td>6.998</td>\n",
       "      <td>45.8</td>\n",
       "      <td>6.0622</td>\n",
       "      <td>3</td>\n",
       "      <td>222.0</td>\n",
       "      <td>18.7</td>\n",
       "      <td>394.63</td>\n",
       "      <td>2.94</td>\n",
       "      <td>33.4</td>\n",
       "      <td>2</td>\n",
       "    </tr>\n",
       "    <tr>\n",
       "      <th>4</th>\n",
       "      <td>0.06905</td>\n",
       "      <td>0.0</td>\n",
       "      <td>2.18</td>\n",
       "      <td>0</td>\n",
       "      <td>0.458</td>\n",
       "      <td>7.147</td>\n",
       "      <td>54.2</td>\n",
       "      <td>6.0622</td>\n",
       "      <td>3</td>\n",
       "      <td>222.0</td>\n",
       "      <td>18.7</td>\n",
       "      <td>396.90</td>\n",
       "      <td>5.33</td>\n",
       "      <td>36.2</td>\n",
       "      <td>2</td>\n",
       "    </tr>\n",
       "  </tbody>\n",
       "</table>\n",
       "</div>"
      ],
      "text/plain": [
       "      CRIM    ZN  INDUS  CHAS    NOX     RM   AGE     DIS  RAD    TAX  \\\n",
       "0  0.00632  18.0   2.31     0  0.538  6.575  65.2  4.0900    1  296.0   \n",
       "1  0.02731   0.0   7.07     0  0.469  6.421  78.9  4.9671    2  242.0   \n",
       "2  0.02729   0.0   7.07     0  0.469  7.185  61.1  4.9671    2  242.0   \n",
       "3  0.03237   0.0   2.18     0  0.458  6.998  45.8  6.0622    3  222.0   \n",
       "4  0.06905   0.0   2.18     0  0.458  7.147  54.2  6.0622    3  222.0   \n",
       "\n",
       "   PTRATIO       B  LSTAT  MEDV  cluster  \n",
       "0     15.3  396.90   4.98  24.0        0  \n",
       "1     17.8  396.90   9.14  21.6        0  \n",
       "2     17.8  392.83   4.03  34.7        2  \n",
       "3     18.7  394.63   2.94  33.4        2  \n",
       "4     18.7  396.90   5.33  36.2        2  "
      ]
     },
     "execution_count": 478,
     "metadata": {},
     "output_type": "execute_result"
    }
   ],
   "source": [
    "# Created new column for cluster\n",
    "housing_df['cluster'] = y_predicted\n",
    "housing_df.head()"
   ]
  },
  {
   "cell_type": "code",
   "execution_count": 479,
   "id": "e498bff2",
   "metadata": {},
   "outputs": [
    {
     "data": {
      "text/plain": [
       "array([[10.39878049, 22.19512195],\n",
       "       [21.93746377, 13.5173913 ],\n",
       "       [ 4.82259259, 39.08888889]])"
      ]
     },
     "execution_count": 479,
     "metadata": {},
     "output_type": "execute_result"
    }
   ],
   "source": [
    "# Get the cluster centers\n",
    "km.cluster_centers_"
   ]
  },
  {
   "cell_type": "markdown",
   "id": "c12f59f0",
   "metadata": {},
   "source": [
    "Here, we got the centroids of each of the 3 clusters. Then, I am plotting the result I got in the scatter plot with different colors for different clusters."
   ]
  },
  {
   "cell_type": "code",
   "execution_count": 480,
   "id": "b4e19b3b",
   "metadata": {},
   "outputs": [
    {
     "data": {
      "text/plain": [
       "<matplotlib.legend.Legend at 0x18d46937880>"
      ]
     },
     "execution_count": 480,
     "metadata": {},
     "output_type": "execute_result"
    },
    {
     "data": {
      "image/png": "[encoded data removed]",
      "text/plain": [
       "<Figure size 432x288 with 1 Axes>"
      ]
     },
     "metadata": {
      "needs_background": "light"
     },
     "output_type": "display_data"
    }
   ],
   "source": [
    "# Plot clusters and centroids\n",
    "housing_df1 = housing_df[housing_df.cluster==0]\n",
    "housing_df2 = housing_df[housing_df.cluster==1]\n",
    "housing_df3 = housing_df[housing_df.cluster==2]\n",
    "\n",
    "plt.scatter(housing_df1.LSTAT, housing_df1['MEDV'], color='green')\n",
    "plt.scatter(housing_df2.LSTAT, housing_df2['MEDV'], color='red')\n",
    "plt.scatter(housing_df3.LSTAT, housing_df3['MEDV'], color='black')\n",
    "\n",
    "# Plot centers\n",
    "plt.scatter(km.cluster_centers_[:,0],km.cluster_centers_[:,1],color='purple',marker='*',label='centroid')\n",
    "plt.xlabel('LSTAT')\n",
    "plt.ylabel('MEDV')\n",
    "plt.legend()"
   ]
  },
  {
   "cell_type": "markdown",
   "id": "c5a58d33",
   "metadata": {},
   "source": [
    "You can see the clustering we got in the plot above. You can see the centroid for each clusters which is marked with the symbol '*'. Now, I am doing data preprocessing by using the MinMaxScaler function to get the scatter plot starting with base zero. Minmax scalar will convert the features between the range zero and one. Here, actually we don't need to do MinMaxScaler, since the base of the scatterplot already starts with zero."
   ]
  },
  {
   "cell_type": "markdown",
   "id": "fe800dc2",
   "metadata": {},
   "source": [
    "# Data Preprocessing"
   ]
  },
  {
   "cell_type": "code",
   "execution_count": 481,
   "id": "1bf5b61e",
   "metadata": {},
   "outputs": [],
   "source": [
    "# transform Variables LSTAT and MEDV on MinMax Scale\n",
    "\n",
    "scaler = MinMaxScaler()\n",
    "\n",
    "scaler.fit(housing_df[['LSTAT']])\n",
    "housing_df['LSTAT'] = scaler.transform(housing_df[['LSTAT']])\n",
    "\n",
    "# transform Age\n",
    "scaler.fit(housing_df[['MEDV']])\n",
    "housing_df['MEDV'] = scaler.transform(housing_df[['MEDV']])\n",
    "housing_df.head()\n",
    "\n",
    "data_X = housing_df.iloc[:,[12, 13]].values"
   ]
  },
  {
   "cell_type": "code",
   "execution_count": 482,
   "id": "355dbeea",
   "metadata": {},
   "outputs": [
    {
     "data": {
      "text/plain": [
       "Text(0, 0.5, 'MEDV')"
      ]
     },
     "execution_count": 482,
     "metadata": {},
     "output_type": "execute_result"
    },
    {
     "data": {
      "image/png": "[encoded data removed]",
      "text/plain": [
       "<Figure size 432x288 with 1 Axes>"
      ]
     },
     "metadata": {
      "needs_background": "light"
     },
     "output_type": "display_data"
    }
   ],
   "source": [
    "# Plot after data preprocessing\n",
    "plt.scatter(housing_df['LSTAT'], housing_df['MEDV'])\n",
    "plt.xlabel('LSTAT')\n",
    "plt.ylabel('MEDV')"
   ]
  },
  {
   "cell_type": "markdown",
   "id": "d9011874",
   "metadata": {},
   "source": [
    "At above figure, we can see the scatterplot after Minmax scaling. Now, I am going to do K-Means clustering with the preprocessed data."
   ]
  },
  {
   "cell_type": "code",
   "execution_count": 483,
   "id": "2dba52fc",
   "metadata": {},
   "outputs": [
    {
     "data": {
      "text/plain": [
       "array([0, 0, 1, 1, 1, 0, 0, 0, 2, 2, 2, 0, 0, 0, 0, 0, 0, 0, 0, 0, 2, 0,\n",
       "       2, 2, 2, 2, 0, 2, 0, 0, 2, 0, 2, 2, 2, 0, 0, 0, 0, 1, 1, 0, 0, 0,\n",
       "       0, 0, 0, 2, 2, 0, 0, 0, 0, 0, 0, 1, 0, 1, 0, 0, 0, 0, 0, 0, 1, 0,\n",
       "       0, 0, 0, 0, 0, 0, 0, 0, 0, 0, 0, 0, 0, 0, 0, 0, 0, 0, 0, 0, 0, 0,\n",
       "       0, 0, 0, 0, 0, 0, 0, 0, 0, 1, 1, 1, 0, 0, 0, 0, 0, 0, 2, 0, 0, 0,\n",
       "       0, 0, 0, 2, 0, 0, 0, 0, 0, 0, 0, 0, 2, 2, 2, 0, 2, 2, 0, 2, 0, 0,\n",
       "       0, 0, 2, 2, 2, 0, 2, 2, 2, 2, 2, 2, 2, 2, 2, 2, 2, 2, 0, 0, 0, 0,\n",
       "       0, 0, 2, 1, 0, 0, 0, 1, 1, 1, 0, 0, 1, 0, 0, 0, 0, 0, 0, 0, 0, 1,\n",
       "       0, 0, 1, 1, 1, 1, 1, 1, 0, 0, 1, 1, 1, 1, 1, 1, 1, 1, 1, 1, 1, 0,\n",
       "       1, 1, 1, 0, 1, 1, 1, 0, 0, 0, 0, 2, 0, 2, 0, 0, 2, 0, 0, 0, 0, 0,\n",
       "       0, 2, 0, 0, 1, 1, 1, 1, 1, 1, 0, 1, 1, 1, 0, 0, 0, 1, 0, 0, 0, 0,\n",
       "       0, 0, 0, 2, 0, 0, 0, 0, 0, 0, 1, 1, 0, 0, 1, 1, 1, 1, 1, 1, 1, 0,\n",
       "       1, 0, 0, 1, 1, 0, 0, 0, 0, 1, 1, 1, 1, 1, 0, 1, 1, 1, 1, 1, 1, 0,\n",
       "       0, 0, 0, 0, 1, 1, 0, 0, 0, 0, 0, 0, 0, 1, 0, 0, 0, 1, 1, 0, 1, 0,\n",
       "       0, 0, 0, 0, 0, 0, 0, 0, 2, 0, 0, 0, 0, 0, 0, 0, 0, 0, 0, 0, 0, 0,\n",
       "       0, 0, 0, 0, 0, 0, 0, 0, 0, 0, 0, 1, 0, 0, 1, 0, 0, 0, 0, 0, 0, 0,\n",
       "       0, 1, 0, 0, 2, 0, 0, 0, 0, 0, 0, 0, 0, 0, 0, 0, 1, 1, 1, 1, 1, 2,\n",
       "       2, 0, 2, 2, 2, 2, 2, 2, 2, 2, 2, 2, 2, 2, 2, 2, 2, 0, 2, 2, 2, 2,\n",
       "       2, 2, 2, 2, 2, 2, 2, 2, 2, 2, 2, 0, 2, 0, 0, 2, 2, 2, 2, 2, 2, 2,\n",
       "       2, 2, 0, 2, 0, 2, 2, 2, 2, 2, 2, 2, 2, 2, 0, 2, 2, 2, 2, 2, 2, 2,\n",
       "       2, 2, 2, 2, 2, 2, 2, 2, 2, 2, 2, 2, 2, 2, 2, 2, 2, 2, 2, 0, 2, 0,\n",
       "       0, 0, 0, 0, 2, 2, 2, 0, 0, 0, 0, 0, 2, 2, 2, 2, 2, 0, 0, 0, 0, 0,\n",
       "       0, 0, 0, 0, 2, 2, 2, 2, 0, 0, 0, 0, 2, 0, 0, 0, 0, 0, 0, 0, 0, 0])"
      ]
     },
     "execution_count": 483,
     "metadata": {},
     "output_type": "execute_result"
    }
   ],
   "source": [
    "# Run same K-means algorithm after data preprocessing\n",
    "km = KMeans(n_clusters=3)\n",
    "y_predicted = km.fit_predict(data_X)\n",
    "y_predicted"
   ]
  },
  {
   "cell_type": "code",
   "execution_count": 484,
   "id": "95d1c71e",
   "metadata": {},
   "outputs": [
    {
     "data": {
      "text/html": [
       "<div>\n",
       "<style scoped>\n",
       "    .dataframe tbody tr th:only-of-type {\n",
       "        vertical-align: middle;\n",
       "    }\n",
       "\n",
       "    .dataframe tbody tr th {\n",
       "        vertical-align: top;\n",
       "    }\n",
       "\n",
       "    .dataframe thead th {\n",
       "        text-align: right;\n",
       "    }\n",
       "</style>\n",
       "<table border=\"1\" class=\"dataframe\">\n",
       "  <thead>\n",
       "    <tr style=\"text-align: right;\">\n",
       "      <th></th>\n",
       "      <th>CRIM</th>\n",
       "      <th>ZN</th>\n",
       "      <th>INDUS</th>\n",
       "      <th>CHAS</th>\n",
       "      <th>NOX</th>\n",
       "      <th>RM</th>\n",
       "      <th>AGE</th>\n",
       "      <th>DIS</th>\n",
       "      <th>RAD</th>\n",
       "      <th>TAX</th>\n",
       "      <th>PTRATIO</th>\n",
       "      <th>B</th>\n",
       "      <th>LSTAT</th>\n",
       "      <th>MEDV</th>\n",
       "      <th>cluster</th>\n",
       "    </tr>\n",
       "  </thead>\n",
       "  <tbody>\n",
       "    <tr>\n",
       "      <th>0</th>\n",
       "      <td>0.00632</td>\n",
       "      <td>18.0</td>\n",
       "      <td>2.31</td>\n",
       "      <td>0</td>\n",
       "      <td>0.538</td>\n",
       "      <td>6.575</td>\n",
       "      <td>65.2</td>\n",
       "      <td>4.0900</td>\n",
       "      <td>1</td>\n",
       "      <td>296.0</td>\n",
       "      <td>15.3</td>\n",
       "      <td>396.90</td>\n",
       "      <td>0.089680</td>\n",
       "      <td>0.422222</td>\n",
       "      <td>0</td>\n",
       "    </tr>\n",
       "    <tr>\n",
       "      <th>1</th>\n",
       "      <td>0.02731</td>\n",
       "      <td>0.0</td>\n",
       "      <td>7.07</td>\n",
       "      <td>0</td>\n",
       "      <td>0.469</td>\n",
       "      <td>6.421</td>\n",
       "      <td>78.9</td>\n",
       "      <td>4.9671</td>\n",
       "      <td>2</td>\n",
       "      <td>242.0</td>\n",
       "      <td>17.8</td>\n",
       "      <td>396.90</td>\n",
       "      <td>0.204470</td>\n",
       "      <td>0.368889</td>\n",
       "      <td>0</td>\n",
       "    </tr>\n",
       "    <tr>\n",
       "      <th>2</th>\n",
       "      <td>0.02729</td>\n",
       "      <td>0.0</td>\n",
       "      <td>7.07</td>\n",
       "      <td>0</td>\n",
       "      <td>0.469</td>\n",
       "      <td>7.185</td>\n",
       "      <td>61.1</td>\n",
       "      <td>4.9671</td>\n",
       "      <td>2</td>\n",
       "      <td>242.0</td>\n",
       "      <td>17.8</td>\n",
       "      <td>392.83</td>\n",
       "      <td>0.063466</td>\n",
       "      <td>0.660000</td>\n",
       "      <td>1</td>\n",
       "    </tr>\n",
       "    <tr>\n",
       "      <th>3</th>\n",
       "      <td>0.03237</td>\n",
       "      <td>0.0</td>\n",
       "      <td>2.18</td>\n",
       "      <td>0</td>\n",
       "      <td>0.458</td>\n",
       "      <td>6.998</td>\n",
       "      <td>45.8</td>\n",
       "      <td>6.0622</td>\n",
       "      <td>3</td>\n",
       "      <td>222.0</td>\n",
       "      <td>18.7</td>\n",
       "      <td>394.63</td>\n",
       "      <td>0.033389</td>\n",
       "      <td>0.631111</td>\n",
       "      <td>1</td>\n",
       "    </tr>\n",
       "    <tr>\n",
       "      <th>4</th>\n",
       "      <td>0.06905</td>\n",
       "      <td>0.0</td>\n",
       "      <td>2.18</td>\n",
       "      <td>0</td>\n",
       "      <td>0.458</td>\n",
       "      <td>7.147</td>\n",
       "      <td>54.2</td>\n",
       "      <td>6.0622</td>\n",
       "      <td>3</td>\n",
       "      <td>222.0</td>\n",
       "      <td>18.7</td>\n",
       "      <td>396.90</td>\n",
       "      <td>0.099338</td>\n",
       "      <td>0.693333</td>\n",
       "      <td>1</td>\n",
       "    </tr>\n",
       "  </tbody>\n",
       "</table>\n",
       "</div>"
      ],
      "text/plain": [
       "      CRIM    ZN  INDUS  CHAS    NOX     RM   AGE     DIS  RAD    TAX  \\\n",
       "0  0.00632  18.0   2.31     0  0.538  6.575  65.2  4.0900    1  296.0   \n",
       "1  0.02731   0.0   7.07     0  0.469  6.421  78.9  4.9671    2  242.0   \n",
       "2  0.02729   0.0   7.07     0  0.469  7.185  61.1  4.9671    2  242.0   \n",
       "3  0.03237   0.0   2.18     0  0.458  6.998  45.8  6.0622    3  222.0   \n",
       "4  0.06905   0.0   2.18     0  0.458  7.147  54.2  6.0622    3  222.0   \n",
       "\n",
       "   PTRATIO       B     LSTAT      MEDV  cluster  \n",
       "0     15.3  396.90  0.089680  0.422222        0  \n",
       "1     17.8  396.90  0.204470  0.368889        0  \n",
       "2     17.8  392.83  0.063466  0.660000        1  \n",
       "3     18.7  394.63  0.033389  0.631111        1  \n",
       "4     18.7  396.90  0.099338  0.693333        1  "
      ]
     },
     "execution_count": 484,
     "metadata": {},
     "output_type": "execute_result"
    }
   ],
   "source": [
    "housing_df['cluster'] = y_predicted\n",
    "housing_df.head()"
   ]
  },
  {
   "cell_type": "code",
   "execution_count": 485,
   "id": "25574d15",
   "metadata": {},
   "outputs": [
    {
     "data": {
      "text/plain": [
       "array([[0.2419428 , 0.37833926],\n",
       "       [0.08618152, 0.74257982],\n",
       "       [0.55818297, 0.19006441]])"
      ]
     },
     "execution_count": 485,
     "metadata": {},
     "output_type": "execute_result"
    }
   ],
   "source": [
    "# Get the cluster centers\n",
    "km.cluster_centers_"
   ]
  },
  {
   "cell_type": "code",
   "execution_count": 486,
   "id": "3d842f9c",
   "metadata": {},
   "outputs": [
    {
     "data": {
      "text/plain": [
       "<matplotlib.legend.Legend at 0x18d4c88c130>"
      ]
     },
     "execution_count": 486,
     "metadata": {},
     "output_type": "execute_result"
    },
    {
     "data": {
      "image/png": "[encoded data removed]",
      "text/plain": [
       "<Figure size 432x288 with 1 Axes>"
      ]
     },
     "metadata": {
      "needs_background": "light"
     },
     "output_type": "display_data"
    }
   ],
   "source": [
    "# Plot final clusters and centroids after preprocessing\n",
    "housing_df1 = housing_df[housing_df.cluster==0]\n",
    "housing_df2 = housing_df[housing_df.cluster==1]\n",
    "housing_df3 = housing_df[housing_df.cluster==2]\n",
    "\n",
    "plt.scatter(housing_df1.LSTAT, housing_df1['MEDV'], color='green')\n",
    "plt.scatter(housing_df2.LSTAT, housing_df2['MEDV'], color='red')\n",
    "plt.scatter(housing_df3.LSTAT, housing_df3['MEDV'], color='black')\n",
    "\n",
    "# Plot centers\n",
    "plt.scatter(km.cluster_centers_[:,0],km.cluster_centers_[:,1],color='purple',marker='*',label='centroid')\n",
    "plt.title(\"Plot for the K-means Clustering\")\n",
    "plt.xlabel('LSTAT')\n",
    "plt.ylabel('MEDV')\n",
    "plt.legend()"
   ]
  },
  {
   "cell_type": "markdown",
   "id": "de13fd38",
   "metadata": {},
   "source": [
    "In the above figure, we can see the scatterplot after Minmax scaling. Now, I am going to do K-Means clustering with the preprocessed data."
   ]
  },
  {
   "cell_type": "markdown",
   "id": "37e2dffe",
   "metadata": {},
   "source": [
    "# Evaluation of the K-means Clustering Model"
   ]
  },
  {
   "cell_type": "markdown",
   "id": "7bcc3225",
   "metadata": {},
   "source": [
    "Here, I am going to evaluate the K-means Clustering model with the Silhouette Coefficient. Evaluation with the Adjusted Rand Index (ARI) is not possible, since the dataset does not contains ground truth labels."
   ]
  },
  {
   "cell_type": "code",
   "execution_count": 487,
   "id": "711183f7",
   "metadata": {},
   "outputs": [
    {
     "name": "stdout",
     "output_type": "stream",
     "text": [
      "Silhouette score for the K-means Clustering model with 3 clusters is 0.48647781810574786\n"
     ]
    }
   ],
   "source": [
    "# Calculate Silhouette Coefficient for our model\n",
    "silhouette_coefficient = silhouette_score(data_X, y_predicted)\n",
    "print(\"Silhouette score for the K-means Clustering model with 3 clusters is\", silhouette_coefficient)"
   ]
  },
  {
   "cell_type": "markdown",
   "id": "9801a4f8",
   "metadata": {},
   "source": [
    "Here, I got the Silhouette score of 0.48647781810574786 for the K-means Clustering with 3 clusters. Now, I am going to check the Silhouette score of the K-means Clustering model with k value ranging from 2 to 10."
   ]
  },
  {
   "cell_type": "code",
   "execution_count": 488,
   "id": "0fc6e07e",
   "metadata": {},
   "outputs": [
    {
     "name": "stdout",
     "output_type": "stream",
     "text": [
      "Silhouette score for the K-means with 2 cluster is 0.45342567290923286\n",
      "Silhouette score for the K-means with 3 cluster is 0.48647781810574786\n",
      "Silhouette score for the K-means with 4 cluster is 0.4410670915413514\n",
      "Silhouette score for the K-means with 5 cluster is 0.4448113097076989\n",
      "Silhouette score for the K-means with 6 cluster is 0.41943759293845695\n",
      "Silhouette score for the K-means with 7 cluster is 0.3988937582055294\n",
      "Silhouette score for the K-means with 8 cluster is 0.3739538535550476\n",
      "Silhouette score for the K-means with 9 cluster is 0.38598656165195205\n",
      "Silhouette score for the K-means with 10 cluster is 0.36789062484862295\n"
     ]
    }
   ],
   "source": [
    "# Calculate Silhouette Coefficient by number of clusters from 2 to 10\n",
    "silhouette_coefficients = []\n",
    "\n",
    "k_range = range(2, 11)\n",
    "for k in k_range:\n",
    "    km = KMeans(n_clusters=k)\n",
    "    y_predicted = km.fit_predict(data_X)\n",
    "    silhouette_coefficient = silhouette_score(data_X, y_predicted)\n",
    "    silhouette_coefficients.append(silhouette_coefficient)\n",
    "    print(\"Silhouette score for the K-means with\", k, \"cluster is\", silhouette_coefficient)   "
   ]
  },
  {
   "cell_type": "markdown",
   "id": "9517d17e",
   "metadata": {},
   "source": [
    "After checking the results of the Silhouette score for the K-means Clustering model with k value ranging from 2 to 10, we can see that K-means with number of clusters 3 has the best Silhouette score. With the Elbow plot also, we got the best value of the number of clusters as 3. Now, I am plotting the scatter plot of the Silhouette Coefficient with Number of Clusters to get the graphical representation of the results we got."
   ]
  },
  {
   "cell_type": "code",
   "execution_count": 489,
   "id": "a3cd97d1",
   "metadata": {},
   "outputs": [
    {
     "data": {
      "image/png": "[encoded data removed]",
      "text/plain": [
       "<Figure size 432x288 with 1 Axes>"
      ]
     },
     "metadata": {
      "needs_background": "light"
     },
     "output_type": "display_data"
    }
   ],
   "source": [
    "#Plot the Silhouette Coefficients by Number of Clusters\n",
    "\n",
    "plt.plot(k_range, silhouette_coefficients)\n",
    "plt.xticks(k_range)\n",
    "plt.xlabel(\"Number of Clusters\")\n",
    "plt.ylabel(\"Silhouette Coefficient\")\n",
    "plt.title(\"Silhouette Coefficient by Number of Clusters\")\n",
    "plt.show()"
   ]
  },
  {
   "cell_type": "markdown",
   "id": "9de064f1",
   "metadata": {},
   "source": [
    "# DBSCAN"
   ]
  },
  {
   "cell_type": "markdown",
   "id": "79142806",
   "metadata": {},
   "source": [
    "Initially, I am going to find out the best value of Epsilon and Minimum number of points for the DBSCAN"
   ]
  },
  {
   "cell_type": "code",
   "execution_count": 490,
   "id": "fb45fae8",
   "metadata": {},
   "outputs": [
    {
     "data": {
      "image/png": "[encoded data removed]",
      "text/plain": [
       "<Figure size 432x288 with 1 Axes>"
      ]
     },
     "metadata": {
      "needs_background": "light"
     },
     "output_type": "display_data"
    }
   ],
   "source": [
    "# Import libraries\n",
    "from sklearn.neighbors import NearestNeighbors\n",
    "from sklearn.cluster import DBSCAN\n",
    "from numpy import unique, where\n",
    "\n",
    "# Find the appropriate Epsilon value\n",
    "neigh = NearestNeighbors(n_neighbors=10)\n",
    "nbrs = neigh.fit(data_X)\n",
    "distances, indices = nbrs.kneighbors(data_X)\n",
    "for k in range(1, 10):\n",
    "    distances_k = np.sort(distances[:,k], axis=0)\n",
    "    plt.plot(distances_k, label='minPts=%i' % (k+1))\n",
    "    \n",
    "plt.ylabel('Epsilon')\n",
    "plt.xlabel('Number of core points')\n",
    "plt.axhline(0.03)\n",
    "plt.axhline(0.07)\n",
    "plt.legend()\n",
    "plt.show()"
   ]
  },
  {
   "cell_type": "markdown",
   "id": "405928ce",
   "metadata": {},
   "source": [
    "From the plot above, we can see that the Epsilon value is ranging from 0.03 to 0.07 for Minimum points ranging from 2 to 10. Here, I am running the DBSCAN clustering model with Epsilon value 0.04 and Minimum Samples 5."
   ]
  },
  {
   "cell_type": "code",
   "execution_count": 491,
   "id": "5d1d1f1a",
   "metadata": {},
   "outputs": [
    {
     "data": {
      "text/plain": [
       "array([ 0,  0,  0,  0,  0,  0,  0, -1, -1,  0,  0,  0,  0,  0,  0,  0,  0,\n",
       "        0,  0,  0,  0,  0,  0,  0,  0,  0,  0,  0,  0,  0,  0,  0, -1,  0,\n",
       "        0,  0,  0,  0,  0,  0, -1,  0,  0,  0,  0,  0,  0,  0, -1,  0,  0,\n",
       "        0,  0,  0,  0,  0,  0,  0,  0,  0,  0,  0,  0,  0, -1,  0,  0,  0,\n",
       "        0,  0,  0,  0,  0,  0,  0,  0,  0,  0,  0,  0,  0,  0,  0,  0,  0,\n",
       "        0,  0,  0,  0,  0,  0,  0,  0,  0,  0,  0,  0,  0,  1,  0,  0,  0,\n",
       "        0,  0,  0,  0,  0,  0,  0,  0,  0,  0,  0,  0,  0,  0,  0,  0,  0,\n",
       "        0,  0,  0,  0, -1,  0,  0, -1,  0,  0,  0,  0,  0,  0,  0,  0,  0,\n",
       "        0,  0,  0,  0,  0, -1, -1, -1, -1, -1,  0, -1, -1,  0,  0,  0,  0,\n",
       "        0,  0,  0,  0, -1,  0,  0,  0,  2,  2,  2,  0,  0,  2,  0,  0,  0,\n",
       "        0,  0,  0,  0,  0,  0,  0,  0,  0,  0, -1, -1,  0,  0, -1, -1,  2,\n",
       "        0,  0,  0,  0,  0,  0,  0,  0,  2,  0,  0,  0,  0,  0,  0,  1,  2,\n",
       "        2,  0,  0,  0,  0, -1,  0, -1,  0,  0, -1,  0,  0,  0,  0,  0,  0,\n",
       "       -1,  0,  0,  1,  2,  0,  0,  1,  0,  0,  0,  1,  2,  0,  0,  0,  0,\n",
       "        0,  0,  0,  0,  0,  0,  0,  0,  0,  0,  0,  0,  0, -1,  0,  1,  0,\n",
       "        0,  1,  2,  0,  0, -1, -1,  2, -1,  0,  0, -1, -1,  1,  0,  0,  0,\n",
       "        0,  0,  0,  0,  0,  0,  0,  0,  1,  0,  1,  2,  0,  0,  0,  0,  0,\n",
       "        0,  0,  0,  0,  0,  0,  0,  0,  0,  0,  0,  0,  0,  0,  0,  0,  0,\n",
       "        0,  0,  0,  0,  0,  0,  0,  0,  0,  0,  0,  0,  0,  0,  0,  0,  0,\n",
       "        0,  0,  0,  0,  0,  0,  0,  0,  0,  0,  0,  0,  0,  0,  0,  0,  0,\n",
       "        0,  0, -1,  0,  0,  0,  0,  0,  0,  0,  0,  0,  0,  0,  0,  0,  0,\n",
       "        0,  0,  0,  0,  0,  0,  0,  0,  0,  0,  0,  2,  2,  2, -1, -1, -1,\n",
       "       -1,  0,  0,  0,  0,  0,  0,  0,  0,  0,  3,  3, -1,  3, -1,  0,  0,\n",
       "        0,  4,  0,  0,  0,  0, -1, -1,  3, -1, -1,  0, -1,  4, -1,  0, -1,\n",
       "       -1, -1, -1,  0, -1,  0, -1, -1,  4,  4, -1, -1,  0,  0,  0,  0,  0,\n",
       "       -1, -1, -1,  0,  0,  0,  0,  0,  0,  0,  0, -1,  4, -1,  0,  0,  0,\n",
       "        0,  0,  0,  0,  0,  0,  0,  0,  0,  0,  0,  0,  0,  0,  0,  0,  0,\n",
       "        0,  0,  0,  0,  0,  0,  0,  0, -1,  0,  0,  0,  0,  0, -1,  0,  0,\n",
       "        0,  0,  0,  0,  0,  0,  0,  0,  0,  0,  0,  0,  0, -1,  3,  0,  0,\n",
       "        0,  0,  0, -1,  0,  0,  0,  0,  0,  0,  0,  0, -1], dtype=int64)"
      ]
     },
     "execution_count": 491,
     "metadata": {},
     "output_type": "execute_result"
    }
   ],
   "source": [
    "# Define the model with Epsilon value and minimum samples\n",
    "model = DBSCAN(eps=0.04, min_samples=5)\n",
    "\n",
    "# Fit model and predict clusters\n",
    "y_predicted = model.fit_predict(data_X)\n",
    "y_predicted"
   ]
  },
  {
   "cell_type": "code",
   "execution_count": 492,
   "id": "bbeb7a4f",
   "metadata": {},
   "outputs": [
    {
     "data": {
      "text/plain": [
       "array([-1,  0,  1,  2,  3,  4], dtype=int64)"
      ]
     },
     "execution_count": 492,
     "metadata": {},
     "output_type": "execute_result"
    }
   ],
   "source": [
    "# retrieve unique clusters\n",
    "clusters = unique(y_predicted)\n",
    "clusters"
   ]
  },
  {
   "cell_type": "markdown",
   "id": "63e9c1ff",
   "metadata": {},
   "source": [
    "After running the DBSCAN clustering model, I got 5 different clusters ranging from 0 to 4. The value -1 is the outliers. Now, I am plotting the clusters we got in the scatter plot."
   ]
  },
  {
   "cell_type": "code",
   "execution_count": 493,
   "id": "9167d799",
   "metadata": {},
   "outputs": [
    {
     "data": {
      "image/png": "[encoded data removed]",
      "text/plain": [
       "<Figure size 432x288 with 1 Axes>"
      ]
     },
     "metadata": {
      "needs_background": "light"
     },
     "output_type": "display_data"
    }
   ],
   "source": [
    "# Plot the result\n",
    "\n",
    "for cluster in clusters:\n",
    "    # get row indexes for samples with this cluster\n",
    "    row_ix = where(y_predicted == cluster)\n",
    "    # create scatter of these samples\n",
    "    plt.scatter(data_X[row_ix, 0], data_X[row_ix, 1], cmap='Set1')\n",
    "    plt.title(\"Plot for the DBSCAN Clustering\")\n",
    "    plt.xlabel('LSTAT')\n",
    "    plt.ylabel('MEDV')\n",
    "\n",
    "plt.show()"
   ]
  },
  {
   "cell_type": "markdown",
   "id": "71c1e83f",
   "metadata": {},
   "source": [
    "You can see the clustering we got in 6 different colors in the above plot. The blue colored datapoints in the plot is the outliers."
   ]
  },
  {
   "cell_type": "markdown",
   "id": "e54dad3a",
   "metadata": {},
   "source": [
    "# Evaluation of the DBSCAN Clustering"
   ]
  },
  {
   "cell_type": "markdown",
   "id": "1c1cf543",
   "metadata": {},
   "source": [
    "Here, I am going to evaluate the DBSCAN Clustering model with the Silhouette Coefficient. Evaluation with the Adjusted Rand Index (ARI) is not possible, since the dataset does not contain ground truth labels."
   ]
  },
  {
   "cell_type": "code",
   "execution_count": 494,
   "id": "1f3e2948",
   "metadata": {},
   "outputs": [
    {
     "name": "stdout",
     "output_type": "stream",
     "text": [
      "Silhouette score for the DBSCAN Clustering model is 0.21353319444691157\n"
     ]
    }
   ],
   "source": [
    "# Calculate Silhouette Coefficient for our model\n",
    "silhouette_coefficient = silhouette_score(data_X, y_predicted)\n",
    "print(\"Silhouette score for the DBSCAN Clustering model is\", silhouette_coefficient)"
   ]
  },
  {
   "cell_type": "markdown",
   "id": "4b7a3630",
   "metadata": {},
   "source": [
    "Here, I got the Silhouette score of 0.21353319444691157 for the DBSCAN Clustering with Epsilon value 0.04 and Minimum Samples 5. Now, I am going to check the Silhouette score of DBSCAN Clustering model with the Epsilon value ranging from 0.01 to 0.1 and minimum samples ranging from 2 to 5."
   ]
  },
  {
   "cell_type": "code",
   "execution_count": 495,
   "id": "742af028",
   "metadata": {},
   "outputs": [
    {
     "name": "stdout",
     "output_type": "stream",
     "text": [
      "Silhouette Coefficient is -0.17272945109336305 when min sample is 2 and epsilon is 0.01\n",
      "Silhouette Coefficient is -0.20407959672138906 when min sample is 2 and epsilon is 0.02\n",
      "Silhouette Coefficient is -0.2106741699301475 when min sample is 2 and epsilon is 0.03\n",
      "Silhouette Coefficient is -0.13128955037193735 when min sample is 2 and epsilon is 0.04\n",
      "Silhouette Coefficient is -0.09245932588890164 when min sample is 2 and epsilon is 0.05\n",
      "Silhouette Coefficient is 0.013568067592145398 when min sample is 2 and epsilon is 0.06\n",
      "Silhouette Coefficient is 0.011191570942649906 when min sample is 2 and epsilon is 0.07\n",
      "Silhouette Coefficient is 0.015534612919506688 when min sample is 2 and epsilon is 0.08\n",
      "Silhouette Coefficient is 0.2271988449726874 when min sample is 2 and epsilon is 0.09\n",
      "Silhouette Coefficient is 0.32895064406128516 when min sample is 2 and epsilon is 0.1\n",
      "Silhouette Coefficient is -0.34009595045177643 when min sample is 3 and epsilon is 0.01\n",
      "Silhouette Coefficient is -0.22455369748172707 when min sample is 3 and epsilon is 0.02\n",
      "Silhouette Coefficient is 0.0794086482369873 when min sample is 3 and epsilon is 0.03\n",
      "Silhouette Coefficient is 0.1764829139305133 when min sample is 3 and epsilon is 0.04\n",
      "Silhouette Coefficient is -0.05856197427823081 when min sample is 3 and epsilon is 0.05\n",
      "Silhouette Coefficient is 0.40619851216144176 when min sample is 3 and epsilon is 0.06\n",
      "Silhouette Coefficient is 0.3955265926034239 when min sample is 3 and epsilon is 0.07\n",
      "Silhouette Coefficient is 0.32227121681569565 when min sample is 3 and epsilon is 0.08\n",
      "Silhouette Coefficient is 0.2271988449726874 when min sample is 3 and epsilon is 0.09\n",
      "Silhouette Coefficient is 0.32895064406128516 when min sample is 3 and epsilon is 0.1\n",
      "Silhouette Coefficient is -0.4383043581752545 when min sample is 4 and epsilon is 0.01\n",
      "Silhouette Coefficient is -0.1021970095608914 when min sample is 4 and epsilon is 0.02\n",
      "Silhouette Coefficient is -0.08683908952360464 when min sample is 4 and epsilon is 0.03\n",
      "Silhouette Coefficient is 0.1885362852985976 when min sample is 4 and epsilon is 0.04\n",
      "Silhouette Coefficient is -0.062181362717696344 when min sample is 4 and epsilon is 0.05\n",
      "Silhouette Coefficient is 0.40619851216144176 when min sample is 4 and epsilon is 0.06\n",
      "Silhouette Coefficient is 0.3955265926034239 when min sample is 4 and epsilon is 0.07\n",
      "Silhouette Coefficient is 0.3973383532913067 when min sample is 4 and epsilon is 0.08\n",
      "Silhouette Coefficient is 0.41328324453600895 when min sample is 4 and epsilon is 0.09\n",
      "Silhouette Coefficient is 0.32895064406128516 when min sample is 4 and epsilon is 0.1\n",
      "Silhouette Coefficient is -0.5029110540080431 when min sample is 5 and epsilon is 0.01\n",
      "Silhouette Coefficient is -0.264010591963382 when min sample is 5 and epsilon is 0.02\n",
      "Silhouette Coefficient is -0.11332412416770073 when min sample is 5 and epsilon is 0.03\n",
      "Silhouette Coefficient is 0.21353319444691157 when min sample is 5 and epsilon is 0.04\n",
      "Silhouette Coefficient is 0.32067924317219765 when min sample is 5 and epsilon is 0.05\n",
      "Silhouette Coefficient is 0.27499158224674014 when min sample is 5 and epsilon is 0.06\n",
      "Silhouette Coefficient is 0.3955265926034239 when min sample is 5 and epsilon is 0.07\n",
      "Silhouette Coefficient is 0.3973383532913067 when min sample is 5 and epsilon is 0.08\n",
      "Silhouette Coefficient is 0.41328324453600895 when min sample is 5 and epsilon is 0.09\n",
      "Silhouette Coefficient is 0.32895064406128516 when min sample is 5 and epsilon is 0.1\n"
     ]
    }
   ],
   "source": [
    "# Calculate Silhouette Coefficient by epsilon and minimum samples\n",
    "epsilon_range = np.arange(0.01, 0.11, 0.01)\n",
    "min_samples_range = range(2, 6)\n",
    "\n",
    "for i in min_samples_range:\n",
    "    for j in epsilon_range:\n",
    "        model = DBSCAN(eps=j, min_samples=i)        \n",
    "        y_predicted = model.fit_predict(data_X)\n",
    "        silhouette_coefficient = silhouette_score(data_X, y_predicted)\n",
    "        print(\"Silhouette Coefficient is\", silhouette_coefficient, \"when min sample is\", i, \"and epsilon is\", round(j, 2))"
   ]
  },
  {
   "cell_type": "markdown",
   "id": "bc5ed108",
   "metadata": {},
   "source": [
    "Here, you can see the results of Silhouette Coefficient of DBSCAN Clustering model with Epsilon value ranging from 0.01 to 0.1 and minimum samples ranging from 2 to 5."
   ]
  },
  {
   "cell_type": "markdown",
   "id": "bcd87479",
   "metadata": {},
   "source": [
    "# Hierarchical Clustering"
   ]
  },
  {
   "cell_type": "markdown",
   "id": "da5e1655",
   "metadata": {},
   "source": [
    "Initially, I am plotting the dendrogram for our model"
   ]
  },
  {
   "cell_type": "code",
   "execution_count": 496,
   "id": "0dd19970",
   "metadata": {},
   "outputs": [
    {
     "data": {
      "image/png": "[encoded data removed]",
      "text/plain": [
       "<Figure size 432x288 with 1 Axes>"
      ]
     },
     "metadata": {
      "needs_background": "light"
     },
     "output_type": "display_data"
    }
   ],
   "source": [
    "# Import Libraries\n",
    "from scipy.cluster.hierarchy import dendrogram, linkage\n",
    "from sklearn.cluster import AgglomerativeClustering\n",
    "\n",
    "#Create linkage\n",
    "z = linkage(data_X, method = 'ward')\n",
    "\n",
    "# Create a dendrogram\n",
    "whole_dendrogram = dendrogram(z)"
   ]
  },
  {
   "cell_type": "markdown",
   "id": "062ac3b0",
   "metadata": {},
   "source": [
    "Since the dendrogram we got is not readable, I am going to truncate the dendrogram."
   ]
  },
  {
   "cell_type": "code",
   "execution_count": 497,
   "id": "b5e0be10",
   "metadata": {},
   "outputs": [
    {
     "data": {
      "image/png": "[encoded data removed]",
      "text/plain": [
       "<Figure size 432x288 with 1 Axes>"
      ]
     },
     "metadata": {
      "needs_background": "light"
     },
     "output_type": "display_data"
    }
   ],
   "source": [
    "# Created truncated dendrogram with truncate_mode='lastp' and p=25\n",
    "truncated_dendrogram = dendrogram(z, truncate_mode='lastp', p=25)"
   ]
  },
  {
   "cell_type": "markdown",
   "id": "0400d8af",
   "metadata": {},
   "source": [
    "We can see the truncated dendrogram above. Now, I am going to run the Hierarchical Clustering Model with number of clusters 3, affinity 'euclidean' and linkage 'average'."
   ]
  },
  {
   "cell_type": "code",
   "execution_count": 498,
   "id": "47d2eec3",
   "metadata": {},
   "outputs": [
    {
     "data": {
      "text/plain": [
       "array([2, 2, 2, 2, 2, 2, 2, 2, 0, 2, 2, 2, 2, 2, 2, 2, 2, 2, 2, 2, 2, 2,\n",
       "       2, 2, 2, 2, 2, 2, 2, 2, 0, 2, 0, 2, 2, 2, 2, 2, 2, 2, 2, 2, 2, 2,\n",
       "       2, 2, 2, 2, 0, 2, 2, 2, 2, 2, 2, 2, 2, 2, 2, 2, 2, 2, 2, 2, 2, 2,\n",
       "       2, 2, 2, 2, 2, 2, 2, 2, 2, 2, 2, 2, 2, 2, 2, 2, 2, 2, 2, 2, 2, 2,\n",
       "       2, 2, 2, 2, 2, 2, 2, 2, 2, 2, 1, 2, 2, 2, 2, 2, 2, 2, 2, 2, 2, 2,\n",
       "       2, 2, 2, 2, 2, 2, 2, 2, 2, 2, 2, 2, 2, 0, 2, 2, 0, 2, 2, 2, 2, 2,\n",
       "       2, 2, 2, 2, 2, 2, 2, 2, 0, 0, 0, 0, 0, 0, 2, 0, 0, 2, 2, 2, 2, 2,\n",
       "       2, 2, 2, 1, 2, 2, 2, 1, 1, 1, 2, 2, 1, 2, 2, 2, 2, 2, 2, 2, 2, 2,\n",
       "       2, 2, 2, 2, 1, 2, 2, 2, 2, 2, 1, 2, 2, 2, 2, 2, 2, 2, 2, 1, 2, 2,\n",
       "       2, 2, 2, 2, 1, 1, 1, 2, 2, 2, 2, 2, 2, 2, 2, 2, 0, 2, 2, 2, 2, 2,\n",
       "       2, 2, 2, 2, 1, 1, 2, 2, 1, 2, 2, 2, 1, 1, 2, 2, 2, 2, 2, 2, 2, 2,\n",
       "       2, 2, 2, 2, 2, 2, 2, 2, 2, 2, 2, 1, 2, 2, 1, 1, 2, 2, 2, 1, 1, 2,\n",
       "       2, 2, 2, 1, 1, 2, 2, 2, 2, 2, 2, 2, 2, 2, 2, 2, 1, 2, 1, 1, 2, 2,\n",
       "       2, 2, 2, 2, 2, 2, 2, 2, 2, 2, 2, 2, 2, 2, 2, 2, 2, 2, 2, 2, 2, 2,\n",
       "       2, 2, 2, 2, 2, 2, 2, 2, 2, 2, 2, 2, 2, 2, 2, 2, 2, 2, 2, 2, 2, 2,\n",
       "       2, 2, 2, 2, 2, 2, 2, 2, 2, 2, 2, 2, 2, 2, 2, 2, 2, 2, 2, 2, 2, 2,\n",
       "       2, 2, 2, 2, 2, 2, 2, 2, 2, 2, 2, 2, 2, 2, 2, 2, 1, 1, 1, 1, 1, 0,\n",
       "       0, 2, 0, 2, 0, 0, 2, 0, 0, 0, 0, 0, 0, 0, 0, 0, 2, 2, 0, 2, 2, 2,\n",
       "       2, 0, 0, 0, 0, 0, 2, 0, 0, 0, 0, 2, 0, 2, 2, 2, 0, 2, 0, 0, 0, 0,\n",
       "       0, 0, 2, 2, 2, 0, 2, 0, 2, 2, 0, 0, 2, 2, 2, 2, 2, 0, 2, 0, 0, 0,\n",
       "       0, 2, 2, 2, 0, 0, 2, 2, 2, 2, 2, 2, 2, 2, 2, 2, 2, 2, 2, 2, 2, 2,\n",
       "       2, 2, 2, 2, 2, 2, 2, 2, 2, 2, 2, 2, 2, 0, 2, 0, 2, 2, 2, 2, 2, 2,\n",
       "       2, 2, 2, 2, 2, 0, 0, 2, 2, 2, 2, 2, 2, 2, 2, 2, 2, 2, 2, 2, 2, 2],\n",
       "      dtype=int64)"
      ]
     },
     "execution_count": 498,
     "metadata": {},
     "output_type": "execute_result"
    }
   ],
   "source": [
    "# Created the Hierarchical Clustering Model\n",
    "hc = AgglomerativeClustering(n_clusters=3, affinity='euclidean', linkage='average')\n",
    "\n",
    "# Fit model and predict clusters\n",
    "y_predicted = hc.fit_predict(data_X)\n",
    "y_predicted"
   ]
  },
  {
   "cell_type": "code",
   "execution_count": 499,
   "id": "b846c76b",
   "metadata": {},
   "outputs": [
    {
     "data": {
      "text/plain": [
       "array([0, 1, 2], dtype=int64)"
      ]
     },
     "execution_count": 499,
     "metadata": {},
     "output_type": "execute_result"
    }
   ],
   "source": [
    "# retrieve unique clusters\n",
    "clusters = unique(y_predicted)\n",
    "clusters"
   ]
  },
  {
   "cell_type": "code",
   "execution_count": 500,
   "id": "f8edf9a1",
   "metadata": {},
   "outputs": [
    {
     "data": {
      "image/png": "[encoded data removed]",
      "text/plain": [
       "<Figure size 432x288 with 1 Axes>"
      ]
     },
     "metadata": {
      "needs_background": "light"
     },
     "output_type": "display_data"
    }
   ],
   "source": [
    "# Plot the result\n",
    "\n",
    "for cluster in clusters:\n",
    "    # get row indexes for samples with this cluster\n",
    "    row_ix = where(y_predicted == cluster)\n",
    "    # create scatter of these samples\n",
    "    plt.scatter(data_X[row_ix, 0], data_X[row_ix, 1], cmap='Set1')\n",
    "    plt.xlabel('LSTAT')\n",
    "    plt.ylabel('MEDV')\n",
    "    plt.title(\"Plot for the Hierarchical Clustering\")\n",
    "plt.show()\n"
   ]
  },
  {
   "cell_type": "markdown",
   "id": "72212692",
   "metadata": {},
   "source": [
    "# Evaluation of the Hierarchical Clustering"
   ]
  },
  {
   "cell_type": "markdown",
   "id": "55e7e84c",
   "metadata": {},
   "source": [
    "Here, I am going to evaluate the Hierarchical Clustering model with the Silhouette Coefficient. Evaluation with the Adjusted Rand Index (ARI) is not possible, since the dataset does not contain ground truth labels."
   ]
  },
  {
   "cell_type": "code",
   "execution_count": 501,
   "id": "dc617a36",
   "metadata": {},
   "outputs": [
    {
     "name": "stdout",
     "output_type": "stream",
     "text": [
      "Silhouette score for the Hierarchical Clustering model is 0.4512995072139168\n"
     ]
    }
   ],
   "source": [
    "# Calculate Silhouette Coefficient for our model\n",
    "silhouette_coefficient = silhouette_score(data_X, y_predicted)\n",
    "print(\"Silhouette score for the Hierarchical Clustering model is\", silhouette_coefficient)"
   ]
  },
  {
   "cell_type": "markdown",
   "id": "c0c8c278",
   "metadata": {},
   "source": [
    "Here, I got the Silhouette score of 0.4512995072139168 for the Hierarchical Clustering with number of clusters 3, affinity 'euclidean' and linkage 'average'. Now, I am going to check the Silhouette score of the Hierarchical Clustering model with the number of clusters ranging from 2 to 10 and linkage 'ward'. Then, with the number of clusters ranging from 2 to 10 and linkage 'complete'. Then, with the number of clusters ranging from 2 to 10 and linkage 'average'."
   ]
  },
  {
   "cell_type": "code",
   "execution_count": 502,
   "id": "a2248aee",
   "metadata": {},
   "outputs": [
    {
     "name": "stdout",
     "output_type": "stream",
     "text": [
      "Silhouette score for the Hierarchical Clustering with linkage 'ward' and 2 cluster is 0.4630098783463652\n",
      "Silhouette score for the Hierarchical Clustering with linkage 'ward' and 3 cluster is 0.44702482087882645\n",
      "Silhouette score for the Hierarchical Clustering with linkage 'ward' and 4 cluster is 0.40077717222550413\n",
      "Silhouette score for the Hierarchical Clustering with linkage 'ward' and 5 cluster is 0.4070434293596099\n",
      "Silhouette score for the Hierarchical Clustering with linkage 'ward' and 6 cluster is 0.36549685676014704\n",
      "Silhouette score for the Hierarchical Clustering with linkage 'ward' and 7 cluster is 0.3632030405502081\n",
      "Silhouette score for the Hierarchical Clustering with linkage 'ward' and 8 cluster is 0.3575277643899978\n",
      "Silhouette score for the Hierarchical Clustering with linkage 'ward' and 9 cluster is 0.3454146527164183\n",
      "Silhouette score for the Hierarchical Clustering with linkage 'ward' and 10 cluster is 0.3630847000190194\n"
     ]
    }
   ],
   "source": [
    "# Calculate Silhouette Coefficient by number of clusters from 2 to 10 with linkage = 'ward'\n",
    "silhouette_coefficients = []\n",
    "\n",
    "cluster_range = range(2, 11)\n",
    "for k in cluster_range:\n",
    "    hc = AgglomerativeClustering(n_clusters=k, affinity='euclidean', linkage='ward')\n",
    "    y_predicted = hc.fit_predict(data_X)\n",
    "    silhouette_coefficient = silhouette_score(data_X, y_predicted)\n",
    "    silhouette_coefficients.append(silhouette_coefficient)\n",
    "    print(\"Silhouette score for the Hierarchical Clustering with linkage 'ward' and\", k, \"cluster is\", silhouette_coefficient)"
   ]
  },
  {
   "cell_type": "code",
   "execution_count": 503,
   "id": "dc767819",
   "metadata": {},
   "outputs": [
    {
     "data": {
      "image/png": "[encoded data removed]",
      "text/plain": [
       "<Figure size 432x288 with 1 Axes>"
      ]
     },
     "metadata": {
      "needs_background": "light"
     },
     "output_type": "display_data"
    }
   ],
   "source": [
    "#Plot the Silhouette Coefficients by Number of Clusters with linkage = 'ward'\n",
    "\n",
    "plt.plot(cluster_range, silhouette_coefficients)\n",
    "plt.xticks(cluster_range)\n",
    "plt.xlabel(\"Number of Clusters\")\n",
    "plt.ylabel(\"Silhouette Coefficient\")\n",
    "plt.title(\"Silhouette Coefficient by Number of Clusters for the Hierarchical Clustering with linkage 'ward'\")\n",
    "plt.show()"
   ]
  },
  {
   "cell_type": "code",
   "execution_count": 504,
   "id": "500d903a",
   "metadata": {},
   "outputs": [
    {
     "name": "stdout",
     "output_type": "stream",
     "text": [
      "Silhouette score for the Hierarchical Clustering with linkage 'complete' and 2 cluster is 0.48367057475783903\n",
      "Silhouette score for the Hierarchical Clustering with linkage 'complete' and 3 cluster is 0.4314450694534168\n",
      "Silhouette score for the Hierarchical Clustering with linkage 'complete' and 4 cluster is 0.4356439797944815\n",
      "Silhouette score for the Hierarchical Clustering with linkage 'complete' and 5 cluster is 0.42652839773993484\n",
      "Silhouette score for the Hierarchical Clustering with linkage 'complete' and 6 cluster is 0.38387371024971384\n",
      "Silhouette score for the Hierarchical Clustering with linkage 'complete' and 7 cluster is 0.3021351017979879\n",
      "Silhouette score for the Hierarchical Clustering with linkage 'complete' and 8 cluster is 0.2996712643201942\n",
      "Silhouette score for the Hierarchical Clustering with linkage 'complete' and 9 cluster is 0.2903563279458599\n",
      "Silhouette score for the Hierarchical Clustering with linkage 'complete' and 10 cluster is 0.2936939047413564\n"
     ]
    }
   ],
   "source": [
    "# Calculate Silhouette Coefficient by number of clusters from 2 to 10 with linkage = 'complete'\n",
    "silhouette_coefficients = []\n",
    "\n",
    "cluster_range = range(2, 11)\n",
    "for k in cluster_range:\n",
    "    hc = AgglomerativeClustering(n_clusters=k, affinity='euclidean', linkage='complete')\n",
    "    y_predicted = hc.fit_predict(data_X)\n",
    "    silhouette_coefficient = silhouette_score(data_X, y_predicted)\n",
    "    silhouette_coefficients.append(silhouette_coefficient)\n",
    "    print(\"Silhouette score for the Hierarchical Clustering with linkage 'complete' and\", k, \"cluster is\", silhouette_coefficient)"
   ]
  },
  {
   "cell_type": "code",
   "execution_count": 505,
   "id": "12a7dd8b",
   "metadata": {},
   "outputs": [
    {
     "data": {
      "image/png": "[encoded data removed]",
      "text/plain": [
       "<Figure size 432x288 with 1 Axes>"
      ]
     },
     "metadata": {
      "needs_background": "light"
     },
     "output_type": "display_data"
    }
   ],
   "source": [
    "#Plot the Silhouette Coefficients by Number of Clusters with linkage = 'complete'\n",
    "\n",
    "plt.plot(cluster_range, silhouette_coefficients)\n",
    "plt.xticks(cluster_range)\n",
    "plt.xlabel(\"Number of Clusters\")\n",
    "plt.ylabel(\"Silhouette Coefficient\")\n",
    "plt.title(\"Silhouette Coefficient by Number of Clusters for the Hierarchical Clustering with linkage 'complete'\")\n",
    "plt.show()"
   ]
  },
  {
   "cell_type": "code",
   "execution_count": 506,
   "id": "469c93c9",
   "metadata": {},
   "outputs": [
    {
     "name": "stdout",
     "output_type": "stream",
     "text": [
      "Silhouette score for the Hierarchical Clustering with linkage 'average' and 2 cluster is 0.5314317904458501\n",
      "Silhouette score for the Hierarchical Clustering with linkage 'average' and 3 cluster is 0.4512995072139168\n",
      "Silhouette score for the Hierarchical Clustering with linkage 'average' and 4 cluster is 0.41691328054200943\n",
      "Silhouette score for the Hierarchical Clustering with linkage 'average' and 5 cluster is 0.41411737630430046\n",
      "Silhouette score for the Hierarchical Clustering with linkage 'average' and 6 cluster is 0.4133595527544841\n",
      "Silhouette score for the Hierarchical Clustering with linkage 'average' and 7 cluster is 0.39888019200442054\n",
      "Silhouette score for the Hierarchical Clustering with linkage 'average' and 8 cluster is 0.3825046011876069\n",
      "Silhouette score for the Hierarchical Clustering with linkage 'average' and 9 cluster is 0.33867206717908027\n",
      "Silhouette score for the Hierarchical Clustering with linkage 'average' and 10 cluster is 0.33859466161669555\n"
     ]
    }
   ],
   "source": [
    "# Calculate Silhouette Coefficient by number of clusters from 2 to 10 with linkage = 'average'\n",
    "silhouette_coefficients = []\n",
    "\n",
    "cluster_range = range(2, 11)\n",
    "for k in cluster_range:\n",
    "    hc = AgglomerativeClustering(n_clusters=k, affinity='euclidean', linkage='average')\n",
    "    y_predicted = hc.fit_predict(data_X)\n",
    "    silhouette_coefficient = silhouette_score(data_X, y_predicted)\n",
    "    silhouette_coefficients.append(silhouette_coefficient)\n",
    "    print(\"Silhouette score for the Hierarchical Clustering with linkage 'average' and\", k, \"cluster is\", silhouette_coefficient)"
   ]
  },
  {
   "cell_type": "code",
   "execution_count": 507,
   "id": "965e116d",
   "metadata": {},
   "outputs": [
    {
     "data": {
      "image/png": "[encoded data removed]",
      "text/plain": [
       "<Figure size 432x288 with 1 Axes>"
      ]
     },
     "metadata": {
      "needs_background": "light"
     },
     "output_type": "display_data"
    }
   ],
   "source": [
    "#Plot the Silhouette Coefficients by Number of Clusters with linkage = 'average'\n",
    "\n",
    "plt.plot(cluster_range, silhouette_coefficients)\n",
    "plt.xticks(cluster_range)\n",
    "plt.xlabel(\"Number of Clusters\")\n",
    "plt.ylabel(\"Silhouette Coefficient\")\n",
    "plt.title(\"Silhouette Coefficient by Number of Clusters for the Hierarchical Clustering with linkage 'average'\")\n",
    "plt.show()"
   ]
  },
  {
   "cell_type": "markdown",
   "id": "aadab151",
   "metadata": {},
   "source": [
    "After checking the results of Silhouette score for the Hierarchical Clustering models, we can see that Hierarchical Clustering with number of clusters 2 and linkage 'average' has the best Silhouette score."
   ]
  },
  {
   "cell_type": "markdown",
   "id": "d8ee9a64",
   "metadata": {},
   "source": [
    "# BIRCH Clustering"
   ]
  },
  {
   "cell_type": "markdown",
   "id": "79d5933e",
   "metadata": {},
   "source": [
    "Here, I am going to run the BIRCH Clustering Model with branching factor 50, number of clusters 3 and threshold 0.1."
   ]
  },
  {
   "cell_type": "code",
   "execution_count": 508,
   "id": "7db4d677",
   "metadata": {},
   "outputs": [
    {
     "data": {
      "text/plain": [
       "array([2, 2, 1, 1, 1, 1, 2, 2, 0, 2, 0, 2, 2, 2, 2, 2, 2, 2, 2, 2, 0, 2,\n",
       "       0, 0, 0, 0, 2, 0, 2, 2, 0, 2, 0, 0, 0, 2, 2, 2, 2, 1, 1, 1, 2, 2,\n",
       "       2, 2, 2, 0, 0, 2, 2, 2, 2, 2, 2, 1, 2, 1, 2, 2, 2, 2, 2, 2, 1, 2,\n",
       "       2, 2, 2, 2, 2, 2, 2, 2, 2, 2, 2, 2, 2, 2, 1, 2, 2, 2, 2, 2, 2, 2,\n",
       "       2, 1, 2, 2, 2, 2, 2, 1, 2, 1, 1, 1, 2, 2, 2, 2, 2, 2, 0, 2, 2, 2,\n",
       "       2, 2, 2, 2, 2, 2, 2, 2, 2, 2, 2, 2, 2, 0, 2, 2, 0, 0, 2, 0, 2, 2,\n",
       "       2, 2, 0, 2, 2, 2, 0, 0, 0, 0, 0, 0, 0, 0, 0, 0, 0, 0, 2, 2, 2, 2,\n",
       "       2, 2, 0, 1, 2, 2, 1, 1, 1, 1, 2, 2, 1, 2, 2, 2, 2, 2, 2, 2, 2, 1,\n",
       "       2, 2, 1, 1, 1, 1, 1, 1, 2, 2, 1, 1, 1, 1, 1, 1, 1, 1, 1, 1, 1, 1,\n",
       "       1, 1, 1, 2, 1, 1, 1, 2, 2, 2, 2, 0, 2, 0, 2, 2, 0, 2, 2, 2, 2, 2,\n",
       "       2, 0, 2, 1, 1, 1, 1, 1, 1, 1, 2, 1, 1, 1, 1, 2, 2, 1, 2, 2, 2, 2,\n",
       "       2, 2, 2, 0, 2, 2, 2, 2, 2, 2, 1, 1, 2, 2, 1, 1, 1, 1, 1, 1, 1, 1,\n",
       "       1, 2, 2, 1, 1, 2, 2, 2, 2, 1, 1, 1, 1, 1, 1, 1, 1, 1, 1, 1, 1, 2,\n",
       "       2, 2, 2, 2, 1, 1, 1, 2, 2, 1, 2, 2, 2, 1, 2, 2, 2, 1, 1, 2, 1, 1,\n",
       "       2, 2, 2, 2, 2, 2, 2, 2, 0, 2, 2, 2, 2, 2, 2, 2, 2, 2, 2, 2, 2, 2,\n",
       "       2, 2, 2, 2, 2, 2, 2, 2, 2, 2, 2, 1, 2, 2, 1, 2, 2, 2, 2, 2, 2, 2,\n",
       "       2, 1, 2, 2, 0, 2, 2, 2, 2, 2, 2, 2, 2, 2, 2, 2, 1, 1, 1, 1, 1, 0,\n",
       "       0, 2, 0, 0, 0, 0, 0, 0, 0, 0, 0, 0, 0, 0, 0, 0, 0, 2, 0, 0, 0, 0,\n",
       "       0, 0, 0, 0, 0, 0, 0, 0, 0, 0, 0, 2, 0, 2, 2, 0, 0, 0, 0, 0, 0, 0,\n",
       "       0, 0, 2, 0, 2, 0, 0, 0, 0, 0, 0, 0, 0, 0, 2, 0, 0, 0, 0, 0, 0, 0,\n",
       "       0, 0, 2, 0, 0, 0, 0, 0, 0, 0, 0, 0, 0, 2, 0, 0, 0, 0, 0, 2, 0, 2,\n",
       "       2, 2, 2, 2, 2, 0, 2, 2, 2, 2, 2, 2, 0, 0, 0, 0, 0, 2, 2, 2, 2, 2,\n",
       "       2, 2, 2, 2, 0, 0, 0, 0, 2, 2, 2, 2, 0, 2, 2, 2, 2, 2, 2, 2, 2, 2],\n",
       "      dtype=int64)"
      ]
     },
     "execution_count": 508,
     "metadata": {},
     "output_type": "execute_result"
    }
   ],
   "source": [
    "# Import libraries\n",
    "from sklearn.cluster import Birch\n",
    "\n",
    "# Created the BIRCH Clustering Model\n",
    "brc = Birch(branching_factor = 50, n_clusters = 3, threshold = 0.1)\n",
    "\n",
    "# Fit model and predict clusters\n",
    "y_predicted = brc.fit_predict(data_X)\n",
    "y_predicted"
   ]
  },
  {
   "cell_type": "code",
   "execution_count": 509,
   "id": "926b71cf",
   "metadata": {},
   "outputs": [
    {
     "data": {
      "text/plain": [
       "array([0, 1, 2], dtype=int64)"
      ]
     },
     "execution_count": 509,
     "metadata": {},
     "output_type": "execute_result"
    }
   ],
   "source": [
    "# retrieve unique clusters\n",
    "clusters = unique(y_predicted)\n",
    "clusters "
   ]
  },
  {
   "cell_type": "code",
   "execution_count": 510,
   "id": "02f0e40e",
   "metadata": {},
   "outputs": [
    {
     "data": {
      "image/png": "[encoded data removed]",
      "text/plain": [
       "<Figure size 432x288 with 1 Axes>"
      ]
     },
     "metadata": {
      "needs_background": "light"
     },
     "output_type": "display_data"
    }
   ],
   "source": [
    "# Plot the result\n",
    "\n",
    "for cluster in clusters:\n",
    "    # get row indexes for samples with this cluster\n",
    "    row_ix = where(y_predicted == cluster)\n",
    "    # create scatter of these samples\n",
    "    plt.scatter(data_X[row_ix, 0], data_X[row_ix, 1], cmap='Set1')\n",
    "    plt.title(\"Plot for the BIRCH Clustering\")\n",
    "    plt.xlabel('LSTAT')\n",
    "    plt.ylabel('MEDV')\n",
    "\n",
    "plt.show()"
   ]
  },
  {
   "cell_type": "markdown",
   "id": "f8dbd718",
   "metadata": {},
   "source": [
    "# Evaluation of the BIRCH Clustering Model"
   ]
  },
  {
   "cell_type": "markdown",
   "id": "9e93c4eb",
   "metadata": {},
   "source": [
    "Here, I am going to evaluate the BIRCH Clustering model with the Silhouette Coefficient. Evaluation with the Adjusted Rand Index (ARI) is not possible, since the dataset does not contain ground truth labels."
   ]
  },
  {
   "cell_type": "code",
   "execution_count": 511,
   "id": "7eb69e2b",
   "metadata": {},
   "outputs": [
    {
     "name": "stdout",
     "output_type": "stream",
     "text": [
      "Silhouette score for the BIRCH Clustering model is 0.4791155085454977\n"
     ]
    }
   ],
   "source": [
    "# Calculate Silhouette Coefficient for our model\n",
    "silhouette_coefficient = silhouette_score(data_X, y_predicted)\n",
    "print(\"Silhouette score for the BIRCH Clustering model is\", silhouette_coefficient)"
   ]
  },
  {
   "cell_type": "markdown",
   "id": "62ff094a",
   "metadata": {},
   "source": [
    "Here, I got the Silhouette score of 0.4791155085454977 for the BIRCH Clustering with branching factor 50, number of clusters 3 and threshold 0.1. Now, I am going to check the Silhouette score of BIRCH Clustering model with branching factor ranging from 10 to 100 and number of clusters ranging from 2 to 10 and threshold ranging from 0.01 to 0.1."
   ]
  },
  {
   "cell_type": "code",
   "execution_count": 512,
   "id": "3c119db8",
   "metadata": {},
   "outputs": [
    {
     "name": "stdout",
     "output_type": "stream",
     "text": [
      "Silhouette Coefficient is 0.4432803976673924 when branching factor is 10 threshold is 0.01 and number of clusters is 2\n",
      "Silhouette Coefficient is 0.42823526511936894 when branching factor is 10 threshold is 0.01 and number of clusters is 3\n",
      "Silhouette Coefficient is 0.43010379324326153 when branching factor is 10 threshold is 0.01 and number of clusters is 4\n",
      "Silhouette Coefficient is 0.39621337704167636 when branching factor is 10 threshold is 0.01 and number of clusters is 5\n",
      "Silhouette Coefficient is 0.3792736247955092 when branching factor is 10 threshold is 0.01 and number of clusters is 6\n",
      "Silhouette Coefficient is 0.373160126397533 when branching factor is 10 threshold is 0.01 and number of clusters is 7\n",
      "Silhouette Coefficient is 0.3449839484494109 when branching factor is 10 threshold is 0.01 and number of clusters is 8\n",
      "Silhouette Coefficient is 0.3477524880903449 when branching factor is 10 threshold is 0.01 and number of clusters is 9\n",
      "Silhouette Coefficient is 0.35237144087288863 when branching factor is 10 threshold is 0.01 and number of clusters is 10\n",
      "Silhouette Coefficient is 0.4625915338863444 when branching factor is 10 threshold is 0.02 and number of clusters is 2\n",
      "Silhouette Coefficient is 0.3825872598714927 when branching factor is 10 threshold is 0.02 and number of clusters is 3\n",
      "Silhouette Coefficient is 0.42378284865007937 when branching factor is 10 threshold is 0.02 and number of clusters is 4\n",
      "Silhouette Coefficient is 0.4056850544717283 when branching factor is 10 threshold is 0.02 and number of clusters is 5\n",
      "Silhouette Coefficient is 0.3877141329050952 when branching factor is 10 threshold is 0.02 and number of clusters is 6\n",
      "Silhouette Coefficient is 0.3799745029363826 when branching factor is 10 threshold is 0.02 and number of clusters is 7\n",
      "Silhouette Coefficient is 0.3377895826733888 when branching factor is 10 threshold is 0.02 and number of clusters is 8\n",
      "Silhouette Coefficient is 0.3229125736055429 when branching factor is 10 threshold is 0.02 and number of clusters is 9\n",
      "Silhouette Coefficient is 0.3166528425495219 when branching factor is 10 threshold is 0.02 and number of clusters is 10\n",
      "Silhouette Coefficient is 0.44439905252426465 when branching factor is 10 threshold is 0.03 and number of clusters is 2\n",
      "Silhouette Coefficient is 0.42550594368021394 when branching factor is 10 threshold is 0.03 and number of clusters is 3\n",
      "Silhouette Coefficient is 0.43671075937890536 when branching factor is 10 threshold is 0.03 and number of clusters is 4\n",
      "Silhouette Coefficient is 0.3865641788230218 when branching factor is 10 threshold is 0.03 and number of clusters is 5\n",
      "Silhouette Coefficient is 0.31706417516235125 when branching factor is 10 threshold is 0.03 and number of clusters is 6\n",
      "Silhouette Coefficient is 0.35752127029501457 when branching factor is 10 threshold is 0.03 and number of clusters is 7\n",
      "Silhouette Coefficient is 0.3543608795214907 when branching factor is 10 threshold is 0.03 and number of clusters is 8\n",
      "Silhouette Coefficient is 0.35496539696794016 when branching factor is 10 threshold is 0.03 and number of clusters is 9\n",
      "Silhouette Coefficient is 0.34241327296910884 when branching factor is 10 threshold is 0.03 and number of clusters is 10\n",
      "Silhouette Coefficient is 0.46346751332505093 when branching factor is 10 threshold is 0.04 and number of clusters is 2\n",
      "Silhouette Coefficient is 0.47524491404870617 when branching factor is 10 threshold is 0.04 and number of clusters is 3\n",
      "Silhouette Coefficient is 0.407357243676313 when branching factor is 10 threshold is 0.04 and number of clusters is 4\n",
      "Silhouette Coefficient is 0.35630773558522116 when branching factor is 10 threshold is 0.04 and number of clusters is 5\n",
      "Silhouette Coefficient is 0.34761793462451857 when branching factor is 10 threshold is 0.04 and number of clusters is 6\n",
      "Silhouette Coefficient is 0.3475044321462199 when branching factor is 10 threshold is 0.04 and number of clusters is 7\n",
      "Silhouette Coefficient is 0.3000004723993726 when branching factor is 10 threshold is 0.04 and number of clusters is 8\n",
      "Silhouette Coefficient is 0.2762570925728892 when branching factor is 10 threshold is 0.04 and number of clusters is 9\n",
      "Silhouette Coefficient is 0.30326569511193147 when branching factor is 10 threshold is 0.04 and number of clusters is 10\n",
      "Silhouette Coefficient is 0.4618638965653492 when branching factor is 10 threshold is 0.05 and number of clusters is 2\n",
      "Silhouette Coefficient is 0.46854910605794925 when branching factor is 10 threshold is 0.05 and number of clusters is 3\n",
      "Silhouette Coefficient is 0.4162756581571585 when branching factor is 10 threshold is 0.05 and number of clusters is 4\n",
      "Silhouette Coefficient is 0.3669357394866178 when branching factor is 10 threshold is 0.05 and number of clusters is 5\n",
      "Silhouette Coefficient is 0.403087884092417 when branching factor is 10 threshold is 0.05 and number of clusters is 6\n",
      "Silhouette Coefficient is 0.3989842843379095 when branching factor is 10 threshold is 0.05 and number of clusters is 7\n",
      "Silhouette Coefficient is 0.3838722120115595 when branching factor is 10 threshold is 0.05 and number of clusters is 8\n",
      "Silhouette Coefficient is 0.3903415965859806 when branching factor is 10 threshold is 0.05 and number of clusters is 9\n",
      "Silhouette Coefficient is 0.35190172571627587 when branching factor is 10 threshold is 0.05 and number of clusters is 10\n",
      "Silhouette Coefficient is 0.4427002394923233 when branching factor is 10 threshold is 0.06 and number of clusters is 2\n",
      "Silhouette Coefficient is 0.42633328192048464 when branching factor is 10 threshold is 0.06 and number of clusters is 3\n",
      "Silhouette Coefficient is 0.43429077726444365 when branching factor is 10 threshold is 0.06 and number of clusters is 4\n",
      "Silhouette Coefficient is 0.3983949486831037 when branching factor is 10 threshold is 0.06 and number of clusters is 5\n",
      "Silhouette Coefficient is 0.39088442509160565 when branching factor is 10 threshold is 0.06 and number of clusters is 6\n",
      "Silhouette Coefficient is 0.3853502564871736 when branching factor is 10 threshold is 0.06 and number of clusters is 7\n",
      "Silhouette Coefficient is 0.3742987108635471 when branching factor is 10 threshold is 0.06 and number of clusters is 8\n",
      "Silhouette Coefficient is 0.3518780355717118 when branching factor is 10 threshold is 0.06 and number of clusters is 9\n",
      "Silhouette Coefficient is 0.3568787398963175 when branching factor is 10 threshold is 0.06 and number of clusters is 10\n",
      "Silhouette Coefficient is 0.44352257236853526 when branching factor is 10 threshold is 0.07 and number of clusters is 2\n",
      "Silhouette Coefficient is 0.41399042990181806 when branching factor is 10 threshold is 0.07 and number of clusters is 3\n",
      "Silhouette Coefficient is 0.43721848181527573 when branching factor is 10 threshold is 0.07 and number of clusters is 4\n",
      "Silhouette Coefficient is 0.40262185826180114 when branching factor is 10 threshold is 0.07 and number of clusters is 5\n",
      "Silhouette Coefficient is 0.3545090687517642 when branching factor is 10 threshold is 0.07 and number of clusters is 6\n",
      "Silhouette Coefficient is 0.3518634766987798 when branching factor is 10 threshold is 0.07 and number of clusters is 7\n",
      "Silhouette Coefficient is 0.34324248880349817 when branching factor is 10 threshold is 0.07 and number of clusters is 8\n",
      "Silhouette Coefficient is 0.35396565821851494 when branching factor is 10 threshold is 0.07 and number of clusters is 9\n",
      "Silhouette Coefficient is 0.3636404743774856 when branching factor is 10 threshold is 0.07 and number of clusters is 10\n",
      "Silhouette Coefficient is 0.4635848091887785 when branching factor is 10 threshold is 0.08 and number of clusters is 2\n",
      "Silhouette Coefficient is 0.46983145776902635 when branching factor is 10 threshold is 0.08 and number of clusters is 3\n",
      "Silhouette Coefficient is 0.41100377333905824 when branching factor is 10 threshold is 0.08 and number of clusters is 4\n",
      "Silhouette Coefficient is 0.39030901319578165 when branching factor is 10 threshold is 0.08 and number of clusters is 5\n",
      "Silhouette Coefficient is 0.4025643274836449 when branching factor is 10 threshold is 0.08 and number of clusters is 6\n",
      "Silhouette Coefficient is 0.39686716081731027 when branching factor is 10 threshold is 0.08 and number of clusters is 7\n",
      "Silhouette Coefficient is 0.3764054421814816 when branching factor is 10 threshold is 0.08 and number of clusters is 8\n",
      "Silhouette Coefficient is 0.36086790446976535 when branching factor is 10 threshold is 0.08 and number of clusters is 9\n",
      "Silhouette Coefficient is 0.36296641505746907 when branching factor is 10 threshold is 0.08 and number of clusters is 10\n",
      "Silhouette Coefficient is 0.4437845820807863 when branching factor is 10 threshold is 0.09 and number of clusters is 2\n",
      "Silhouette Coefficient is 0.39531843450961784 when branching factor is 10 threshold is 0.09 and number of clusters is 3\n",
      "Silhouette Coefficient is 0.41276773051439897 when branching factor is 10 threshold is 0.09 and number of clusters is 4\n"
     ]
    },
    {
     "name": "stdout",
     "output_type": "stream",
     "text": [
      "Silhouette Coefficient is 0.385702087950335 when branching factor is 10 threshold is 0.09 and number of clusters is 5\n",
      "Silhouette Coefficient is 0.40772982611106856 when branching factor is 10 threshold is 0.09 and number of clusters is 6\n",
      "Silhouette Coefficient is 0.3936531674895618 when branching factor is 10 threshold is 0.09 and number of clusters is 7\n",
      "Silhouette Coefficient is 0.37729468449579984 when branching factor is 10 threshold is 0.09 and number of clusters is 8\n",
      "Silhouette Coefficient is 0.37941858977991816 when branching factor is 10 threshold is 0.09 and number of clusters is 9\n",
      "Silhouette Coefficient is 0.3833801956131422 when branching factor is 10 threshold is 0.09 and number of clusters is 10\n",
      "Silhouette Coefficient is 0.4652507777463853 when branching factor is 10 threshold is 0.1 and number of clusters is 2\n",
      "Silhouette Coefficient is 0.4791155085454977 when branching factor is 10 threshold is 0.1 and number of clusters is 3\n",
      "Silhouette Coefficient is 0.44567563736843013 when branching factor is 10 threshold is 0.1 and number of clusters is 4\n",
      "Silhouette Coefficient is 0.42301766403508645 when branching factor is 10 threshold is 0.1 and number of clusters is 5\n",
      "Silhouette Coefficient is 0.3869289520893859 when branching factor is 10 threshold is 0.1 and number of clusters is 6\n",
      "Silhouette Coefficient is 0.41166105335309866 when branching factor is 10 threshold is 0.1 and number of clusters is 7\n",
      "Silhouette Coefficient is 0.41313176613178515 when branching factor is 10 threshold is 0.1 and number of clusters is 8\n",
      "Silhouette Coefficient is 0.41313176613178515 when branching factor is 10 threshold is 0.1 and number of clusters is 9\n",
      "Silhouette Coefficient is 0.41313176613178515 when branching factor is 10 threshold is 0.1 and number of clusters is 10\n",
      "Silhouette Coefficient is 0.44707751343724583 when branching factor is 20 threshold is 0.01 and number of clusters is 2\n",
      "Silhouette Coefficient is 0.42521988526383275 when branching factor is 20 threshold is 0.01 and number of clusters is 3\n"
     ]
    },
    {
     "name": "stderr",
     "output_type": "stream",
     "text": [
      "C:\\Users\\Sandeep\\anaconda3\\lib\\site-packages\\sklearn\\cluster\\_birch.py:717: ConvergenceWarning: Number of subclusters found (8) by BIRCH is less than (9). Decrease the threshold.\n",
      "  warnings.warn(\n",
      "C:\\Users\\Sandeep\\anaconda3\\lib\\site-packages\\sklearn\\cluster\\_birch.py:717: ConvergenceWarning: Number of subclusters found (8) by BIRCH is less than (10). Decrease the threshold.\n",
      "  warnings.warn(\n"
     ]
    },
    {
     "name": "stdout",
     "output_type": "stream",
     "text": [
      "Silhouette Coefficient is 0.44148517138902676 when branching factor is 20 threshold is 0.01 and number of clusters is 4\n",
      "Silhouette Coefficient is 0.3769376856253585 when branching factor is 20 threshold is 0.01 and number of clusters is 5\n",
      "Silhouette Coefficient is 0.361702641415041 when branching factor is 20 threshold is 0.01 and number of clusters is 6\n",
      "Silhouette Coefficient is 0.3623976847644656 when branching factor is 20 threshold is 0.01 and number of clusters is 7\n",
      "Silhouette Coefficient is 0.3499219708532545 when branching factor is 20 threshold is 0.01 and number of clusters is 8\n",
      "Silhouette Coefficient is 0.3538433729672547 when branching factor is 20 threshold is 0.01 and number of clusters is 9\n",
      "Silhouette Coefficient is 0.36859901147140756 when branching factor is 20 threshold is 0.01 and number of clusters is 10\n",
      "Silhouette Coefficient is 0.4433810565756696 when branching factor is 20 threshold is 0.02 and number of clusters is 2\n",
      "Silhouette Coefficient is 0.3898526921119545 when branching factor is 20 threshold is 0.02 and number of clusters is 3\n",
      "Silhouette Coefficient is 0.42188056510376903 when branching factor is 20 threshold is 0.02 and number of clusters is 4\n",
      "Silhouette Coefficient is 0.4089592993667873 when branching factor is 20 threshold is 0.02 and number of clusters is 5\n",
      "Silhouette Coefficient is 0.37424985553348467 when branching factor is 20 threshold is 0.02 and number of clusters is 6\n",
      "Silhouette Coefficient is 0.31473479964919543 when branching factor is 20 threshold is 0.02 and number of clusters is 7\n",
      "Silhouette Coefficient is 0.31561646201341015 when branching factor is 20 threshold is 0.02 and number of clusters is 8\n",
      "Silhouette Coefficient is 0.3191625452914564 when branching factor is 20 threshold is 0.02 and number of clusters is 9\n",
      "Silhouette Coefficient is 0.3186610066199531 when branching factor is 20 threshold is 0.02 and number of clusters is 10\n",
      "Silhouette Coefficient is 0.4593819894868561 when branching factor is 20 threshold is 0.03 and number of clusters is 2\n",
      "Silhouette Coefficient is 0.46401085733426195 when branching factor is 20 threshold is 0.03 and number of clusters is 3\n",
      "Silhouette Coefficient is 0.4406703808572452 when branching factor is 20 threshold is 0.03 and number of clusters is 4\n",
      "Silhouette Coefficient is 0.4179360559601424 when branching factor is 20 threshold is 0.03 and number of clusters is 5\n",
      "Silhouette Coefficient is 0.3873976294668057 when branching factor is 20 threshold is 0.03 and number of clusters is 6\n",
      "Silhouette Coefficient is 0.3775034569169954 when branching factor is 20 threshold is 0.03 and number of clusters is 7\n",
      "Silhouette Coefficient is 0.37734186950559173 when branching factor is 20 threshold is 0.03 and number of clusters is 8\n",
      "Silhouette Coefficient is 0.38901736570068784 when branching factor is 20 threshold is 0.03 and number of clusters is 9\n",
      "Silhouette Coefficient is 0.3729044371553982 when branching factor is 20 threshold is 0.03 and number of clusters is 10\n",
      "Silhouette Coefficient is 0.4553319896928089 when branching factor is 20 threshold is 0.04 and number of clusters is 2\n",
      "Silhouette Coefficient is 0.46798780216756863 when branching factor is 20 threshold is 0.04 and number of clusters is 3\n",
      "Silhouette Coefficient is 0.4232980113164648 when branching factor is 20 threshold is 0.04 and number of clusters is 4\n",
      "Silhouette Coefficient is 0.3983328668081437 when branching factor is 20 threshold is 0.04 and number of clusters is 5\n",
      "Silhouette Coefficient is 0.3505632519448331 when branching factor is 20 threshold is 0.04 and number of clusters is 6\n",
      "Silhouette Coefficient is 0.3401038150637921 when branching factor is 20 threshold is 0.04 and number of clusters is 7\n",
      "Silhouette Coefficient is 0.33509821206625484 when branching factor is 20 threshold is 0.04 and number of clusters is 8\n",
      "Silhouette Coefficient is 0.3366810313667125 when branching factor is 20 threshold is 0.04 and number of clusters is 9\n",
      "Silhouette Coefficient is 0.35805688184520884 when branching factor is 20 threshold is 0.04 and number of clusters is 10\n",
      "Silhouette Coefficient is 0.4389740593570284 when branching factor is 20 threshold is 0.05 and number of clusters is 2\n",
      "Silhouette Coefficient is 0.4133987039695771 when branching factor is 20 threshold is 0.05 and number of clusters is 3\n",
      "Silhouette Coefficient is 0.4338687248980419 when branching factor is 20 threshold is 0.05 and number of clusters is 4\n",
      "Silhouette Coefficient is 0.3868451683169426 when branching factor is 20 threshold is 0.05 and number of clusters is 5\n",
      "Silhouette Coefficient is 0.3465192831919753 when branching factor is 20 threshold is 0.05 and number of clusters is 6\n",
      "Silhouette Coefficient is 0.3471203072574944 when branching factor is 20 threshold is 0.05 and number of clusters is 7\n",
      "Silhouette Coefficient is 0.3651348827073121 when branching factor is 20 threshold is 0.05 and number of clusters is 8\n",
      "Silhouette Coefficient is 0.3707282745342914 when branching factor is 20 threshold is 0.05 and number of clusters is 9\n",
      "Silhouette Coefficient is 0.37347758255653596 when branching factor is 20 threshold is 0.05 and number of clusters is 10\n",
      "Silhouette Coefficient is 0.4632403532782045 when branching factor is 20 threshold is 0.06 and number of clusters is 2\n",
      "Silhouette Coefficient is 0.46350183349528423 when branching factor is 20 threshold is 0.06 and number of clusters is 3\n",
      "Silhouette Coefficient is 0.41915626920335564 when branching factor is 20 threshold is 0.06 and number of clusters is 4\n",
      "Silhouette Coefficient is 0.40374897434748036 when branching factor is 20 threshold is 0.06 and number of clusters is 5\n",
      "Silhouette Coefficient is 0.4246667082952407 when branching factor is 20 threshold is 0.06 and number of clusters is 6\n",
      "Silhouette Coefficient is 0.382552611175166 when branching factor is 20 threshold is 0.06 and number of clusters is 7\n",
      "Silhouette Coefficient is 0.37650239023196896 when branching factor is 20 threshold is 0.06 and number of clusters is 8\n",
      "Silhouette Coefficient is 0.36176041632897127 when branching factor is 20 threshold is 0.06 and number of clusters is 9\n",
      "Silhouette Coefficient is 0.35170284785308764 when branching factor is 20 threshold is 0.06 and number of clusters is 10\n",
      "Silhouette Coefficient is 0.4635443263991744 when branching factor is 20 threshold is 0.07 and number of clusters is 2\n",
      "Silhouette Coefficient is 0.47241865523245247 when branching factor is 20 threshold is 0.07 and number of clusters is 3\n",
      "Silhouette Coefficient is 0.3861738244261029 when branching factor is 20 threshold is 0.07 and number of clusters is 4\n",
      "Silhouette Coefficient is 0.38072511485229077 when branching factor is 20 threshold is 0.07 and number of clusters is 5\n",
      "Silhouette Coefficient is 0.33325612086362877 when branching factor is 20 threshold is 0.07 and number of clusters is 6\n",
      "Silhouette Coefficient is 0.3279803660008419 when branching factor is 20 threshold is 0.07 and number of clusters is 7\n",
      "Silhouette Coefficient is 0.30721523696408015 when branching factor is 20 threshold is 0.07 and number of clusters is 8\n",
      "Silhouette Coefficient is 0.35590256041117097 when branching factor is 20 threshold is 0.07 and number of clusters is 9\n",
      "Silhouette Coefficient is 0.35807350737007476 when branching factor is 20 threshold is 0.07 and number of clusters is 10\n",
      "Silhouette Coefficient is 0.4626014112571523 when branching factor is 20 threshold is 0.08 and number of clusters is 2\n",
      "Silhouette Coefficient is 0.47120965928174213 when branching factor is 20 threshold is 0.08 and number of clusters is 3\n",
      "Silhouette Coefficient is 0.4351445273542042 when branching factor is 20 threshold is 0.08 and number of clusters is 4\n",
      "Silhouette Coefficient is 0.41376588396685116 when branching factor is 20 threshold is 0.08 and number of clusters is 5\n",
      "Silhouette Coefficient is 0.41903002505519865 when branching factor is 20 threshold is 0.08 and number of clusters is 6\n",
      "Silhouette Coefficient is 0.4126422004468785 when branching factor is 20 threshold is 0.08 and number of clusters is 7\n",
      "Silhouette Coefficient is 0.38963912698212283 when branching factor is 20 threshold is 0.08 and number of clusters is 8\n",
      "Silhouette Coefficient is 0.3537348675853838 when branching factor is 20 threshold is 0.08 and number of clusters is 9\n",
      "Silhouette Coefficient is 0.33921664132375 when branching factor is 20 threshold is 0.08 and number of clusters is 10\n",
      "Silhouette Coefficient is 0.46315149917964343 when branching factor is 20 threshold is 0.09 and number of clusters is 2\n",
      "Silhouette Coefficient is 0.4657468895395402 when branching factor is 20 threshold is 0.09 and number of clusters is 3\n",
      "Silhouette Coefficient is 0.4120917587595982 when branching factor is 20 threshold is 0.09 and number of clusters is 4\n"
     ]
    },
    {
     "name": "stdout",
     "output_type": "stream",
     "text": [
      "Silhouette Coefficient is 0.3760042333338133 when branching factor is 20 threshold is 0.09 and number of clusters is 5\n",
      "Silhouette Coefficient is 0.38779805323082045 when branching factor is 20 threshold is 0.09 and number of clusters is 6\n",
      "Silhouette Coefficient is 0.3342460700314448 when branching factor is 20 threshold is 0.09 and number of clusters is 7\n",
      "Silhouette Coefficient is 0.3272529932618353 when branching factor is 20 threshold is 0.09 and number of clusters is 8\n",
      "Silhouette Coefficient is 0.3327654033530485 when branching factor is 20 threshold is 0.09 and number of clusters is 9\n",
      "Silhouette Coefficient is 0.39960305609757724 when branching factor is 20 threshold is 0.09 and number of clusters is 10\n",
      "Silhouette Coefficient is 0.4652507777463853 when branching factor is 20 threshold is 0.1 and number of clusters is 2\n",
      "Silhouette Coefficient is 0.4791155085454977 when branching factor is 20 threshold is 0.1 and number of clusters is 3\n",
      "Silhouette Coefficient is 0.44567563736843013 when branching factor is 20 threshold is 0.1 and number of clusters is 4\n",
      "Silhouette Coefficient is 0.42301766403508645 when branching factor is 20 threshold is 0.1 and number of clusters is 5\n",
      "Silhouette Coefficient is 0.3869289520893859 when branching factor is 20 threshold is 0.1 and number of clusters is 6\n",
      "Silhouette Coefficient is 0.41166105335309866 when branching factor is 20 threshold is 0.1 and number of clusters is 7\n",
      "Silhouette Coefficient is 0.41313176613178515 when branching factor is 20 threshold is 0.1 and number of clusters is 8\n",
      "Silhouette Coefficient is 0.41313176613178515 when branching factor is 20 threshold is 0.1 and number of clusters is 9\n",
      "Silhouette Coefficient is 0.41313176613178515 when branching factor is 20 threshold is 0.1 and number of clusters is 10\n",
      "Silhouette Coefficient is 0.4631800510850431 when branching factor is 30 threshold is 0.01 and number of clusters is 2\n",
      "Silhouette Coefficient is 0.46557565397658196 when branching factor is 30 threshold is 0.01 and number of clusters is 3\n",
      "Silhouette Coefficient is 0.42494436188711415 when branching factor is 30 threshold is 0.01 and number of clusters is 4\n",
      "Silhouette Coefficient is 0.4118709939503195 when branching factor is 30 threshold is 0.01 and number of clusters is 5\n"
     ]
    },
    {
     "name": "stderr",
     "output_type": "stream",
     "text": [
      "C:\\Users\\Sandeep\\anaconda3\\lib\\site-packages\\sklearn\\cluster\\_birch.py:717: ConvergenceWarning: Number of subclusters found (8) by BIRCH is less than (9). Decrease the threshold.\n",
      "  warnings.warn(\n",
      "C:\\Users\\Sandeep\\anaconda3\\lib\\site-packages\\sklearn\\cluster\\_birch.py:717: ConvergenceWarning: Number of subclusters found (8) by BIRCH is less than (10). Decrease the threshold.\n",
      "  warnings.warn(\n"
     ]
    },
    {
     "name": "stdout",
     "output_type": "stream",
     "text": [
      "Silhouette Coefficient is 0.35245860437413 when branching factor is 30 threshold is 0.01 and number of clusters is 6\n",
      "Silhouette Coefficient is 0.323016691559003 when branching factor is 30 threshold is 0.01 and number of clusters is 7\n",
      "Silhouette Coefficient is 0.3359297452815606 when branching factor is 30 threshold is 0.01 and number of clusters is 8\n",
      "Silhouette Coefficient is 0.3224986800497415 when branching factor is 30 threshold is 0.01 and number of clusters is 9\n",
      "Silhouette Coefficient is 0.32662584416686197 when branching factor is 30 threshold is 0.01 and number of clusters is 10\n",
      "Silhouette Coefficient is 0.4603648607248675 when branching factor is 30 threshold is 0.02 and number of clusters is 2\n",
      "Silhouette Coefficient is 0.48284485180188863 when branching factor is 30 threshold is 0.02 and number of clusters is 3\n",
      "Silhouette Coefficient is 0.3971768880306537 when branching factor is 30 threshold is 0.02 and number of clusters is 4\n",
      "Silhouette Coefficient is 0.36666037156150577 when branching factor is 30 threshold is 0.02 and number of clusters is 5\n",
      "Silhouette Coefficient is 0.3563628051098869 when branching factor is 30 threshold is 0.02 and number of clusters is 6\n",
      "Silhouette Coefficient is 0.3780189382286062 when branching factor is 30 threshold is 0.02 and number of clusters is 7\n",
      "Silhouette Coefficient is 0.34085404886770776 when branching factor is 30 threshold is 0.02 and number of clusters is 8\n",
      "Silhouette Coefficient is 0.34304560700343656 when branching factor is 30 threshold is 0.02 and number of clusters is 9\n",
      "Silhouette Coefficient is 0.3561203574294142 when branching factor is 30 threshold is 0.02 and number of clusters is 10\n",
      "Silhouette Coefficient is 0.460460129496383 when branching factor is 30 threshold is 0.03 and number of clusters is 2\n",
      "Silhouette Coefficient is 0.435847847114647 when branching factor is 30 threshold is 0.03 and number of clusters is 3\n",
      "Silhouette Coefficient is 0.4143322855831691 when branching factor is 30 threshold is 0.03 and number of clusters is 4\n",
      "Silhouette Coefficient is 0.41689282781031484 when branching factor is 30 threshold is 0.03 and number of clusters is 5\n",
      "Silhouette Coefficient is 0.38915639779990163 when branching factor is 30 threshold is 0.03 and number of clusters is 6\n",
      "Silhouette Coefficient is 0.36090638102103456 when branching factor is 30 threshold is 0.03 and number of clusters is 7\n",
      "Silhouette Coefficient is 0.3626861070685203 when branching factor is 30 threshold is 0.03 and number of clusters is 8\n",
      "Silhouette Coefficient is 0.32433191228717945 when branching factor is 30 threshold is 0.03 and number of clusters is 9\n",
      "Silhouette Coefficient is 0.31439340498823254 when branching factor is 30 threshold is 0.03 and number of clusters is 10\n",
      "Silhouette Coefficient is 0.4578318727469086 when branching factor is 30 threshold is 0.04 and number of clusters is 2\n",
      "Silhouette Coefficient is 0.4622569628686934 when branching factor is 30 threshold is 0.04 and number of clusters is 3\n",
      "Silhouette Coefficient is 0.4326897661882783 when branching factor is 30 threshold is 0.04 and number of clusters is 4\n",
      "Silhouette Coefficient is 0.3945561882212913 when branching factor is 30 threshold is 0.04 and number of clusters is 5\n",
      "Silhouette Coefficient is 0.38762147977273886 when branching factor is 30 threshold is 0.04 and number of clusters is 6\n",
      "Silhouette Coefficient is 0.36893145086637996 when branching factor is 30 threshold is 0.04 and number of clusters is 7\n",
      "Silhouette Coefficient is 0.36991254853626004 when branching factor is 30 threshold is 0.04 and number of clusters is 8\n",
      "Silhouette Coefficient is 0.36421724809053846 when branching factor is 30 threshold is 0.04 and number of clusters is 9\n",
      "Silhouette Coefficient is 0.36706434124931875 when branching factor is 30 threshold is 0.04 and number of clusters is 10\n",
      "Silhouette Coefficient is 0.4629451290370877 when branching factor is 30 threshold is 0.05 and number of clusters is 2\n",
      "Silhouette Coefficient is 0.45415644899802265 when branching factor is 30 threshold is 0.05 and number of clusters is 3\n",
      "Silhouette Coefficient is 0.3893156346711082 when branching factor is 30 threshold is 0.05 and number of clusters is 4\n",
      "Silhouette Coefficient is 0.3682537991036108 when branching factor is 30 threshold is 0.05 and number of clusters is 5\n",
      "Silhouette Coefficient is 0.3953346525267779 when branching factor is 30 threshold is 0.05 and number of clusters is 6\n",
      "Silhouette Coefficient is 0.3966425677270879 when branching factor is 30 threshold is 0.05 and number of clusters is 7\n",
      "Silhouette Coefficient is 0.3854425845578105 when branching factor is 30 threshold is 0.05 and number of clusters is 8\n",
      "Silhouette Coefficient is 0.38825379872240584 when branching factor is 30 threshold is 0.05 and number of clusters is 9\n",
      "Silhouette Coefficient is 0.3777984539668589 when branching factor is 30 threshold is 0.05 and number of clusters is 10\n",
      "Silhouette Coefficient is 0.4632403532782045 when branching factor is 30 threshold is 0.06 and number of clusters is 2\n",
      "Silhouette Coefficient is 0.46350183349528423 when branching factor is 30 threshold is 0.06 and number of clusters is 3\n",
      "Silhouette Coefficient is 0.4178908518293792 when branching factor is 30 threshold is 0.06 and number of clusters is 4\n",
      "Silhouette Coefficient is 0.4025596344347106 when branching factor is 30 threshold is 0.06 and number of clusters is 5\n",
      "Silhouette Coefficient is 0.4231567372472907 when branching factor is 30 threshold is 0.06 and number of clusters is 6\n",
      "Silhouette Coefficient is 0.38099518906289626 when branching factor is 30 threshold is 0.06 and number of clusters is 7\n",
      "Silhouette Coefficient is 0.37495327659221117 when branching factor is 30 threshold is 0.06 and number of clusters is 8\n",
      "Silhouette Coefficient is 0.3603531770355344 when branching factor is 30 threshold is 0.06 and number of clusters is 9\n",
      "Silhouette Coefficient is 0.3503495090102198 when branching factor is 30 threshold is 0.06 and number of clusters is 10\n",
      "Silhouette Coefficient is 0.4354244057083427 when branching factor is 30 threshold is 0.07 and number of clusters is 2\n",
      "Silhouette Coefficient is 0.395551713159436 when branching factor is 30 threshold is 0.07 and number of clusters is 3\n",
      "Silhouette Coefficient is 0.4272775916988282 when branching factor is 30 threshold is 0.07 and number of clusters is 4\n",
      "Silhouette Coefficient is 0.4064603002551571 when branching factor is 30 threshold is 0.07 and number of clusters is 5\n",
      "Silhouette Coefficient is 0.3991825008175284 when branching factor is 30 threshold is 0.07 and number of clusters is 6\n",
      "Silhouette Coefficient is 0.36317051397740824 when branching factor is 30 threshold is 0.07 and number of clusters is 7\n",
      "Silhouette Coefficient is 0.33686349261573756 when branching factor is 30 threshold is 0.07 and number of clusters is 8\n",
      "Silhouette Coefficient is 0.3508658744226807 when branching factor is 30 threshold is 0.07 and number of clusters is 9\n",
      "Silhouette Coefficient is 0.3530852554631013 when branching factor is 30 threshold is 0.07 and number of clusters is 10\n",
      "Silhouette Coefficient is 0.4626014112571523 when branching factor is 30 threshold is 0.08 and number of clusters is 2\n",
      "Silhouette Coefficient is 0.47120965928174213 when branching factor is 30 threshold is 0.08 and number of clusters is 3\n",
      "Silhouette Coefficient is 0.4351445273542042 when branching factor is 30 threshold is 0.08 and number of clusters is 4\n",
      "Silhouette Coefficient is 0.41376588396685116 when branching factor is 30 threshold is 0.08 and number of clusters is 5\n",
      "Silhouette Coefficient is 0.41903002505519865 when branching factor is 30 threshold is 0.08 and number of clusters is 6\n",
      "Silhouette Coefficient is 0.4126422004468785 when branching factor is 30 threshold is 0.08 and number of clusters is 7\n",
      "Silhouette Coefficient is 0.38963912698212283 when branching factor is 30 threshold is 0.08 and number of clusters is 8\n",
      "Silhouette Coefficient is 0.3537348675853838 when branching factor is 30 threshold is 0.08 and number of clusters is 9\n",
      "Silhouette Coefficient is 0.33921664132375 when branching factor is 30 threshold is 0.08 and number of clusters is 10\n",
      "Silhouette Coefficient is 0.46315149917964343 when branching factor is 30 threshold is 0.09 and number of clusters is 2\n",
      "Silhouette Coefficient is 0.4657468895395402 when branching factor is 30 threshold is 0.09 and number of clusters is 3\n",
      "Silhouette Coefficient is 0.4120917587595982 when branching factor is 30 threshold is 0.09 and number of clusters is 4\n",
      "Silhouette Coefficient is 0.3760042333338133 when branching factor is 30 threshold is 0.09 and number of clusters is 5\n",
      "Silhouette Coefficient is 0.38779805323082045 when branching factor is 30 threshold is 0.09 and number of clusters is 6\n",
      "Silhouette Coefficient is 0.3342460700314448 when branching factor is 30 threshold is 0.09 and number of clusters is 7\n"
     ]
    },
    {
     "name": "stdout",
     "output_type": "stream",
     "text": [
      "Silhouette Coefficient is 0.3272529932618353 when branching factor is 30 threshold is 0.09 and number of clusters is 8\n",
      "Silhouette Coefficient is 0.3327654033530485 when branching factor is 30 threshold is 0.09 and number of clusters is 9\n",
      "Silhouette Coefficient is 0.39960305609757724 when branching factor is 30 threshold is 0.09 and number of clusters is 10\n",
      "Silhouette Coefficient is 0.4652507777463853 when branching factor is 30 threshold is 0.1 and number of clusters is 2\n",
      "Silhouette Coefficient is 0.4791155085454977 when branching factor is 30 threshold is 0.1 and number of clusters is 3\n",
      "Silhouette Coefficient is 0.44567563736843013 when branching factor is 30 threshold is 0.1 and number of clusters is 4\n",
      "Silhouette Coefficient is 0.42301766403508645 when branching factor is 30 threshold is 0.1 and number of clusters is 5\n",
      "Silhouette Coefficient is 0.3869289520893859 when branching factor is 30 threshold is 0.1 and number of clusters is 6\n",
      "Silhouette Coefficient is 0.41166105335309866 when branching factor is 30 threshold is 0.1 and number of clusters is 7\n",
      "Silhouette Coefficient is 0.41313176613178515 when branching factor is 30 threshold is 0.1 and number of clusters is 8\n"
     ]
    },
    {
     "name": "stderr",
     "output_type": "stream",
     "text": [
      "C:\\Users\\Sandeep\\anaconda3\\lib\\site-packages\\sklearn\\cluster\\_birch.py:717: ConvergenceWarning: Number of subclusters found (8) by BIRCH is less than (9). Decrease the threshold.\n",
      "  warnings.warn(\n",
      "C:\\Users\\Sandeep\\anaconda3\\lib\\site-packages\\sklearn\\cluster\\_birch.py:717: ConvergenceWarning: Number of subclusters found (8) by BIRCH is less than (10). Decrease the threshold.\n",
      "  warnings.warn(\n"
     ]
    },
    {
     "name": "stdout",
     "output_type": "stream",
     "text": [
      "Silhouette Coefficient is 0.41313176613178515 when branching factor is 30 threshold is 0.1 and number of clusters is 9\n",
      "Silhouette Coefficient is 0.41313176613178515 when branching factor is 30 threshold is 0.1 and number of clusters is 10\n",
      "Silhouette Coefficient is 0.46285096708186907 when branching factor is 40 threshold is 0.01 and number of clusters is 2\n",
      "Silhouette Coefficient is 0.4667696678569588 when branching factor is 40 threshold is 0.01 and number of clusters is 3\n",
      "Silhouette Coefficient is 0.4146774972201933 when branching factor is 40 threshold is 0.01 and number of clusters is 4\n",
      "Silhouette Coefficient is 0.40835672054276645 when branching factor is 40 threshold is 0.01 and number of clusters is 5\n",
      "Silhouette Coefficient is 0.3796372376397389 when branching factor is 40 threshold is 0.01 and number of clusters is 6\n",
      "Silhouette Coefficient is 0.35800712368006815 when branching factor is 40 threshold is 0.01 and number of clusters is 7\n",
      "Silhouette Coefficient is 0.36636320802830985 when branching factor is 40 threshold is 0.01 and number of clusters is 8\n",
      "Silhouette Coefficient is 0.3698815208173161 when branching factor is 40 threshold is 0.01 and number of clusters is 9\n",
      "Silhouette Coefficient is 0.36299879342547287 when branching factor is 40 threshold is 0.01 and number of clusters is 10\n",
      "Silhouette Coefficient is 0.46988311328216587 when branching factor is 40 threshold is 0.02 and number of clusters is 2\n",
      "Silhouette Coefficient is 0.43124686499411896 when branching factor is 40 threshold is 0.02 and number of clusters is 3\n",
      "Silhouette Coefficient is 0.4201476633456909 when branching factor is 40 threshold is 0.02 and number of clusters is 4\n",
      "Silhouette Coefficient is 0.4282661959529362 when branching factor is 40 threshold is 0.02 and number of clusters is 5\n",
      "Silhouette Coefficient is 0.3811880017296495 when branching factor is 40 threshold is 0.02 and number of clusters is 6\n",
      "Silhouette Coefficient is 0.3839363286866498 when branching factor is 40 threshold is 0.02 and number of clusters is 7\n",
      "Silhouette Coefficient is 0.3448041734880658 when branching factor is 40 threshold is 0.02 and number of clusters is 8\n",
      "Silhouette Coefficient is 0.34875812313034127 when branching factor is 40 threshold is 0.02 and number of clusters is 9\n",
      "Silhouette Coefficient is 0.35483555268445666 when branching factor is 40 threshold is 0.02 and number of clusters is 10\n",
      "Silhouette Coefficient is 0.4539268025630232 when branching factor is 40 threshold is 0.03 and number of clusters is 2\n",
      "Silhouette Coefficient is 0.46028633619694714 when branching factor is 40 threshold is 0.03 and number of clusters is 3\n",
      "Silhouette Coefficient is 0.41796355023186715 when branching factor is 40 threshold is 0.03 and number of clusters is 4\n",
      "Silhouette Coefficient is 0.42768927660870215 when branching factor is 40 threshold is 0.03 and number of clusters is 5\n",
      "Silhouette Coefficient is 0.400391744442591 when branching factor is 40 threshold is 0.03 and number of clusters is 6\n",
      "Silhouette Coefficient is 0.3915849450178833 when branching factor is 40 threshold is 0.03 and number of clusters is 7\n",
      "Silhouette Coefficient is 0.39206845444354277 when branching factor is 40 threshold is 0.03 and number of clusters is 8\n",
      "Silhouette Coefficient is 0.36620166218700106 when branching factor is 40 threshold is 0.03 and number of clusters is 9\n",
      "Silhouette Coefficient is 0.36933779560257823 when branching factor is 40 threshold is 0.03 and number of clusters is 10\n",
      "Silhouette Coefficient is 0.4578318727469086 when branching factor is 40 threshold is 0.04 and number of clusters is 2\n",
      "Silhouette Coefficient is 0.4622569628686934 when branching factor is 40 threshold is 0.04 and number of clusters is 3\n",
      "Silhouette Coefficient is 0.43024490191900455 when branching factor is 40 threshold is 0.04 and number of clusters is 4\n",
      "Silhouette Coefficient is 0.397409652253097 when branching factor is 40 threshold is 0.04 and number of clusters is 5\n",
      "Silhouette Coefficient is 0.3903533291972833 when branching factor is 40 threshold is 0.04 and number of clusters is 6\n",
      "Silhouette Coefficient is 0.36912302772233346 when branching factor is 40 threshold is 0.04 and number of clusters is 7\n",
      "Silhouette Coefficient is 0.3698517677601929 when branching factor is 40 threshold is 0.04 and number of clusters is 8\n",
      "Silhouette Coefficient is 0.3644525507922451 when branching factor is 40 threshold is 0.04 and number of clusters is 9\n",
      "Silhouette Coefficient is 0.36733094997983934 when branching factor is 40 threshold is 0.04 and number of clusters is 10\n",
      "Silhouette Coefficient is 0.4629451290370877 when branching factor is 40 threshold is 0.05 and number of clusters is 2\n",
      "Silhouette Coefficient is 0.45415644899802265 when branching factor is 40 threshold is 0.05 and number of clusters is 3\n",
      "Silhouette Coefficient is 0.3893156346711082 when branching factor is 40 threshold is 0.05 and number of clusters is 4\n",
      "Silhouette Coefficient is 0.3682537991036108 when branching factor is 40 threshold is 0.05 and number of clusters is 5\n",
      "Silhouette Coefficient is 0.3953346525267779 when branching factor is 40 threshold is 0.05 and number of clusters is 6\n",
      "Silhouette Coefficient is 0.3966425677270879 when branching factor is 40 threshold is 0.05 and number of clusters is 7\n",
      "Silhouette Coefficient is 0.3854425845578105 when branching factor is 40 threshold is 0.05 and number of clusters is 8\n",
      "Silhouette Coefficient is 0.38825379872240584 when branching factor is 40 threshold is 0.05 and number of clusters is 9\n",
      "Silhouette Coefficient is 0.3777984539668589 when branching factor is 40 threshold is 0.05 and number of clusters is 10\n",
      "Silhouette Coefficient is 0.4632403532782045 when branching factor is 40 threshold is 0.06 and number of clusters is 2\n",
      "Silhouette Coefficient is 0.46350183349528423 when branching factor is 40 threshold is 0.06 and number of clusters is 3\n",
      "Silhouette Coefficient is 0.4178908518293792 when branching factor is 40 threshold is 0.06 and number of clusters is 4\n",
      "Silhouette Coefficient is 0.4025596344347106 when branching factor is 40 threshold is 0.06 and number of clusters is 5\n",
      "Silhouette Coefficient is 0.4231567372472907 when branching factor is 40 threshold is 0.06 and number of clusters is 6\n",
      "Silhouette Coefficient is 0.38099518906289626 when branching factor is 40 threshold is 0.06 and number of clusters is 7\n",
      "Silhouette Coefficient is 0.37495327659221117 when branching factor is 40 threshold is 0.06 and number of clusters is 8\n",
      "Silhouette Coefficient is 0.3603531770355344 when branching factor is 40 threshold is 0.06 and number of clusters is 9\n",
      "Silhouette Coefficient is 0.3503495090102198 when branching factor is 40 threshold is 0.06 and number of clusters is 10\n",
      "Silhouette Coefficient is 0.4354244057083427 when branching factor is 40 threshold is 0.07 and number of clusters is 2\n",
      "Silhouette Coefficient is 0.395551713159436 when branching factor is 40 threshold is 0.07 and number of clusters is 3\n",
      "Silhouette Coefficient is 0.4272775916988282 when branching factor is 40 threshold is 0.07 and number of clusters is 4\n",
      "Silhouette Coefficient is 0.4064603002551571 when branching factor is 40 threshold is 0.07 and number of clusters is 5\n",
      "Silhouette Coefficient is 0.3991825008175284 when branching factor is 40 threshold is 0.07 and number of clusters is 6\n",
      "Silhouette Coefficient is 0.36317051397740824 when branching factor is 40 threshold is 0.07 and number of clusters is 7\n",
      "Silhouette Coefficient is 0.33686349261573756 when branching factor is 40 threshold is 0.07 and number of clusters is 8\n",
      "Silhouette Coefficient is 0.3508658744226807 when branching factor is 40 threshold is 0.07 and number of clusters is 9\n",
      "Silhouette Coefficient is 0.3530852554631013 when branching factor is 40 threshold is 0.07 and number of clusters is 10\n",
      "Silhouette Coefficient is 0.4626014112571523 when branching factor is 40 threshold is 0.08 and number of clusters is 2\n",
      "Silhouette Coefficient is 0.47120965928174213 when branching factor is 40 threshold is 0.08 and number of clusters is 3\n",
      "Silhouette Coefficient is 0.4351445273542042 when branching factor is 40 threshold is 0.08 and number of clusters is 4\n",
      "Silhouette Coefficient is 0.41376588396685116 when branching factor is 40 threshold is 0.08 and number of clusters is 5\n",
      "Silhouette Coefficient is 0.41903002505519865 when branching factor is 40 threshold is 0.08 and number of clusters is 6\n",
      "Silhouette Coefficient is 0.4126422004468785 when branching factor is 40 threshold is 0.08 and number of clusters is 7\n",
      "Silhouette Coefficient is 0.38963912698212283 when branching factor is 40 threshold is 0.08 and number of clusters is 8\n",
      "Silhouette Coefficient is 0.3537348675853838 when branching factor is 40 threshold is 0.08 and number of clusters is 9\n",
      "Silhouette Coefficient is 0.33921664132375 when branching factor is 40 threshold is 0.08 and number of clusters is 10\n",
      "Silhouette Coefficient is 0.46315149917964343 when branching factor is 40 threshold is 0.09 and number of clusters is 2\n"
     ]
    },
    {
     "name": "stdout",
     "output_type": "stream",
     "text": [
      "Silhouette Coefficient is 0.4657468895395402 when branching factor is 40 threshold is 0.09 and number of clusters is 3\n",
      "Silhouette Coefficient is 0.4120917587595982 when branching factor is 40 threshold is 0.09 and number of clusters is 4\n",
      "Silhouette Coefficient is 0.3760042333338133 when branching factor is 40 threshold is 0.09 and number of clusters is 5\n",
      "Silhouette Coefficient is 0.38779805323082045 when branching factor is 40 threshold is 0.09 and number of clusters is 6\n",
      "Silhouette Coefficient is 0.3342460700314448 when branching factor is 40 threshold is 0.09 and number of clusters is 7\n",
      "Silhouette Coefficient is 0.3272529932618353 when branching factor is 40 threshold is 0.09 and number of clusters is 8\n",
      "Silhouette Coefficient is 0.3327654033530485 when branching factor is 40 threshold is 0.09 and number of clusters is 9\n",
      "Silhouette Coefficient is 0.39960305609757724 when branching factor is 40 threshold is 0.09 and number of clusters is 10\n",
      "Silhouette Coefficient is 0.4652507777463853 when branching factor is 40 threshold is 0.1 and number of clusters is 2\n",
      "Silhouette Coefficient is 0.4791155085454977 when branching factor is 40 threshold is 0.1 and number of clusters is 3\n",
      "Silhouette Coefficient is 0.44567563736843013 when branching factor is 40 threshold is 0.1 and number of clusters is 4\n",
      "Silhouette Coefficient is 0.42301766403508645 when branching factor is 40 threshold is 0.1 and number of clusters is 5\n",
      "Silhouette Coefficient is 0.3869289520893859 when branching factor is 40 threshold is 0.1 and number of clusters is 6\n",
      "Silhouette Coefficient is 0.41166105335309866 when branching factor is 40 threshold is 0.1 and number of clusters is 7\n",
      "Silhouette Coefficient is 0.41313176613178515 when branching factor is 40 threshold is 0.1 and number of clusters is 8\n",
      "Silhouette Coefficient is 0.41313176613178515 when branching factor is 40 threshold is 0.1 and number of clusters is 9\n",
      "Silhouette Coefficient is 0.41313176613178515 when branching factor is 40 threshold is 0.1 and number of clusters is 10\n",
      "Silhouette Coefficient is 0.4627966516368887 when branching factor is 50 threshold is 0.01 and number of clusters is 2\n"
     ]
    },
    {
     "name": "stderr",
     "output_type": "stream",
     "text": [
      "C:\\Users\\Sandeep\\anaconda3\\lib\\site-packages\\sklearn\\cluster\\_birch.py:717: ConvergenceWarning: Number of subclusters found (8) by BIRCH is less than (9). Decrease the threshold.\n",
      "  warnings.warn(\n",
      "C:\\Users\\Sandeep\\anaconda3\\lib\\site-packages\\sklearn\\cluster\\_birch.py:717: ConvergenceWarning: Number of subclusters found (8) by BIRCH is less than (10). Decrease the threshold.\n",
      "  warnings.warn(\n"
     ]
    },
    {
     "name": "stdout",
     "output_type": "stream",
     "text": [
      "Silhouette Coefficient is 0.4545899784197846 when branching factor is 50 threshold is 0.01 and number of clusters is 3\n",
      "Silhouette Coefficient is 0.4402665185064738 when branching factor is 50 threshold is 0.01 and number of clusters is 4\n",
      "Silhouette Coefficient is 0.40931303953818426 when branching factor is 50 threshold is 0.01 and number of clusters is 5\n",
      "Silhouette Coefficient is 0.4028035536085553 when branching factor is 50 threshold is 0.01 and number of clusters is 6\n",
      "Silhouette Coefficient is 0.3965274542503403 when branching factor is 50 threshold is 0.01 and number of clusters is 7\n",
      "Silhouette Coefficient is 0.36044650056094 when branching factor is 50 threshold is 0.01 and number of clusters is 8\n",
      "Silhouette Coefficient is 0.36361838212431385 when branching factor is 50 threshold is 0.01 and number of clusters is 9\n",
      "Silhouette Coefficient is 0.3485823861894134 when branching factor is 50 threshold is 0.01 and number of clusters is 10\n",
      "Silhouette Coefficient is 0.4622979784148432 when branching factor is 50 threshold is 0.02 and number of clusters is 2\n",
      "Silhouette Coefficient is 0.48329730797285075 when branching factor is 50 threshold is 0.02 and number of clusters is 3\n",
      "Silhouette Coefficient is 0.4445414738563713 when branching factor is 50 threshold is 0.02 and number of clusters is 4\n",
      "Silhouette Coefficient is 0.41244885081139876 when branching factor is 50 threshold is 0.02 and number of clusters is 5\n",
      "Silhouette Coefficient is 0.38705543979108753 when branching factor is 50 threshold is 0.02 and number of clusters is 6\n",
      "Silhouette Coefficient is 0.3583892324560136 when branching factor is 50 threshold is 0.02 and number of clusters is 7\n",
      "Silhouette Coefficient is 0.35579708422086986 when branching factor is 50 threshold is 0.02 and number of clusters is 8\n",
      "Silhouette Coefficient is 0.3548680629795907 when branching factor is 50 threshold is 0.02 and number of clusters is 9\n",
      "Silhouette Coefficient is 0.3609114712469736 when branching factor is 50 threshold is 0.02 and number of clusters is 10\n",
      "Silhouette Coefficient is 0.4523047871917318 when branching factor is 50 threshold is 0.03 and number of clusters is 2\n",
      "Silhouette Coefficient is 0.44420344298028164 when branching factor is 50 threshold is 0.03 and number of clusters is 3\n",
      "Silhouette Coefficient is 0.40357343583966 when branching factor is 50 threshold is 0.03 and number of clusters is 4\n",
      "Silhouette Coefficient is 0.39035017815117 when branching factor is 50 threshold is 0.03 and number of clusters is 5\n",
      "Silhouette Coefficient is 0.39451057205146683 when branching factor is 50 threshold is 0.03 and number of clusters is 6\n",
      "Silhouette Coefficient is 0.38384504216955123 when branching factor is 50 threshold is 0.03 and number of clusters is 7\n",
      "Silhouette Coefficient is 0.38536892452963273 when branching factor is 50 threshold is 0.03 and number of clusters is 8\n",
      "Silhouette Coefficient is 0.3801368837715187 when branching factor is 50 threshold is 0.03 and number of clusters is 9\n",
      "Silhouette Coefficient is 0.338789086271001 when branching factor is 50 threshold is 0.03 and number of clusters is 10\n",
      "Silhouette Coefficient is 0.44754622088084667 when branching factor is 50 threshold is 0.04 and number of clusters is 2\n",
      "Silhouette Coefficient is 0.3955317358465286 when branching factor is 50 threshold is 0.04 and number of clusters is 3\n",
      "Silhouette Coefficient is 0.43685876033135 when branching factor is 50 threshold is 0.04 and number of clusters is 4\n",
      "Silhouette Coefficient is 0.406320860462869 when branching factor is 50 threshold is 0.04 and number of clusters is 5\n",
      "Silhouette Coefficient is 0.3994417218295558 when branching factor is 50 threshold is 0.04 and number of clusters is 6\n",
      "Silhouette Coefficient is 0.3904272985820553 when branching factor is 50 threshold is 0.04 and number of clusters is 7\n",
      "Silhouette Coefficient is 0.3816898557100492 when branching factor is 50 threshold is 0.04 and number of clusters is 8\n",
      "Silhouette Coefficient is 0.38920138768532886 when branching factor is 50 threshold is 0.04 and number of clusters is 9\n",
      "Silhouette Coefficient is 0.3897871976448668 when branching factor is 50 threshold is 0.04 and number of clusters is 10\n",
      "Silhouette Coefficient is 0.4629451290370877 when branching factor is 50 threshold is 0.05 and number of clusters is 2\n",
      "Silhouette Coefficient is 0.45415644899802265 when branching factor is 50 threshold is 0.05 and number of clusters is 3\n",
      "Silhouette Coefficient is 0.3893156346711082 when branching factor is 50 threshold is 0.05 and number of clusters is 4\n",
      "Silhouette Coefficient is 0.3682537991036108 when branching factor is 50 threshold is 0.05 and number of clusters is 5\n",
      "Silhouette Coefficient is 0.3953346525267779 when branching factor is 50 threshold is 0.05 and number of clusters is 6\n",
      "Silhouette Coefficient is 0.3966425677270879 when branching factor is 50 threshold is 0.05 and number of clusters is 7\n",
      "Silhouette Coefficient is 0.3854425845578105 when branching factor is 50 threshold is 0.05 and number of clusters is 8\n",
      "Silhouette Coefficient is 0.38825379872240584 when branching factor is 50 threshold is 0.05 and number of clusters is 9\n",
      "Silhouette Coefficient is 0.3777984539668589 when branching factor is 50 threshold is 0.05 and number of clusters is 10\n",
      "Silhouette Coefficient is 0.4632403532782045 when branching factor is 50 threshold is 0.06 and number of clusters is 2\n",
      "Silhouette Coefficient is 0.46350183349528423 when branching factor is 50 threshold is 0.06 and number of clusters is 3\n",
      "Silhouette Coefficient is 0.4178908518293792 when branching factor is 50 threshold is 0.06 and number of clusters is 4\n",
      "Silhouette Coefficient is 0.4025596344347106 when branching factor is 50 threshold is 0.06 and number of clusters is 5\n",
      "Silhouette Coefficient is 0.4231567372472907 when branching factor is 50 threshold is 0.06 and number of clusters is 6\n",
      "Silhouette Coefficient is 0.38099518906289626 when branching factor is 50 threshold is 0.06 and number of clusters is 7\n",
      "Silhouette Coefficient is 0.37495327659221117 when branching factor is 50 threshold is 0.06 and number of clusters is 8\n",
      "Silhouette Coefficient is 0.3603531770355344 when branching factor is 50 threshold is 0.06 and number of clusters is 9\n",
      "Silhouette Coefficient is 0.3503495090102198 when branching factor is 50 threshold is 0.06 and number of clusters is 10\n",
      "Silhouette Coefficient is 0.4354244057083427 when branching factor is 50 threshold is 0.07 and number of clusters is 2\n",
      "Silhouette Coefficient is 0.395551713159436 when branching factor is 50 threshold is 0.07 and number of clusters is 3\n",
      "Silhouette Coefficient is 0.4272775916988282 when branching factor is 50 threshold is 0.07 and number of clusters is 4\n",
      "Silhouette Coefficient is 0.4064603002551571 when branching factor is 50 threshold is 0.07 and number of clusters is 5\n",
      "Silhouette Coefficient is 0.3991825008175284 when branching factor is 50 threshold is 0.07 and number of clusters is 6\n",
      "Silhouette Coefficient is 0.36317051397740824 when branching factor is 50 threshold is 0.07 and number of clusters is 7\n",
      "Silhouette Coefficient is 0.33686349261573756 when branching factor is 50 threshold is 0.07 and number of clusters is 8\n",
      "Silhouette Coefficient is 0.3508658744226807 when branching factor is 50 threshold is 0.07 and number of clusters is 9\n",
      "Silhouette Coefficient is 0.3530852554631013 when branching factor is 50 threshold is 0.07 and number of clusters is 10\n",
      "Silhouette Coefficient is 0.4626014112571523 when branching factor is 50 threshold is 0.08 and number of clusters is 2\n",
      "Silhouette Coefficient is 0.47120965928174213 when branching factor is 50 threshold is 0.08 and number of clusters is 3\n",
      "Silhouette Coefficient is 0.4351445273542042 when branching factor is 50 threshold is 0.08 and number of clusters is 4\n",
      "Silhouette Coefficient is 0.41376588396685116 when branching factor is 50 threshold is 0.08 and number of clusters is 5\n",
      "Silhouette Coefficient is 0.41903002505519865 when branching factor is 50 threshold is 0.08 and number of clusters is 6\n",
      "Silhouette Coefficient is 0.4126422004468785 when branching factor is 50 threshold is 0.08 and number of clusters is 7\n",
      "Silhouette Coefficient is 0.38963912698212283 when branching factor is 50 threshold is 0.08 and number of clusters is 8\n",
      "Silhouette Coefficient is 0.3537348675853838 when branching factor is 50 threshold is 0.08 and number of clusters is 9\n",
      "Silhouette Coefficient is 0.33921664132375 when branching factor is 50 threshold is 0.08 and number of clusters is 10\n",
      "Silhouette Coefficient is 0.46315149917964343 when branching factor is 50 threshold is 0.09 and number of clusters is 2\n",
      "Silhouette Coefficient is 0.4657468895395402 when branching factor is 50 threshold is 0.09 and number of clusters is 3\n"
     ]
    },
    {
     "name": "stdout",
     "output_type": "stream",
     "text": [
      "Silhouette Coefficient is 0.4120917587595982 when branching factor is 50 threshold is 0.09 and number of clusters is 4\n",
      "Silhouette Coefficient is 0.3760042333338133 when branching factor is 50 threshold is 0.09 and number of clusters is 5\n",
      "Silhouette Coefficient is 0.38779805323082045 when branching factor is 50 threshold is 0.09 and number of clusters is 6\n",
      "Silhouette Coefficient is 0.3342460700314448 when branching factor is 50 threshold is 0.09 and number of clusters is 7\n",
      "Silhouette Coefficient is 0.3272529932618353 when branching factor is 50 threshold is 0.09 and number of clusters is 8\n",
      "Silhouette Coefficient is 0.3327654033530485 when branching factor is 50 threshold is 0.09 and number of clusters is 9\n",
      "Silhouette Coefficient is 0.39960305609757724 when branching factor is 50 threshold is 0.09 and number of clusters is 10\n",
      "Silhouette Coefficient is 0.4652507777463853 when branching factor is 50 threshold is 0.1 and number of clusters is 2\n",
      "Silhouette Coefficient is 0.4791155085454977 when branching factor is 50 threshold is 0.1 and number of clusters is 3\n",
      "Silhouette Coefficient is 0.44567563736843013 when branching factor is 50 threshold is 0.1 and number of clusters is 4\n",
      "Silhouette Coefficient is 0.42301766403508645 when branching factor is 50 threshold is 0.1 and number of clusters is 5\n",
      "Silhouette Coefficient is 0.3869289520893859 when branching factor is 50 threshold is 0.1 and number of clusters is 6\n",
      "Silhouette Coefficient is 0.41166105335309866 when branching factor is 50 threshold is 0.1 and number of clusters is 7\n",
      "Silhouette Coefficient is 0.41313176613178515 when branching factor is 50 threshold is 0.1 and number of clusters is 8\n",
      "Silhouette Coefficient is 0.41313176613178515 when branching factor is 50 threshold is 0.1 and number of clusters is 9\n",
      "Silhouette Coefficient is 0.41313176613178515 when branching factor is 50 threshold is 0.1 and number of clusters is 10\n"
     ]
    },
    {
     "name": "stderr",
     "output_type": "stream",
     "text": [
      "C:\\Users\\Sandeep\\anaconda3\\lib\\site-packages\\sklearn\\cluster\\_birch.py:717: ConvergenceWarning: Number of subclusters found (8) by BIRCH is less than (9). Decrease the threshold.\n",
      "  warnings.warn(\n",
      "C:\\Users\\Sandeep\\anaconda3\\lib\\site-packages\\sklearn\\cluster\\_birch.py:717: ConvergenceWarning: Number of subclusters found (8) by BIRCH is less than (10). Decrease the threshold.\n",
      "  warnings.warn(\n"
     ]
    },
    {
     "name": "stdout",
     "output_type": "stream",
     "text": [
      "Silhouette Coefficient is 0.4627966516368887 when branching factor is 60 threshold is 0.01 and number of clusters is 2\n",
      "Silhouette Coefficient is 0.45805998966008993 when branching factor is 60 threshold is 0.01 and number of clusters is 3\n",
      "Silhouette Coefficient is 0.439058129372133 when branching factor is 60 threshold is 0.01 and number of clusters is 4\n",
      "Silhouette Coefficient is 0.4069859656547052 when branching factor is 60 threshold is 0.01 and number of clusters is 5\n",
      "Silhouette Coefficient is 0.3804083661567783 when branching factor is 60 threshold is 0.01 and number of clusters is 6\n",
      "Silhouette Coefficient is 0.3625628836525389 when branching factor is 60 threshold is 0.01 and number of clusters is 7\n",
      "Silhouette Coefficient is 0.34079364157856534 when branching factor is 60 threshold is 0.01 and number of clusters is 8\n",
      "Silhouette Coefficient is 0.3159182289925683 when branching factor is 60 threshold is 0.01 and number of clusters is 9\n",
      "Silhouette Coefficient is 0.3193973281696011 when branching factor is 60 threshold is 0.01 and number of clusters is 10\n",
      "Silhouette Coefficient is 0.4622979784148432 when branching factor is 60 threshold is 0.02 and number of clusters is 2\n",
      "Silhouette Coefficient is 0.44875977927783883 when branching factor is 60 threshold is 0.02 and number of clusters is 3\n",
      "Silhouette Coefficient is 0.4167602969496767 when branching factor is 60 threshold is 0.02 and number of clusters is 4\n",
      "Silhouette Coefficient is 0.4197225481646937 when branching factor is 60 threshold is 0.02 and number of clusters is 5\n",
      "Silhouette Coefficient is 0.406346367265675 when branching factor is 60 threshold is 0.02 and number of clusters is 6\n",
      "Silhouette Coefficient is 0.36896049343809106 when branching factor is 60 threshold is 0.02 and number of clusters is 7\n",
      "Silhouette Coefficient is 0.37361434253293896 when branching factor is 60 threshold is 0.02 and number of clusters is 8\n",
      "Silhouette Coefficient is 0.34710446754858076 when branching factor is 60 threshold is 0.02 and number of clusters is 9\n",
      "Silhouette Coefficient is 0.350656524031992 when branching factor is 60 threshold is 0.02 and number of clusters is 10\n",
      "Silhouette Coefficient is 0.45608520752780934 when branching factor is 60 threshold is 0.03 and number of clusters is 2\n",
      "Silhouette Coefficient is 0.42199225781332855 when branching factor is 60 threshold is 0.03 and number of clusters is 3\n",
      "Silhouette Coefficient is 0.3667164758075104 when branching factor is 60 threshold is 0.03 and number of clusters is 4\n",
      "Silhouette Coefficient is 0.4082583919010142 when branching factor is 60 threshold is 0.03 and number of clusters is 5\n",
      "Silhouette Coefficient is 0.3971949083738769 when branching factor is 60 threshold is 0.03 and number of clusters is 6\n",
      "Silhouette Coefficient is 0.3969159935988494 when branching factor is 60 threshold is 0.03 and number of clusters is 7\n",
      "Silhouette Coefficient is 0.37811541190617093 when branching factor is 60 threshold is 0.03 and number of clusters is 8\n",
      "Silhouette Coefficient is 0.3090009713332128 when branching factor is 60 threshold is 0.03 and number of clusters is 9\n",
      "Silhouette Coefficient is 0.29523390868047844 when branching factor is 60 threshold is 0.03 and number of clusters is 10\n",
      "Silhouette Coefficient is 0.44754622088084667 when branching factor is 60 threshold is 0.04 and number of clusters is 2\n",
      "Silhouette Coefficient is 0.3955317358465286 when branching factor is 60 threshold is 0.04 and number of clusters is 3\n",
      "Silhouette Coefficient is 0.43685876033135 when branching factor is 60 threshold is 0.04 and number of clusters is 4\n",
      "Silhouette Coefficient is 0.406320860462869 when branching factor is 60 threshold is 0.04 and number of clusters is 5\n",
      "Silhouette Coefficient is 0.3994417218295558 when branching factor is 60 threshold is 0.04 and number of clusters is 6\n",
      "Silhouette Coefficient is 0.3904272985820553 when branching factor is 60 threshold is 0.04 and number of clusters is 7\n",
      "Silhouette Coefficient is 0.3816898557100492 when branching factor is 60 threshold is 0.04 and number of clusters is 8\n",
      "Silhouette Coefficient is 0.38920138768532886 when branching factor is 60 threshold is 0.04 and number of clusters is 9\n",
      "Silhouette Coefficient is 0.3897871976448668 when branching factor is 60 threshold is 0.04 and number of clusters is 10\n",
      "Silhouette Coefficient is 0.4629451290370877 when branching factor is 60 threshold is 0.05 and number of clusters is 2\n",
      "Silhouette Coefficient is 0.45415644899802265 when branching factor is 60 threshold is 0.05 and number of clusters is 3\n",
      "Silhouette Coefficient is 0.3893156346711082 when branching factor is 60 threshold is 0.05 and number of clusters is 4\n",
      "Silhouette Coefficient is 0.3682537991036108 when branching factor is 60 threshold is 0.05 and number of clusters is 5\n",
      "Silhouette Coefficient is 0.3953346525267779 when branching factor is 60 threshold is 0.05 and number of clusters is 6\n",
      "Silhouette Coefficient is 0.3966425677270879 when branching factor is 60 threshold is 0.05 and number of clusters is 7\n",
      "Silhouette Coefficient is 0.3854425845578105 when branching factor is 60 threshold is 0.05 and number of clusters is 8\n",
      "Silhouette Coefficient is 0.38825379872240584 when branching factor is 60 threshold is 0.05 and number of clusters is 9\n",
      "Silhouette Coefficient is 0.3777984539668589 when branching factor is 60 threshold is 0.05 and number of clusters is 10\n",
      "Silhouette Coefficient is 0.4632403532782045 when branching factor is 60 threshold is 0.06 and number of clusters is 2\n",
      "Silhouette Coefficient is 0.46350183349528423 when branching factor is 60 threshold is 0.06 and number of clusters is 3\n",
      "Silhouette Coefficient is 0.4178908518293792 when branching factor is 60 threshold is 0.06 and number of clusters is 4\n",
      "Silhouette Coefficient is 0.4025596344347106 when branching factor is 60 threshold is 0.06 and number of clusters is 5\n",
      "Silhouette Coefficient is 0.4231567372472907 when branching factor is 60 threshold is 0.06 and number of clusters is 6\n",
      "Silhouette Coefficient is 0.38099518906289626 when branching factor is 60 threshold is 0.06 and number of clusters is 7\n",
      "Silhouette Coefficient is 0.37495327659221117 when branching factor is 60 threshold is 0.06 and number of clusters is 8\n",
      "Silhouette Coefficient is 0.3603531770355344 when branching factor is 60 threshold is 0.06 and number of clusters is 9\n",
      "Silhouette Coefficient is 0.3503495090102198 when branching factor is 60 threshold is 0.06 and number of clusters is 10\n",
      "Silhouette Coefficient is 0.4354244057083427 when branching factor is 60 threshold is 0.07 and number of clusters is 2\n",
      "Silhouette Coefficient is 0.395551713159436 when branching factor is 60 threshold is 0.07 and number of clusters is 3\n",
      "Silhouette Coefficient is 0.4272775916988282 when branching factor is 60 threshold is 0.07 and number of clusters is 4\n",
      "Silhouette Coefficient is 0.4064603002551571 when branching factor is 60 threshold is 0.07 and number of clusters is 5\n",
      "Silhouette Coefficient is 0.3991825008175284 when branching factor is 60 threshold is 0.07 and number of clusters is 6\n",
      "Silhouette Coefficient is 0.36317051397740824 when branching factor is 60 threshold is 0.07 and number of clusters is 7\n",
      "Silhouette Coefficient is 0.33686349261573756 when branching factor is 60 threshold is 0.07 and number of clusters is 8\n",
      "Silhouette Coefficient is 0.3508658744226807 when branching factor is 60 threshold is 0.07 and number of clusters is 9\n",
      "Silhouette Coefficient is 0.3530852554631013 when branching factor is 60 threshold is 0.07 and number of clusters is 10\n",
      "Silhouette Coefficient is 0.4626014112571523 when branching factor is 60 threshold is 0.08 and number of clusters is 2\n",
      "Silhouette Coefficient is 0.47120965928174213 when branching factor is 60 threshold is 0.08 and number of clusters is 3\n",
      "Silhouette Coefficient is 0.4351445273542042 when branching factor is 60 threshold is 0.08 and number of clusters is 4\n",
      "Silhouette Coefficient is 0.41376588396685116 when branching factor is 60 threshold is 0.08 and number of clusters is 5\n",
      "Silhouette Coefficient is 0.41903002505519865 when branching factor is 60 threshold is 0.08 and number of clusters is 6\n",
      "Silhouette Coefficient is 0.4126422004468785 when branching factor is 60 threshold is 0.08 and number of clusters is 7\n"
     ]
    },
    {
     "name": "stdout",
     "output_type": "stream",
     "text": [
      "Silhouette Coefficient is 0.38963912698212283 when branching factor is 60 threshold is 0.08 and number of clusters is 8\n",
      "Silhouette Coefficient is 0.3537348675853838 when branching factor is 60 threshold is 0.08 and number of clusters is 9\n",
      "Silhouette Coefficient is 0.33921664132375 when branching factor is 60 threshold is 0.08 and number of clusters is 10\n",
      "Silhouette Coefficient is 0.46315149917964343 when branching factor is 60 threshold is 0.09 and number of clusters is 2\n",
      "Silhouette Coefficient is 0.4657468895395402 when branching factor is 60 threshold is 0.09 and number of clusters is 3\n",
      "Silhouette Coefficient is 0.4120917587595982 when branching factor is 60 threshold is 0.09 and number of clusters is 4\n",
      "Silhouette Coefficient is 0.3760042333338133 when branching factor is 60 threshold is 0.09 and number of clusters is 5\n",
      "Silhouette Coefficient is 0.38779805323082045 when branching factor is 60 threshold is 0.09 and number of clusters is 6\n",
      "Silhouette Coefficient is 0.3342460700314448 when branching factor is 60 threshold is 0.09 and number of clusters is 7\n",
      "Silhouette Coefficient is 0.3272529932618353 when branching factor is 60 threshold is 0.09 and number of clusters is 8\n",
      "Silhouette Coefficient is 0.3327654033530485 when branching factor is 60 threshold is 0.09 and number of clusters is 9\n",
      "Silhouette Coefficient is 0.39960305609757724 when branching factor is 60 threshold is 0.09 and number of clusters is 10\n",
      "Silhouette Coefficient is 0.4652507777463853 when branching factor is 60 threshold is 0.1 and number of clusters is 2\n",
      "Silhouette Coefficient is 0.4791155085454977 when branching factor is 60 threshold is 0.1 and number of clusters is 3\n",
      "Silhouette Coefficient is 0.44567563736843013 when branching factor is 60 threshold is 0.1 and number of clusters is 4\n",
      "Silhouette Coefficient is 0.42301766403508645 when branching factor is 60 threshold is 0.1 and number of clusters is 5\n",
      "Silhouette Coefficient is 0.3869289520893859 when branching factor is 60 threshold is 0.1 and number of clusters is 6\n",
      "Silhouette Coefficient is 0.41166105335309866 when branching factor is 60 threshold is 0.1 and number of clusters is 7\n",
      "Silhouette Coefficient is 0.41313176613178515 when branching factor is 60 threshold is 0.1 and number of clusters is 8\n",
      "Silhouette Coefficient is 0.41313176613178515 when branching factor is 60 threshold is 0.1 and number of clusters is 9\n"
     ]
    },
    {
     "name": "stderr",
     "output_type": "stream",
     "text": [
      "C:\\Users\\Sandeep\\anaconda3\\lib\\site-packages\\sklearn\\cluster\\_birch.py:717: ConvergenceWarning: Number of subclusters found (8) by BIRCH is less than (9). Decrease the threshold.\n",
      "  warnings.warn(\n",
      "C:\\Users\\Sandeep\\anaconda3\\lib\\site-packages\\sklearn\\cluster\\_birch.py:717: ConvergenceWarning: Number of subclusters found (8) by BIRCH is less than (10). Decrease the threshold.\n",
      "  warnings.warn(\n"
     ]
    },
    {
     "name": "stdout",
     "output_type": "stream",
     "text": [
      "Silhouette Coefficient is 0.41313176613178515 when branching factor is 60 threshold is 0.1 and number of clusters is 10\n",
      "Silhouette Coefficient is 0.44696038702885477 when branching factor is 70 threshold is 0.01 and number of clusters is 2\n",
      "Silhouette Coefficient is 0.3854042427626114 when branching factor is 70 threshold is 0.01 and number of clusters is 3\n",
      "Silhouette Coefficient is 0.4335323568153217 when branching factor is 70 threshold is 0.01 and number of clusters is 4\n",
      "Silhouette Coefficient is 0.42839412969303875 when branching factor is 70 threshold is 0.01 and number of clusters is 5\n",
      "Silhouette Coefficient is 0.39802894340051037 when branching factor is 70 threshold is 0.01 and number of clusters is 6\n",
      "Silhouette Coefficient is 0.4002152011316134 when branching factor is 70 threshold is 0.01 and number of clusters is 7\n",
      "Silhouette Coefficient is 0.36348600091271277 when branching factor is 70 threshold is 0.01 and number of clusters is 8\n",
      "Silhouette Coefficient is 0.3669651000897457 when branching factor is 70 threshold is 0.01 and number of clusters is 9\n",
      "Silhouette Coefficient is 0.3580409393722207 when branching factor is 70 threshold is 0.01 and number of clusters is 10\n",
      "Silhouette Coefficient is 0.4622979784148432 when branching factor is 70 threshold is 0.02 and number of clusters is 2\n",
      "Silhouette Coefficient is 0.44875977927783883 when branching factor is 70 threshold is 0.02 and number of clusters is 3\n",
      "Silhouette Coefficient is 0.4167602969496767 when branching factor is 70 threshold is 0.02 and number of clusters is 4\n",
      "Silhouette Coefficient is 0.4197225481646937 when branching factor is 70 threshold is 0.02 and number of clusters is 5\n",
      "Silhouette Coefficient is 0.406346367265675 when branching factor is 70 threshold is 0.02 and number of clusters is 6\n",
      "Silhouette Coefficient is 0.36896049343809106 when branching factor is 70 threshold is 0.02 and number of clusters is 7\n",
      "Silhouette Coefficient is 0.37361434253293896 when branching factor is 70 threshold is 0.02 and number of clusters is 8\n",
      "Silhouette Coefficient is 0.34710446754858076 when branching factor is 70 threshold is 0.02 and number of clusters is 9\n",
      "Silhouette Coefficient is 0.350656524031992 when branching factor is 70 threshold is 0.02 and number of clusters is 10\n",
      "Silhouette Coefficient is 0.45608520752780934 when branching factor is 70 threshold is 0.03 and number of clusters is 2\n",
      "Silhouette Coefficient is 0.42199225781332855 when branching factor is 70 threshold is 0.03 and number of clusters is 3\n",
      "Silhouette Coefficient is 0.3667164758075104 when branching factor is 70 threshold is 0.03 and number of clusters is 4\n",
      "Silhouette Coefficient is 0.4082583919010142 when branching factor is 70 threshold is 0.03 and number of clusters is 5\n",
      "Silhouette Coefficient is 0.3971949083738769 when branching factor is 70 threshold is 0.03 and number of clusters is 6\n",
      "Silhouette Coefficient is 0.3969159935988494 when branching factor is 70 threshold is 0.03 and number of clusters is 7\n",
      "Silhouette Coefficient is 0.37811541190617093 when branching factor is 70 threshold is 0.03 and number of clusters is 8\n",
      "Silhouette Coefficient is 0.3090009713332128 when branching factor is 70 threshold is 0.03 and number of clusters is 9\n",
      "Silhouette Coefficient is 0.29523390868047844 when branching factor is 70 threshold is 0.03 and number of clusters is 10\n",
      "Silhouette Coefficient is 0.44754622088084667 when branching factor is 70 threshold is 0.04 and number of clusters is 2\n",
      "Silhouette Coefficient is 0.3955317358465286 when branching factor is 70 threshold is 0.04 and number of clusters is 3\n",
      "Silhouette Coefficient is 0.43685876033135 when branching factor is 70 threshold is 0.04 and number of clusters is 4\n",
      "Silhouette Coefficient is 0.406320860462869 when branching factor is 70 threshold is 0.04 and number of clusters is 5\n",
      "Silhouette Coefficient is 0.3994417218295558 when branching factor is 70 threshold is 0.04 and number of clusters is 6\n",
      "Silhouette Coefficient is 0.3904272985820553 when branching factor is 70 threshold is 0.04 and number of clusters is 7\n",
      "Silhouette Coefficient is 0.3816898557100492 when branching factor is 70 threshold is 0.04 and number of clusters is 8\n",
      "Silhouette Coefficient is 0.38920138768532886 when branching factor is 70 threshold is 0.04 and number of clusters is 9\n",
      "Silhouette Coefficient is 0.3897871976448668 when branching factor is 70 threshold is 0.04 and number of clusters is 10\n",
      "Silhouette Coefficient is 0.4629451290370877 when branching factor is 70 threshold is 0.05 and number of clusters is 2\n",
      "Silhouette Coefficient is 0.45415644899802265 when branching factor is 70 threshold is 0.05 and number of clusters is 3\n",
      "Silhouette Coefficient is 0.3893156346711082 when branching factor is 70 threshold is 0.05 and number of clusters is 4\n",
      "Silhouette Coefficient is 0.3682537991036108 when branching factor is 70 threshold is 0.05 and number of clusters is 5\n",
      "Silhouette Coefficient is 0.3953346525267779 when branching factor is 70 threshold is 0.05 and number of clusters is 6\n",
      "Silhouette Coefficient is 0.3966425677270879 when branching factor is 70 threshold is 0.05 and number of clusters is 7\n",
      "Silhouette Coefficient is 0.3854425845578105 when branching factor is 70 threshold is 0.05 and number of clusters is 8\n",
      "Silhouette Coefficient is 0.38825379872240584 when branching factor is 70 threshold is 0.05 and number of clusters is 9\n",
      "Silhouette Coefficient is 0.3777984539668589 when branching factor is 70 threshold is 0.05 and number of clusters is 10\n",
      "Silhouette Coefficient is 0.4632403532782045 when branching factor is 70 threshold is 0.06 and number of clusters is 2\n",
      "Silhouette Coefficient is 0.46350183349528423 when branching factor is 70 threshold is 0.06 and number of clusters is 3\n",
      "Silhouette Coefficient is 0.4178908518293792 when branching factor is 70 threshold is 0.06 and number of clusters is 4\n",
      "Silhouette Coefficient is 0.4025596344347106 when branching factor is 70 threshold is 0.06 and number of clusters is 5\n",
      "Silhouette Coefficient is 0.4231567372472907 when branching factor is 70 threshold is 0.06 and number of clusters is 6\n",
      "Silhouette Coefficient is 0.38099518906289626 when branching factor is 70 threshold is 0.06 and number of clusters is 7\n",
      "Silhouette Coefficient is 0.37495327659221117 when branching factor is 70 threshold is 0.06 and number of clusters is 8\n",
      "Silhouette Coefficient is 0.3603531770355344 when branching factor is 70 threshold is 0.06 and number of clusters is 9\n",
      "Silhouette Coefficient is 0.3503495090102198 when branching factor is 70 threshold is 0.06 and number of clusters is 10\n",
      "Silhouette Coefficient is 0.4354244057083427 when branching factor is 70 threshold is 0.07 and number of clusters is 2\n",
      "Silhouette Coefficient is 0.395551713159436 when branching factor is 70 threshold is 0.07 and number of clusters is 3\n",
      "Silhouette Coefficient is 0.4272775916988282 when branching factor is 70 threshold is 0.07 and number of clusters is 4\n",
      "Silhouette Coefficient is 0.4064603002551571 when branching factor is 70 threshold is 0.07 and number of clusters is 5\n",
      "Silhouette Coefficient is 0.3991825008175284 when branching factor is 70 threshold is 0.07 and number of clusters is 6\n",
      "Silhouette Coefficient is 0.36317051397740824 when branching factor is 70 threshold is 0.07 and number of clusters is 7\n",
      "Silhouette Coefficient is 0.33686349261573756 when branching factor is 70 threshold is 0.07 and number of clusters is 8\n",
      "Silhouette Coefficient is 0.3508658744226807 when branching factor is 70 threshold is 0.07 and number of clusters is 9\n",
      "Silhouette Coefficient is 0.3530852554631013 when branching factor is 70 threshold is 0.07 and number of clusters is 10\n",
      "Silhouette Coefficient is 0.4626014112571523 when branching factor is 70 threshold is 0.08 and number of clusters is 2\n",
      "Silhouette Coefficient is 0.47120965928174213 when branching factor is 70 threshold is 0.08 and number of clusters is 3\n",
      "Silhouette Coefficient is 0.4351445273542042 when branching factor is 70 threshold is 0.08 and number of clusters is 4\n",
      "Silhouette Coefficient is 0.41376588396685116 when branching factor is 70 threshold is 0.08 and number of clusters is 5\n",
      "Silhouette Coefficient is 0.41903002505519865 when branching factor is 70 threshold is 0.08 and number of clusters is 6\n",
      "Silhouette Coefficient is 0.4126422004468785 when branching factor is 70 threshold is 0.08 and number of clusters is 7\n"
     ]
    },
    {
     "name": "stdout",
     "output_type": "stream",
     "text": [
      "Silhouette Coefficient is 0.38963912698212283 when branching factor is 70 threshold is 0.08 and number of clusters is 8\n",
      "Silhouette Coefficient is 0.3537348675853838 when branching factor is 70 threshold is 0.08 and number of clusters is 9\n",
      "Silhouette Coefficient is 0.33921664132375 when branching factor is 70 threshold is 0.08 and number of clusters is 10\n",
      "Silhouette Coefficient is 0.46315149917964343 when branching factor is 70 threshold is 0.09 and number of clusters is 2\n",
      "Silhouette Coefficient is 0.4657468895395402 when branching factor is 70 threshold is 0.09 and number of clusters is 3\n",
      "Silhouette Coefficient is 0.4120917587595982 when branching factor is 70 threshold is 0.09 and number of clusters is 4\n",
      "Silhouette Coefficient is 0.3760042333338133 when branching factor is 70 threshold is 0.09 and number of clusters is 5\n",
      "Silhouette Coefficient is 0.38779805323082045 when branching factor is 70 threshold is 0.09 and number of clusters is 6\n",
      "Silhouette Coefficient is 0.3342460700314448 when branching factor is 70 threshold is 0.09 and number of clusters is 7\n",
      "Silhouette Coefficient is 0.3272529932618353 when branching factor is 70 threshold is 0.09 and number of clusters is 8\n",
      "Silhouette Coefficient is 0.3327654033530485 when branching factor is 70 threshold is 0.09 and number of clusters is 9\n",
      "Silhouette Coefficient is 0.39960305609757724 when branching factor is 70 threshold is 0.09 and number of clusters is 10\n",
      "Silhouette Coefficient is 0.4652507777463853 when branching factor is 70 threshold is 0.1 and number of clusters is 2\n",
      "Silhouette Coefficient is 0.4791155085454977 when branching factor is 70 threshold is 0.1 and number of clusters is 3\n",
      "Silhouette Coefficient is 0.44567563736843013 when branching factor is 70 threshold is 0.1 and number of clusters is 4\n",
      "Silhouette Coefficient is 0.42301766403508645 when branching factor is 70 threshold is 0.1 and number of clusters is 5\n",
      "Silhouette Coefficient is 0.3869289520893859 when branching factor is 70 threshold is 0.1 and number of clusters is 6\n",
      "Silhouette Coefficient is 0.41166105335309866 when branching factor is 70 threshold is 0.1 and number of clusters is 7\n",
      "Silhouette Coefficient is 0.41313176613178515 when branching factor is 70 threshold is 0.1 and number of clusters is 8\n",
      "Silhouette Coefficient is 0.41313176613178515 when branching factor is 70 threshold is 0.1 and number of clusters is 9\n",
      "Silhouette Coefficient is 0.41313176613178515 when branching factor is 70 threshold is 0.1 and number of clusters is 10\n",
      "Silhouette Coefficient is 0.46285096708186907 when branching factor is 80 threshold is 0.01 and number of clusters is 2\n",
      "Silhouette Coefficient is 0.4667696678569588 when branching factor is 80 threshold is 0.01 and number of clusters is 3\n",
      "Silhouette Coefficient is 0.42219551465147015 when branching factor is 80 threshold is 0.01 and number of clusters is 4\n",
      "Silhouette Coefficient is 0.42027617893127756 when branching factor is 80 threshold is 0.01 and number of clusters is 5\n"
     ]
    },
    {
     "name": "stderr",
     "output_type": "stream",
     "text": [
      "C:\\Users\\Sandeep\\anaconda3\\lib\\site-packages\\sklearn\\cluster\\_birch.py:717: ConvergenceWarning: Number of subclusters found (8) by BIRCH is less than (9). Decrease the threshold.\n",
      "  warnings.warn(\n",
      "C:\\Users\\Sandeep\\anaconda3\\lib\\site-packages\\sklearn\\cluster\\_birch.py:717: ConvergenceWarning: Number of subclusters found (8) by BIRCH is less than (10). Decrease the threshold.\n",
      "  warnings.warn(\n"
     ]
    },
    {
     "name": "stdout",
     "output_type": "stream",
     "text": [
      "Silhouette Coefficient is 0.39116328308145926 when branching factor is 80 threshold is 0.01 and number of clusters is 6\n",
      "Silhouette Coefficient is 0.3481949573787496 when branching factor is 80 threshold is 0.01 and number of clusters is 7\n",
      "Silhouette Coefficient is 0.34047801783602083 when branching factor is 80 threshold is 0.01 and number of clusters is 8\n",
      "Silhouette Coefficient is 0.3420021131992055 when branching factor is 80 threshold is 0.01 and number of clusters is 9\n",
      "Silhouette Coefficient is 0.34258592641708696 when branching factor is 80 threshold is 0.01 and number of clusters is 10\n",
      "Silhouette Coefficient is 0.4622979784148432 when branching factor is 80 threshold is 0.02 and number of clusters is 2\n",
      "Silhouette Coefficient is 0.48101825086460204 when branching factor is 80 threshold is 0.02 and number of clusters is 3\n",
      "Silhouette Coefficient is 0.40637814833760283 when branching factor is 80 threshold is 0.02 and number of clusters is 4\n",
      "Silhouette Coefficient is 0.35682585914505244 when branching factor is 80 threshold is 0.02 and number of clusters is 5\n",
      "Silhouette Coefficient is 0.3336252120652242 when branching factor is 80 threshold is 0.02 and number of clusters is 6\n",
      "Silhouette Coefficient is 0.32060472599625206 when branching factor is 80 threshold is 0.02 and number of clusters is 7\n",
      "Silhouette Coefficient is 0.2973128842952954 when branching factor is 80 threshold is 0.02 and number of clusters is 8\n",
      "Silhouette Coefficient is 0.29930064543035917 when branching factor is 80 threshold is 0.02 and number of clusters is 9\n",
      "Silhouette Coefficient is 0.30341881747691907 when branching factor is 80 threshold is 0.02 and number of clusters is 10\n",
      "Silhouette Coefficient is 0.45608520752780934 when branching factor is 80 threshold is 0.03 and number of clusters is 2\n",
      "Silhouette Coefficient is 0.42199225781332855 when branching factor is 80 threshold is 0.03 and number of clusters is 3\n",
      "Silhouette Coefficient is 0.3667164758075104 when branching factor is 80 threshold is 0.03 and number of clusters is 4\n",
      "Silhouette Coefficient is 0.4082583919010142 when branching factor is 80 threshold is 0.03 and number of clusters is 5\n",
      "Silhouette Coefficient is 0.3971949083738769 when branching factor is 80 threshold is 0.03 and number of clusters is 6\n",
      "Silhouette Coefficient is 0.3969159935988494 when branching factor is 80 threshold is 0.03 and number of clusters is 7\n",
      "Silhouette Coefficient is 0.37811541190617093 when branching factor is 80 threshold is 0.03 and number of clusters is 8\n",
      "Silhouette Coefficient is 0.3090009713332128 when branching factor is 80 threshold is 0.03 and number of clusters is 9\n",
      "Silhouette Coefficient is 0.29523390868047844 when branching factor is 80 threshold is 0.03 and number of clusters is 10\n",
      "Silhouette Coefficient is 0.44754622088084667 when branching factor is 80 threshold is 0.04 and number of clusters is 2\n",
      "Silhouette Coefficient is 0.3955317358465286 when branching factor is 80 threshold is 0.04 and number of clusters is 3\n",
      "Silhouette Coefficient is 0.43685876033135 when branching factor is 80 threshold is 0.04 and number of clusters is 4\n",
      "Silhouette Coefficient is 0.406320860462869 when branching factor is 80 threshold is 0.04 and number of clusters is 5\n",
      "Silhouette Coefficient is 0.3994417218295558 when branching factor is 80 threshold is 0.04 and number of clusters is 6\n",
      "Silhouette Coefficient is 0.3904272985820553 when branching factor is 80 threshold is 0.04 and number of clusters is 7\n",
      "Silhouette Coefficient is 0.3816898557100492 when branching factor is 80 threshold is 0.04 and number of clusters is 8\n",
      "Silhouette Coefficient is 0.38920138768532886 when branching factor is 80 threshold is 0.04 and number of clusters is 9\n",
      "Silhouette Coefficient is 0.3897871976448668 when branching factor is 80 threshold is 0.04 and number of clusters is 10\n",
      "Silhouette Coefficient is 0.4629451290370877 when branching factor is 80 threshold is 0.05 and number of clusters is 2\n",
      "Silhouette Coefficient is 0.45415644899802265 when branching factor is 80 threshold is 0.05 and number of clusters is 3\n",
      "Silhouette Coefficient is 0.3893156346711082 when branching factor is 80 threshold is 0.05 and number of clusters is 4\n",
      "Silhouette Coefficient is 0.3682537991036108 when branching factor is 80 threshold is 0.05 and number of clusters is 5\n",
      "Silhouette Coefficient is 0.3953346525267779 when branching factor is 80 threshold is 0.05 and number of clusters is 6\n",
      "Silhouette Coefficient is 0.3966425677270879 when branching factor is 80 threshold is 0.05 and number of clusters is 7\n",
      "Silhouette Coefficient is 0.3854425845578105 when branching factor is 80 threshold is 0.05 and number of clusters is 8\n",
      "Silhouette Coefficient is 0.38825379872240584 when branching factor is 80 threshold is 0.05 and number of clusters is 9\n",
      "Silhouette Coefficient is 0.3777984539668589 when branching factor is 80 threshold is 0.05 and number of clusters is 10\n",
      "Silhouette Coefficient is 0.4632403532782045 when branching factor is 80 threshold is 0.06 and number of clusters is 2\n",
      "Silhouette Coefficient is 0.46350183349528423 when branching factor is 80 threshold is 0.06 and number of clusters is 3\n",
      "Silhouette Coefficient is 0.4178908518293792 when branching factor is 80 threshold is 0.06 and number of clusters is 4\n",
      "Silhouette Coefficient is 0.4025596344347106 when branching factor is 80 threshold is 0.06 and number of clusters is 5\n",
      "Silhouette Coefficient is 0.4231567372472907 when branching factor is 80 threshold is 0.06 and number of clusters is 6\n",
      "Silhouette Coefficient is 0.38099518906289626 when branching factor is 80 threshold is 0.06 and number of clusters is 7\n",
      "Silhouette Coefficient is 0.37495327659221117 when branching factor is 80 threshold is 0.06 and number of clusters is 8\n",
      "Silhouette Coefficient is 0.3603531770355344 when branching factor is 80 threshold is 0.06 and number of clusters is 9\n",
      "Silhouette Coefficient is 0.3503495090102198 when branching factor is 80 threshold is 0.06 and number of clusters is 10\n",
      "Silhouette Coefficient is 0.4354244057083427 when branching factor is 80 threshold is 0.07 and number of clusters is 2\n",
      "Silhouette Coefficient is 0.395551713159436 when branching factor is 80 threshold is 0.07 and number of clusters is 3\n",
      "Silhouette Coefficient is 0.4272775916988282 when branching factor is 80 threshold is 0.07 and number of clusters is 4\n",
      "Silhouette Coefficient is 0.4064603002551571 when branching factor is 80 threshold is 0.07 and number of clusters is 5\n",
      "Silhouette Coefficient is 0.3991825008175284 when branching factor is 80 threshold is 0.07 and number of clusters is 6\n",
      "Silhouette Coefficient is 0.36317051397740824 when branching factor is 80 threshold is 0.07 and number of clusters is 7\n",
      "Silhouette Coefficient is 0.33686349261573756 when branching factor is 80 threshold is 0.07 and number of clusters is 8\n",
      "Silhouette Coefficient is 0.3508658744226807 when branching factor is 80 threshold is 0.07 and number of clusters is 9\n",
      "Silhouette Coefficient is 0.3530852554631013 when branching factor is 80 threshold is 0.07 and number of clusters is 10\n",
      "Silhouette Coefficient is 0.4626014112571523 when branching factor is 80 threshold is 0.08 and number of clusters is 2\n",
      "Silhouette Coefficient is 0.47120965928174213 when branching factor is 80 threshold is 0.08 and number of clusters is 3\n",
      "Silhouette Coefficient is 0.4351445273542042 when branching factor is 80 threshold is 0.08 and number of clusters is 4\n",
      "Silhouette Coefficient is 0.41376588396685116 when branching factor is 80 threshold is 0.08 and number of clusters is 5\n",
      "Silhouette Coefficient is 0.41903002505519865 when branching factor is 80 threshold is 0.08 and number of clusters is 6\n",
      "Silhouette Coefficient is 0.4126422004468785 when branching factor is 80 threshold is 0.08 and number of clusters is 7\n",
      "Silhouette Coefficient is 0.38963912698212283 when branching factor is 80 threshold is 0.08 and number of clusters is 8\n",
      "Silhouette Coefficient is 0.3537348675853838 when branching factor is 80 threshold is 0.08 and number of clusters is 9\n",
      "Silhouette Coefficient is 0.33921664132375 when branching factor is 80 threshold is 0.08 and number of clusters is 10\n",
      "Silhouette Coefficient is 0.46315149917964343 when branching factor is 80 threshold is 0.09 and number of clusters is 2\n",
      "Silhouette Coefficient is 0.4657468895395402 when branching factor is 80 threshold is 0.09 and number of clusters is 3\n",
      "Silhouette Coefficient is 0.4120917587595982 when branching factor is 80 threshold is 0.09 and number of clusters is 4\n"
     ]
    },
    {
     "name": "stdout",
     "output_type": "stream",
     "text": [
      "Silhouette Coefficient is 0.3760042333338133 when branching factor is 80 threshold is 0.09 and number of clusters is 5\n",
      "Silhouette Coefficient is 0.38779805323082045 when branching factor is 80 threshold is 0.09 and number of clusters is 6\n",
      "Silhouette Coefficient is 0.3342460700314448 when branching factor is 80 threshold is 0.09 and number of clusters is 7\n",
      "Silhouette Coefficient is 0.3272529932618353 when branching factor is 80 threshold is 0.09 and number of clusters is 8\n",
      "Silhouette Coefficient is 0.3327654033530485 when branching factor is 80 threshold is 0.09 and number of clusters is 9\n",
      "Silhouette Coefficient is 0.39960305609757724 when branching factor is 80 threshold is 0.09 and number of clusters is 10\n",
      "Silhouette Coefficient is 0.4652507777463853 when branching factor is 80 threshold is 0.1 and number of clusters is 2\n",
      "Silhouette Coefficient is 0.4791155085454977 when branching factor is 80 threshold is 0.1 and number of clusters is 3\n",
      "Silhouette Coefficient is 0.44567563736843013 when branching factor is 80 threshold is 0.1 and number of clusters is 4\n",
      "Silhouette Coefficient is 0.42301766403508645 when branching factor is 80 threshold is 0.1 and number of clusters is 5\n",
      "Silhouette Coefficient is 0.3869289520893859 when branching factor is 80 threshold is 0.1 and number of clusters is 6\n",
      "Silhouette Coefficient is 0.41166105335309866 when branching factor is 80 threshold is 0.1 and number of clusters is 7\n",
      "Silhouette Coefficient is 0.41313176613178515 when branching factor is 80 threshold is 0.1 and number of clusters is 8\n",
      "Silhouette Coefficient is 0.41313176613178515 when branching factor is 80 threshold is 0.1 and number of clusters is 9\n",
      "Silhouette Coefficient is 0.41313176613178515 when branching factor is 80 threshold is 0.1 and number of clusters is 10\n",
      "Silhouette Coefficient is 0.46285096708186907 when branching factor is 90 threshold is 0.01 and number of clusters is 2\n",
      "Silhouette Coefficient is 0.4667696678569588 when branching factor is 90 threshold is 0.01 and number of clusters is 3\n",
      "Silhouette Coefficient is 0.42754620116330455 when branching factor is 90 threshold is 0.01 and number of clusters is 4\n"
     ]
    },
    {
     "name": "stderr",
     "output_type": "stream",
     "text": [
      "C:\\Users\\Sandeep\\anaconda3\\lib\\site-packages\\sklearn\\cluster\\_birch.py:717: ConvergenceWarning: Number of subclusters found (8) by BIRCH is less than (9). Decrease the threshold.\n",
      "  warnings.warn(\n",
      "C:\\Users\\Sandeep\\anaconda3\\lib\\site-packages\\sklearn\\cluster\\_birch.py:717: ConvergenceWarning: Number of subclusters found (8) by BIRCH is less than (10). Decrease the threshold.\n",
      "  warnings.warn(\n"
     ]
    },
    {
     "name": "stdout",
     "output_type": "stream",
     "text": [
      "Silhouette Coefficient is 0.4211149091147486 when branching factor is 90 threshold is 0.01 and number of clusters is 5\n",
      "Silhouette Coefficient is 0.38487952817486976 when branching factor is 90 threshold is 0.01 and number of clusters is 6\n",
      "Silhouette Coefficient is 0.3646143693068651 when branching factor is 90 threshold is 0.01 and number of clusters is 7\n",
      "Silhouette Coefficient is 0.36386836548587237 when branching factor is 90 threshold is 0.01 and number of clusters is 8\n",
      "Silhouette Coefficient is 0.3673780345228224 when branching factor is 90 threshold is 0.01 and number of clusters is 9\n",
      "Silhouette Coefficient is 0.348970603692528 when branching factor is 90 threshold is 0.01 and number of clusters is 10\n",
      "Silhouette Coefficient is 0.4406732358425273 when branching factor is 90 threshold is 0.02 and number of clusters is 2\n",
      "Silhouette Coefficient is 0.40070948916787386 when branching factor is 90 threshold is 0.02 and number of clusters is 3\n",
      "Silhouette Coefficient is 0.39984290000997497 when branching factor is 90 threshold is 0.02 and number of clusters is 4\n",
      "Silhouette Coefficient is 0.3886217403599306 when branching factor is 90 threshold is 0.02 and number of clusters is 5\n",
      "Silhouette Coefficient is 0.3739976685830044 when branching factor is 90 threshold is 0.02 and number of clusters is 6\n",
      "Silhouette Coefficient is 0.359927359692402 when branching factor is 90 threshold is 0.02 and number of clusters is 7\n",
      "Silhouette Coefficient is 0.3116512977473368 when branching factor is 90 threshold is 0.02 and number of clusters is 8\n",
      "Silhouette Coefficient is 0.31403791572924805 when branching factor is 90 threshold is 0.02 and number of clusters is 9\n",
      "Silhouette Coefficient is 0.322240474361831 when branching factor is 90 threshold is 0.02 and number of clusters is 10\n",
      "Silhouette Coefficient is 0.45608520752780934 when branching factor is 90 threshold is 0.03 and number of clusters is 2\n",
      "Silhouette Coefficient is 0.42199225781332855 when branching factor is 90 threshold is 0.03 and number of clusters is 3\n",
      "Silhouette Coefficient is 0.3667164758075104 when branching factor is 90 threshold is 0.03 and number of clusters is 4\n",
      "Silhouette Coefficient is 0.4082583919010142 when branching factor is 90 threshold is 0.03 and number of clusters is 5\n",
      "Silhouette Coefficient is 0.3971949083738769 when branching factor is 90 threshold is 0.03 and number of clusters is 6\n",
      "Silhouette Coefficient is 0.3969159935988494 when branching factor is 90 threshold is 0.03 and number of clusters is 7\n",
      "Silhouette Coefficient is 0.37811541190617093 when branching factor is 90 threshold is 0.03 and number of clusters is 8\n",
      "Silhouette Coefficient is 0.3090009713332128 when branching factor is 90 threshold is 0.03 and number of clusters is 9\n",
      "Silhouette Coefficient is 0.29523390868047844 when branching factor is 90 threshold is 0.03 and number of clusters is 10\n",
      "Silhouette Coefficient is 0.44754622088084667 when branching factor is 90 threshold is 0.04 and number of clusters is 2\n",
      "Silhouette Coefficient is 0.3955317358465286 when branching factor is 90 threshold is 0.04 and number of clusters is 3\n",
      "Silhouette Coefficient is 0.43685876033135 when branching factor is 90 threshold is 0.04 and number of clusters is 4\n",
      "Silhouette Coefficient is 0.406320860462869 when branching factor is 90 threshold is 0.04 and number of clusters is 5\n",
      "Silhouette Coefficient is 0.3994417218295558 when branching factor is 90 threshold is 0.04 and number of clusters is 6\n",
      "Silhouette Coefficient is 0.3904272985820553 when branching factor is 90 threshold is 0.04 and number of clusters is 7\n",
      "Silhouette Coefficient is 0.3816898557100492 when branching factor is 90 threshold is 0.04 and number of clusters is 8\n",
      "Silhouette Coefficient is 0.38920138768532886 when branching factor is 90 threshold is 0.04 and number of clusters is 9\n",
      "Silhouette Coefficient is 0.3897871976448668 when branching factor is 90 threshold is 0.04 and number of clusters is 10\n",
      "Silhouette Coefficient is 0.4629451290370877 when branching factor is 90 threshold is 0.05 and number of clusters is 2\n",
      "Silhouette Coefficient is 0.45415644899802265 when branching factor is 90 threshold is 0.05 and number of clusters is 3\n",
      "Silhouette Coefficient is 0.3893156346711082 when branching factor is 90 threshold is 0.05 and number of clusters is 4\n",
      "Silhouette Coefficient is 0.3682537991036108 when branching factor is 90 threshold is 0.05 and number of clusters is 5\n",
      "Silhouette Coefficient is 0.3953346525267779 when branching factor is 90 threshold is 0.05 and number of clusters is 6\n",
      "Silhouette Coefficient is 0.3966425677270879 when branching factor is 90 threshold is 0.05 and number of clusters is 7\n",
      "Silhouette Coefficient is 0.3854425845578105 when branching factor is 90 threshold is 0.05 and number of clusters is 8\n",
      "Silhouette Coefficient is 0.38825379872240584 when branching factor is 90 threshold is 0.05 and number of clusters is 9\n",
      "Silhouette Coefficient is 0.3777984539668589 when branching factor is 90 threshold is 0.05 and number of clusters is 10\n",
      "Silhouette Coefficient is 0.4632403532782045 when branching factor is 90 threshold is 0.06 and number of clusters is 2\n",
      "Silhouette Coefficient is 0.46350183349528423 when branching factor is 90 threshold is 0.06 and number of clusters is 3\n",
      "Silhouette Coefficient is 0.4178908518293792 when branching factor is 90 threshold is 0.06 and number of clusters is 4\n",
      "Silhouette Coefficient is 0.4025596344347106 when branching factor is 90 threshold is 0.06 and number of clusters is 5\n",
      "Silhouette Coefficient is 0.4231567372472907 when branching factor is 90 threshold is 0.06 and number of clusters is 6\n",
      "Silhouette Coefficient is 0.38099518906289626 when branching factor is 90 threshold is 0.06 and number of clusters is 7\n",
      "Silhouette Coefficient is 0.37495327659221117 when branching factor is 90 threshold is 0.06 and number of clusters is 8\n",
      "Silhouette Coefficient is 0.3603531770355344 when branching factor is 90 threshold is 0.06 and number of clusters is 9\n",
      "Silhouette Coefficient is 0.3503495090102198 when branching factor is 90 threshold is 0.06 and number of clusters is 10\n",
      "Silhouette Coefficient is 0.4354244057083427 when branching factor is 90 threshold is 0.07 and number of clusters is 2\n",
      "Silhouette Coefficient is 0.395551713159436 when branching factor is 90 threshold is 0.07 and number of clusters is 3\n",
      "Silhouette Coefficient is 0.4272775916988282 when branching factor is 90 threshold is 0.07 and number of clusters is 4\n",
      "Silhouette Coefficient is 0.4064603002551571 when branching factor is 90 threshold is 0.07 and number of clusters is 5\n",
      "Silhouette Coefficient is 0.3991825008175284 when branching factor is 90 threshold is 0.07 and number of clusters is 6\n",
      "Silhouette Coefficient is 0.36317051397740824 when branching factor is 90 threshold is 0.07 and number of clusters is 7\n",
      "Silhouette Coefficient is 0.33686349261573756 when branching factor is 90 threshold is 0.07 and number of clusters is 8\n",
      "Silhouette Coefficient is 0.3508658744226807 when branching factor is 90 threshold is 0.07 and number of clusters is 9\n",
      "Silhouette Coefficient is 0.3530852554631013 when branching factor is 90 threshold is 0.07 and number of clusters is 10\n",
      "Silhouette Coefficient is 0.4626014112571523 when branching factor is 90 threshold is 0.08 and number of clusters is 2\n",
      "Silhouette Coefficient is 0.47120965928174213 when branching factor is 90 threshold is 0.08 and number of clusters is 3\n",
      "Silhouette Coefficient is 0.4351445273542042 when branching factor is 90 threshold is 0.08 and number of clusters is 4\n",
      "Silhouette Coefficient is 0.41376588396685116 when branching factor is 90 threshold is 0.08 and number of clusters is 5\n",
      "Silhouette Coefficient is 0.41903002505519865 when branching factor is 90 threshold is 0.08 and number of clusters is 6\n",
      "Silhouette Coefficient is 0.4126422004468785 when branching factor is 90 threshold is 0.08 and number of clusters is 7\n",
      "Silhouette Coefficient is 0.38963912698212283 when branching factor is 90 threshold is 0.08 and number of clusters is 8\n",
      "Silhouette Coefficient is 0.3537348675853838 when branching factor is 90 threshold is 0.08 and number of clusters is 9\n",
      "Silhouette Coefficient is 0.33921664132375 when branching factor is 90 threshold is 0.08 and number of clusters is 10\n",
      "Silhouette Coefficient is 0.46315149917964343 when branching factor is 90 threshold is 0.09 and number of clusters is 2\n",
      "Silhouette Coefficient is 0.4657468895395402 when branching factor is 90 threshold is 0.09 and number of clusters is 3\n",
      "Silhouette Coefficient is 0.4120917587595982 when branching factor is 90 threshold is 0.09 and number of clusters is 4\n"
     ]
    },
    {
     "name": "stdout",
     "output_type": "stream",
     "text": [
      "Silhouette Coefficient is 0.3760042333338133 when branching factor is 90 threshold is 0.09 and number of clusters is 5\n",
      "Silhouette Coefficient is 0.38779805323082045 when branching factor is 90 threshold is 0.09 and number of clusters is 6\n",
      "Silhouette Coefficient is 0.3342460700314448 when branching factor is 90 threshold is 0.09 and number of clusters is 7\n",
      "Silhouette Coefficient is 0.3272529932618353 when branching factor is 90 threshold is 0.09 and number of clusters is 8\n",
      "Silhouette Coefficient is 0.3327654033530485 when branching factor is 90 threshold is 0.09 and number of clusters is 9\n",
      "Silhouette Coefficient is 0.39960305609757724 when branching factor is 90 threshold is 0.09 and number of clusters is 10\n",
      "Silhouette Coefficient is 0.4652507777463853 when branching factor is 90 threshold is 0.1 and number of clusters is 2\n",
      "Silhouette Coefficient is 0.4791155085454977 when branching factor is 90 threshold is 0.1 and number of clusters is 3\n",
      "Silhouette Coefficient is 0.44567563736843013 when branching factor is 90 threshold is 0.1 and number of clusters is 4\n",
      "Silhouette Coefficient is 0.42301766403508645 when branching factor is 90 threshold is 0.1 and number of clusters is 5\n",
      "Silhouette Coefficient is 0.3869289520893859 when branching factor is 90 threshold is 0.1 and number of clusters is 6\n",
      "Silhouette Coefficient is 0.41166105335309866 when branching factor is 90 threshold is 0.1 and number of clusters is 7\n",
      "Silhouette Coefficient is 0.41313176613178515 when branching factor is 90 threshold is 0.1 and number of clusters is 8\n",
      "Silhouette Coefficient is 0.41313176613178515 when branching factor is 90 threshold is 0.1 and number of clusters is 9\n",
      "Silhouette Coefficient is 0.41313176613178515 when branching factor is 90 threshold is 0.1 and number of clusters is 10\n",
      "Silhouette Coefficient is 0.46285096708186907 when branching factor is 100 threshold is 0.01 and number of clusters is 2\n",
      "Silhouette Coefficient is 0.4667696678569588 when branching factor is 100 threshold is 0.01 and number of clusters is 3\n"
     ]
    },
    {
     "name": "stderr",
     "output_type": "stream",
     "text": [
      "C:\\Users\\Sandeep\\anaconda3\\lib\\site-packages\\sklearn\\cluster\\_birch.py:717: ConvergenceWarning: Number of subclusters found (8) by BIRCH is less than (9). Decrease the threshold.\n",
      "  warnings.warn(\n",
      "C:\\Users\\Sandeep\\anaconda3\\lib\\site-packages\\sklearn\\cluster\\_birch.py:717: ConvergenceWarning: Number of subclusters found (8) by BIRCH is less than (10). Decrease the threshold.\n",
      "  warnings.warn(\n"
     ]
    },
    {
     "name": "stdout",
     "output_type": "stream",
     "text": [
      "Silhouette Coefficient is 0.4250172752724895 when branching factor is 100 threshold is 0.01 and number of clusters is 4\n",
      "Silhouette Coefficient is 0.43718223838092696 when branching factor is 100 threshold is 0.01 and number of clusters is 5\n",
      "Silhouette Coefficient is 0.39943725276305403 when branching factor is 100 threshold is 0.01 and number of clusters is 6\n",
      "Silhouette Coefficient is 0.38675388470712424 when branching factor is 100 threshold is 0.01 and number of clusters is 7\n",
      "Silhouette Coefficient is 0.35596621951798973 when branching factor is 100 threshold is 0.01 and number of clusters is 8\n",
      "Silhouette Coefficient is 0.3699704049317307 when branching factor is 100 threshold is 0.01 and number of clusters is 9\n",
      "Silhouette Coefficient is 0.37363211489275083 when branching factor is 100 threshold is 0.01 and number of clusters is 10\n",
      "Silhouette Coefficient is 0.4406732358425273 when branching factor is 100 threshold is 0.02 and number of clusters is 2\n",
      "Silhouette Coefficient is 0.40070948916787386 when branching factor is 100 threshold is 0.02 and number of clusters is 3\n",
      "Silhouette Coefficient is 0.39984290000997497 when branching factor is 100 threshold is 0.02 and number of clusters is 4\n",
      "Silhouette Coefficient is 0.3886217403599306 when branching factor is 100 threshold is 0.02 and number of clusters is 5\n",
      "Silhouette Coefficient is 0.3739976685830044 when branching factor is 100 threshold is 0.02 and number of clusters is 6\n",
      "Silhouette Coefficient is 0.359927359692402 when branching factor is 100 threshold is 0.02 and number of clusters is 7\n",
      "Silhouette Coefficient is 0.31106457893545436 when branching factor is 100 threshold is 0.02 and number of clusters is 8\n",
      "Silhouette Coefficient is 0.31343651777513093 when branching factor is 100 threshold is 0.02 and number of clusters is 9\n",
      "Silhouette Coefficient is 0.32148400816253314 when branching factor is 100 threshold is 0.02 and number of clusters is 10\n",
      "Silhouette Coefficient is 0.45608520752780934 when branching factor is 100 threshold is 0.03 and number of clusters is 2\n",
      "Silhouette Coefficient is 0.42199225781332855 when branching factor is 100 threshold is 0.03 and number of clusters is 3\n",
      "Silhouette Coefficient is 0.3667164758075104 when branching factor is 100 threshold is 0.03 and number of clusters is 4\n",
      "Silhouette Coefficient is 0.4082583919010142 when branching factor is 100 threshold is 0.03 and number of clusters is 5\n",
      "Silhouette Coefficient is 0.3971949083738769 when branching factor is 100 threshold is 0.03 and number of clusters is 6\n",
      "Silhouette Coefficient is 0.3969159935988494 when branching factor is 100 threshold is 0.03 and number of clusters is 7\n",
      "Silhouette Coefficient is 0.37811541190617093 when branching factor is 100 threshold is 0.03 and number of clusters is 8\n",
      "Silhouette Coefficient is 0.3090009713332128 when branching factor is 100 threshold is 0.03 and number of clusters is 9\n",
      "Silhouette Coefficient is 0.29523390868047844 when branching factor is 100 threshold is 0.03 and number of clusters is 10\n",
      "Silhouette Coefficient is 0.44754622088084667 when branching factor is 100 threshold is 0.04 and number of clusters is 2\n",
      "Silhouette Coefficient is 0.3955317358465286 when branching factor is 100 threshold is 0.04 and number of clusters is 3\n",
      "Silhouette Coefficient is 0.43685876033135 when branching factor is 100 threshold is 0.04 and number of clusters is 4\n",
      "Silhouette Coefficient is 0.406320860462869 when branching factor is 100 threshold is 0.04 and number of clusters is 5\n",
      "Silhouette Coefficient is 0.3994417218295558 when branching factor is 100 threshold is 0.04 and number of clusters is 6\n",
      "Silhouette Coefficient is 0.3904272985820553 when branching factor is 100 threshold is 0.04 and number of clusters is 7\n",
      "Silhouette Coefficient is 0.3816898557100492 when branching factor is 100 threshold is 0.04 and number of clusters is 8\n",
      "Silhouette Coefficient is 0.38920138768532886 when branching factor is 100 threshold is 0.04 and number of clusters is 9\n",
      "Silhouette Coefficient is 0.3897871976448668 when branching factor is 100 threshold is 0.04 and number of clusters is 10\n",
      "Silhouette Coefficient is 0.4629451290370877 when branching factor is 100 threshold is 0.05 and number of clusters is 2\n",
      "Silhouette Coefficient is 0.45415644899802265 when branching factor is 100 threshold is 0.05 and number of clusters is 3\n",
      "Silhouette Coefficient is 0.3893156346711082 when branching factor is 100 threshold is 0.05 and number of clusters is 4\n",
      "Silhouette Coefficient is 0.3682537991036108 when branching factor is 100 threshold is 0.05 and number of clusters is 5\n",
      "Silhouette Coefficient is 0.3953346525267779 when branching factor is 100 threshold is 0.05 and number of clusters is 6\n",
      "Silhouette Coefficient is 0.3966425677270879 when branching factor is 100 threshold is 0.05 and number of clusters is 7\n",
      "Silhouette Coefficient is 0.3854425845578105 when branching factor is 100 threshold is 0.05 and number of clusters is 8\n",
      "Silhouette Coefficient is 0.38825379872240584 when branching factor is 100 threshold is 0.05 and number of clusters is 9\n",
      "Silhouette Coefficient is 0.3777984539668589 when branching factor is 100 threshold is 0.05 and number of clusters is 10\n",
      "Silhouette Coefficient is 0.4632403532782045 when branching factor is 100 threshold is 0.06 and number of clusters is 2\n",
      "Silhouette Coefficient is 0.46350183349528423 when branching factor is 100 threshold is 0.06 and number of clusters is 3\n",
      "Silhouette Coefficient is 0.4178908518293792 when branching factor is 100 threshold is 0.06 and number of clusters is 4\n",
      "Silhouette Coefficient is 0.4025596344347106 when branching factor is 100 threshold is 0.06 and number of clusters is 5\n",
      "Silhouette Coefficient is 0.4231567372472907 when branching factor is 100 threshold is 0.06 and number of clusters is 6\n",
      "Silhouette Coefficient is 0.38099518906289626 when branching factor is 100 threshold is 0.06 and number of clusters is 7\n",
      "Silhouette Coefficient is 0.37495327659221117 when branching factor is 100 threshold is 0.06 and number of clusters is 8\n",
      "Silhouette Coefficient is 0.3603531770355344 when branching factor is 100 threshold is 0.06 and number of clusters is 9\n",
      "Silhouette Coefficient is 0.3503495090102198 when branching factor is 100 threshold is 0.06 and number of clusters is 10\n",
      "Silhouette Coefficient is 0.4354244057083427 when branching factor is 100 threshold is 0.07 and number of clusters is 2\n",
      "Silhouette Coefficient is 0.395551713159436 when branching factor is 100 threshold is 0.07 and number of clusters is 3\n",
      "Silhouette Coefficient is 0.4272775916988282 when branching factor is 100 threshold is 0.07 and number of clusters is 4\n",
      "Silhouette Coefficient is 0.4064603002551571 when branching factor is 100 threshold is 0.07 and number of clusters is 5\n",
      "Silhouette Coefficient is 0.3991825008175284 when branching factor is 100 threshold is 0.07 and number of clusters is 6\n",
      "Silhouette Coefficient is 0.36317051397740824 when branching factor is 100 threshold is 0.07 and number of clusters is 7\n",
      "Silhouette Coefficient is 0.33686349261573756 when branching factor is 100 threshold is 0.07 and number of clusters is 8\n",
      "Silhouette Coefficient is 0.3508658744226807 when branching factor is 100 threshold is 0.07 and number of clusters is 9\n",
      "Silhouette Coefficient is 0.3530852554631013 when branching factor is 100 threshold is 0.07 and number of clusters is 10\n",
      "Silhouette Coefficient is 0.4626014112571523 when branching factor is 100 threshold is 0.08 and number of clusters is 2\n",
      "Silhouette Coefficient is 0.47120965928174213 when branching factor is 100 threshold is 0.08 and number of clusters is 3\n",
      "Silhouette Coefficient is 0.4351445273542042 when branching factor is 100 threshold is 0.08 and number of clusters is 4\n",
      "Silhouette Coefficient is 0.41376588396685116 when branching factor is 100 threshold is 0.08 and number of clusters is 5\n",
      "Silhouette Coefficient is 0.41903002505519865 when branching factor is 100 threshold is 0.08 and number of clusters is 6\n",
      "Silhouette Coefficient is 0.4126422004468785 when branching factor is 100 threshold is 0.08 and number of clusters is 7\n",
      "Silhouette Coefficient is 0.38963912698212283 when branching factor is 100 threshold is 0.08 and number of clusters is 8\n",
      "Silhouette Coefficient is 0.3537348675853838 when branching factor is 100 threshold is 0.08 and number of clusters is 9\n",
      "Silhouette Coefficient is 0.33921664132375 when branching factor is 100 threshold is 0.08 and number of clusters is 10\n",
      "Silhouette Coefficient is 0.46315149917964343 when branching factor is 100 threshold is 0.09 and number of clusters is 2\n",
      "Silhouette Coefficient is 0.4657468895395402 when branching factor is 100 threshold is 0.09 and number of clusters is 3\n",
      "Silhouette Coefficient is 0.4120917587595982 when branching factor is 100 threshold is 0.09 and number of clusters is 4\n",
      "Silhouette Coefficient is 0.3760042333338133 when branching factor is 100 threshold is 0.09 and number of clusters is 5\n"
     ]
    },
    {
     "name": "stdout",
     "output_type": "stream",
     "text": [
      "Silhouette Coefficient is 0.38779805323082045 when branching factor is 100 threshold is 0.09 and number of clusters is 6\n",
      "Silhouette Coefficient is 0.3342460700314448 when branching factor is 100 threshold is 0.09 and number of clusters is 7\n",
      "Silhouette Coefficient is 0.3272529932618353 when branching factor is 100 threshold is 0.09 and number of clusters is 8\n",
      "Silhouette Coefficient is 0.3327654033530485 when branching factor is 100 threshold is 0.09 and number of clusters is 9\n",
      "Silhouette Coefficient is 0.39960305609757724 when branching factor is 100 threshold is 0.09 and number of clusters is 10\n",
      "Silhouette Coefficient is 0.4652507777463853 when branching factor is 100 threshold is 0.1 and number of clusters is 2\n",
      "Silhouette Coefficient is 0.4791155085454977 when branching factor is 100 threshold is 0.1 and number of clusters is 3\n",
      "Silhouette Coefficient is 0.44567563736843013 when branching factor is 100 threshold is 0.1 and number of clusters is 4\n",
      "Silhouette Coefficient is 0.42301766403508645 when branching factor is 100 threshold is 0.1 and number of clusters is 5\n",
      "Silhouette Coefficient is 0.3869289520893859 when branching factor is 100 threshold is 0.1 and number of clusters is 6\n",
      "Silhouette Coefficient is 0.41166105335309866 when branching factor is 100 threshold is 0.1 and number of clusters is 7\n",
      "Silhouette Coefficient is 0.41313176613178515 when branching factor is 100 threshold is 0.1 and number of clusters is 8\n",
      "Silhouette Coefficient is 0.41313176613178515 when branching factor is 100 threshold is 0.1 and number of clusters is 9\n",
      "Silhouette Coefficient is 0.41313176613178515 when branching factor is 100 threshold is 0.1 and number of clusters is 10\n"
     ]
    },
    {
     "name": "stderr",
     "output_type": "stream",
     "text": [
      "C:\\Users\\Sandeep\\anaconda3\\lib\\site-packages\\sklearn\\cluster\\_birch.py:717: ConvergenceWarning: Number of subclusters found (8) by BIRCH is less than (9). Decrease the threshold.\n",
      "  warnings.warn(\n",
      "C:\\Users\\Sandeep\\anaconda3\\lib\\site-packages\\sklearn\\cluster\\_birch.py:717: ConvergenceWarning: Number of subclusters found (8) by BIRCH is less than (10). Decrease the threshold.\n",
      "  warnings.warn(\n"
     ]
    }
   ],
   "source": [
    "# Calculate Silhouette Coefficient by number of clusters, branching factor and threshold\n",
    "#brc = Birch(branching_factor = 50, n_clusters = 3, threshold = 0.1)\n",
    "\n",
    "branching_factor_range = range(10, 101, 10)\n",
    "threshold_range = np.arange(0.01, 0.11, 0.01)\n",
    "no_of_clusters_range = range(2, 11)\n",
    "\n",
    "for i in branching_factor_range:\n",
    "    for j in threshold_range:\n",
    "        for k in no_of_clusters_range:\n",
    "            brc = Birch(branching_factor = i, n_clusters = k, threshold = j)            \n",
    "            y_predicted = brc.fit_predict(data_X)\n",
    "            silhouette_coefficient = silhouette_score(data_X, y_predicted)\n",
    "            print(\"Silhouette Coefficient is\", silhouette_coefficient, \"when branching factor is\", i, \"threshold is\", round(j, 2), \"and number of clusters is\", k)"
   ]
  },
  {
   "cell_type": "markdown",
   "id": "e6212f5b",
   "metadata": {},
   "source": [
    "Here, you can see the results of Silhouette Coefficient of BIRCH Clustering model with branching factor ranging from 10 to 100 and number of clusters ranging from 2 to 10 and threshold ranging from 0.01 to 0.1."
   ]
  }
 ],
 "metadata": {
  "kernelspec": {
   "display_name": "Python 3 (ipykernel)",
   "language": "python",
   "name": "python3"
  },
  "language_info": {
   "codemirror_mode": {
    "name": "ipython",
    "version": 3
   },
   "file_extension": ".py",
   "mimetype": "text/x-python",
   "name": "python",
   "nbconvert_exporter": "python",
   "pygments_lexer": "ipython3",
   "version": "3.9.12"
  }
 },
 "nbformat": 4,
 "nbformat_minor": 5
}
